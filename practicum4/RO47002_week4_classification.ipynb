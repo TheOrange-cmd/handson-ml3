{
 "cells": [
  {
   "cell_type": "markdown",
   "metadata": {
    "deletable": false
   },
   "source": [
    "# RO47002 Machine Learning for Robotics\n",
    "* (c) TU Delft, 2024\n",
    "* Period: 2024-2025, Q1\n",
    "* Course homepage: https://brightspace.tudelft.nl/d2l/home/682421"
   ]
  },
  {
   "cell_type": "markdown",
   "metadata": {
    "deletable": false
   },
   "source": [
    "Make sure you fill in any place that says `YOUR CODE HERE` or `YOUR ANSWER HERE`. Moreover, if you see an empty cell, please DO NOT delete it, instead run that cell as you would run all other cells. Please fill in your name(s) and other required details below:"
   ]
  },
  {
   "cell_type": "code",
   "execution_count": 1,
   "metadata": {
    "deletable": false
   },
   "outputs": [],
   "source": [
    "GROUP_NUMBER = \"23\"\n",
    "STUDENT_NAME1 = \"Daniel Rugge\"\n",
    "STUDENT_NUMBER1 = \"4713729\"\n",
    "STUDENT_NAME2 = \"Daan Bouwmeester\"\n",
    "STUDENT_NUMBER2 = \"5146143\""
   ]
  },
  {
   "cell_type": "code",
   "execution_count": 2,
   "metadata": {
    "deletable": false,
    "editable": false,
    "nbgrader": {
     "cell_type": "code",
     "checksum": "e3f76d6a626db81c484191482b101edb",
     "grade": true,
     "grade_id": "cell-c35e4c8223095209",
     "locked": true,
     "points": 0,
     "schema_version": 3,
     "solution": false,
     "task": false
    }
   },
   "outputs": [],
   "source": [
    "# Note: this block is a check that you have filled in the above information.\n",
    "# It will throw an AssertionError until all fields are filled\n",
    "assert(GROUP_NUMBER != \"\")\n",
    "assert(STUDENT_NAME1 != \"\")\n",
    "assert(STUDENT_NUMBER1 != \"\")\n",
    "assert(STUDENT_NAME2 != \"\")\n",
    "assert(STUDENT_NUMBER2 != \"\")"
   ]
  },
  {
   "cell_type": "markdown",
   "metadata": {
    "deletable": false
   },
   "source": [
    "### General announcements\n",
    "\n",
    "* Do *not* share your solutions, and do *not* copy solutions from others. By submitting your solutions, you claim that you and your lab partner alone are responsible for this code.\n",
    "\n",
    "* Do *not* email questions directly, since we want to provide everybody with the same information and avoid repeating the same answers. Instead, please post your questions regarding this assignment in the correct support forum on Brightspace, this way everybody can benefit from the response. If you do have a particular question that you want to ask directly, please use the scheduled practicum hours to ask a TA.\n",
    "\n",
    "* There is a strict deadline for each assignment. Students are responsible to ensure that they have uploaded their work in time. So, please double check that your upload succeeded to the Brightspace and avoid any late penalties.\n",
    "\n",
    "* This [Jupyter notebook](https://jupyter.org/) uses `nbgrader` to help us with automated tests. `nbgrader` will make various cells in this notebook \"uneditable\" or \"unremovable\" and gives them a special id in the cell metadata. This way, when we run our checks, the system will check the existence of the cell ids and verify the number of points and which checks must be run. While there are ways that you can edit the metadata and work around the restrictions to delete or modify these special cells, you should not do that since then our nbgrader backend will not be able to parse your notebook and give you points for the assignment. You are free to add additional cells, but if you find a cell that you cannot modify or remove, please know that this is on purpose.\n",
    "\n",
    "* This notebook will have in various places a line that throws a `NotImplementedError` exception. These are locations where the assignment requires you to adapt the code! These lines are just there as a reminder for youthat you have not yet adapted that particular piece of code, especially when you execute all the cells. Once your solution code replaced these lines, it should accordingly *not* throw any exceptions anymore.\n",
    "\n",
    "Before you turn this problem in, make sure everything runs as expected. First, **restart the kernel** (in the menubar, select Kernel$\\rightarrow$Restart) and then **run all cells** (in the menubar, select Cell$\\rightarrow$Run All)."
   ]
  },
  {
   "cell_type": "markdown",
   "metadata": {
    "deletable": false
   },
   "source": [
    "---"
   ]
  },
  {
   "cell_type": "markdown",
   "metadata": {
    "deletable": false,
    "editable": false,
    "nbgrader": {
     "cell_type": "markdown",
     "checksum": "110f0131770c2c745a205927dacb7d1d",
     "grade": false,
     "grade_id": "cell-82c5841231ad1b4b",
     "locked": true,
     "schema_version": 3,
     "solution": false,
     "task": false
    }
   },
   "source": [
    "# Practicum 4\n",
    "\n",
    "* Topic:  SVMs, Decision trees, Ensemble Methods, imitation learning\n",
    "* Before performing this practicum, work through **Book chapter(s): 5, 6, 7**\n",
    "* **Deadline**: Monday, September 30, 2024, 23:59\n",
    "\n",
    "## Objectives\n",
    "\n",
    "### Part 1 - SVMs, Decision trees, Ensemble methods\n",
    "* Discover a data set and prepare it for algorithms\n",
    "* Use SKLearn libraries to implement classifiers\n",
    "* Inspect a decision tree\n",
    "* Explore how bagging improves a very simple classifier\n",
    "\n",
    "### Part 2 - Implementations\n",
    "* Re-implement a linear SVM\n",
    "* Re-implement a voting classifier\n",
    "\n",
    "### Part 3 - Imitation Learning and Motion Planning\n",
    "* Build a dataset using an oracle\n",
    "* Use a classifier to imitate the behavior of a motion planning algorithm\n",
    "* Explore how the construction of the dataset can affect the performance of the classifier\n"
   ]
  },
  {
   "cell_type": "markdown",
   "metadata": {
    "deletable": false
   },
   "source": [
    "### Setup common python stuff\n",
    "We will start by loading a few common python dependencies"
   ]
  },
  {
   "cell_type": "code",
   "execution_count": 3,
   "metadata": {
    "deletable": false,
    "editable": false,
    "nbgrader": {
     "cell_type": "code",
     "checksum": "f5eb9db5322c7c4c306943b10cbdf8f7",
     "grade": false,
     "grade_id": "cell-9774d5992524490c",
     "locked": true,
     "schema_version": 3,
     "solution": false,
     "task": false
    }
   },
   "outputs": [],
   "source": [
    "# Python =3.10 is required\n",
    "import sys\n",
    "assert sys.version_info[:2] == (3, 10)\n",
    "\n",
    "# Scikit-Learn 1.1 is required\n",
    "import sklearn\n",
    "assert (sklearn.__version__ >= \"1.1\" and sklearn.__version__ <= \"1.3.2\")\n",
    "\n",
    "# Common imports\n",
    "import numpy as np\n",
    "import pandas as pd\n",
    "\n",
    "# to make this notebook's output stable across runs\n",
    "np.random.seed(42)\n",
    "\n",
    "# To plot pretty figures\n",
    "import matplotlib as mpl\n",
    "import matplotlib.pyplot as plt\n",
    "mpl.rc('axes', labelsize=14)\n",
    "mpl.rc('xtick', labelsize=12)\n",
    "mpl.rc('ytick', labelsize=12)\n",
    "\n",
    "import ipywidgets"
   ]
  },
  {
   "cell_type": "code",
   "execution_count": 4,
   "metadata": {
    "deletable": false,
    "editable": false,
    "nbgrader": {
     "cell_type": "code",
     "checksum": "399d593fa180c278904953d8f425795d",
     "grade": false,
     "grade_id": "cell-01840b9338f29b7a",
     "locked": true,
     "schema_version": 3,
     "solution": false,
     "task": false
    }
   },
   "outputs": [],
   "source": [
    "def plot_feature_space_function(f, X, y, axes, class_1=0, class_2=1, res=0.1):\n",
    "    \"\"\" \n",
    "    Plot the 2D feature space of the first two features of the data in X.\n",
    "    For the feature space, plot the samples in X with their class labels y,\n",
    "    and also overlay a countour plot with the function f(x) evaluated at a grid within\n",
    "    the shown region of the feature space (the size of the region is determined by the extent of the data).\n",
    "    based on https://scikit-learn.org/stable/auto_examples/ensemble/plot_voting_decision_regions.html\n",
    "    \"\"\"\n",
    "    \n",
    "    if f is not None:\n",
    "        xx, yy = np.meshgrid(np.arange(axes[0], axes[1], res),np.arange(axes[2], axes[3], res))\n",
    "\n",
    "        Z = f(np.c_[xx.ravel(), yy.ravel()])\n",
    "        Z = Z.reshape(xx.shape)\n",
    "\n",
    "        plt.contourf(xx, yy, Z, alpha=0.4)\n",
    "        \n",
    "    plt.plot(X[y==class_1,0], X[y==class_1,1], '.', label='class '+str(class_1), zorder=-1)\n",
    "    plt.plot(X[y==class_2,0], X[y==class_2,1], '.', label='class '+str(class_2), zorder=-1)\n",
    "    plt.grid('on')\n",
    "    plt.axis(axes)\n",
    "    plt.legend()"
   ]
  },
  {
   "cell_type": "code",
   "execution_count": 5,
   "metadata": {
    "deletable": false,
    "editable": false,
    "nbgrader": {
     "cell_type": "code",
     "checksum": "b361db71923bb42f75004f7172250ac8",
     "grade": false,
     "grade_id": "cell-944064faeae1cccf",
     "locked": true,
     "schema_version": 3,
     "solution": false,
     "task": false
    }
   },
   "outputs": [],
   "source": [
    "from sklearn.metrics import confusion_matrix\n",
    "from sklearn.metrics import accuracy_score\n",
    "\n",
    "def print_accuracy_confusion(y_test, y_pred, clf_name=''):\n",
    "    print(clf_name, 'accuracy score:', accuracy_score(y_test, y_pred))\n",
    "    print(clf_name, 'confusion matrix:\\n', confusion_matrix(y_test, y_pred))"
   ]
  },
  {
   "cell_type": "markdown",
   "metadata": {
    "deletable": false,
    "editable": false,
    "nbgrader": {
     "cell_type": "markdown",
     "checksum": "05ea6e549c5735277c17578ea70b8fab",
     "grade": false,
     "grade_id": "cell-2683ae0bcb36f052",
     "locked": true,
     "schema_version": 3,
     "solution": false,
     "task": false
    }
   },
   "source": [
    "## 1) Exploring and preparing a dataset\n",
    "We are going to use a dataset for classifying hand gestures from EMG signals for the first part of this practicum. The description and original source can be found here: https://www.kaggle.com/kyr7plus/emg-4\n",
    "\n",
    "This kind of data cannot only be used for controlling prosthetics, but also for other human-robot interaction applications. Here is a little example from another CoR staff member, Luka Peternel, on the use of EMG sensors in human-robot interaction https://youtu.be/eXspt7_KY8c?t=156\n",
    "\n",
    "Your first task is to read the description on the website and to figure out how the dataset is structured.\n",
    "Load the correct file (included in folder `hand_gestures` in this practicum) for each variable `df_rock`, `df_paper`, `df_scissors`, and `df_ok` using "
   ]
  },
  {
   "cell_type": "code",
   "execution_count": 6,
   "metadata": {
    "deletable": false,
    "nbgrader": {
     "cell_type": "code",
     "checksum": "0f109d6aeb9d665c6ffeb28ba55229f7",
     "grade": false,
     "grade_id": "cell-d760dcadce68aa37",
     "locked": false,
     "schema_version": 3,
     "solution": true,
     "task": false
    }
   },
   "outputs": [
    {
     "data": {
      "text/html": [
       "<div>\n",
       "<style scoped>\n",
       "    .dataframe tbody tr th:only-of-type {\n",
       "        vertical-align: middle;\n",
       "    }\n",
       "\n",
       "    .dataframe tbody tr th {\n",
       "        vertical-align: top;\n",
       "    }\n",
       "\n",
       "    .dataframe thead th {\n",
       "        text-align: right;\n",
       "    }\n",
       "</style>\n",
       "<table border=\"1\" class=\"dataframe\">\n",
       "  <thead>\n",
       "    <tr style=\"text-align: right;\">\n",
       "      <th></th>\n",
       "      <th>0</th>\n",
       "      <th>1</th>\n",
       "      <th>2</th>\n",
       "      <th>3</th>\n",
       "      <th>4</th>\n",
       "      <th>5</th>\n",
       "      <th>6</th>\n",
       "      <th>7</th>\n",
       "      <th>8</th>\n",
       "      <th>9</th>\n",
       "      <th>...</th>\n",
       "      <th>55</th>\n",
       "      <th>56</th>\n",
       "      <th>57</th>\n",
       "      <th>58</th>\n",
       "      <th>59</th>\n",
       "      <th>60</th>\n",
       "      <th>61</th>\n",
       "      <th>62</th>\n",
       "      <th>63</th>\n",
       "      <th>64</th>\n",
       "    </tr>\n",
       "  </thead>\n",
       "  <tbody>\n",
       "    <tr>\n",
       "      <th>0</th>\n",
       "      <td>26.0</td>\n",
       "      <td>4.0</td>\n",
       "      <td>5.0</td>\n",
       "      <td>8.0</td>\n",
       "      <td>-1.0</td>\n",
       "      <td>-13.0</td>\n",
       "      <td>-109.0</td>\n",
       "      <td>-66.0</td>\n",
       "      <td>-9.0</td>\n",
       "      <td>2.0</td>\n",
       "      <td>...</td>\n",
       "      <td>-28.0</td>\n",
       "      <td>61.0</td>\n",
       "      <td>4.0</td>\n",
       "      <td>8.0</td>\n",
       "      <td>5.0</td>\n",
       "      <td>4.0</td>\n",
       "      <td>-7.0</td>\n",
       "      <td>-59.0</td>\n",
       "      <td>16.0</td>\n",
       "      <td>0</td>\n",
       "    </tr>\n",
       "    <tr>\n",
       "      <th>1</th>\n",
       "      <td>-47.0</td>\n",
       "      <td>-6.0</td>\n",
       "      <td>-5.0</td>\n",
       "      <td>-7.0</td>\n",
       "      <td>13.0</td>\n",
       "      <td>-1.0</td>\n",
       "      <td>35.0</td>\n",
       "      <td>-10.0</td>\n",
       "      <td>10.0</td>\n",
       "      <td>-4.0</td>\n",
       "      <td>...</td>\n",
       "      <td>-25.0</td>\n",
       "      <td>47.0</td>\n",
       "      <td>6.0</td>\n",
       "      <td>6.0</td>\n",
       "      <td>5.0</td>\n",
       "      <td>13.0</td>\n",
       "      <td>21.0</td>\n",
       "      <td>111.0</td>\n",
       "      <td>15.0</td>\n",
       "      <td>0</td>\n",
       "    </tr>\n",
       "    <tr>\n",
       "      <th>2</th>\n",
       "      <td>-19.0</td>\n",
       "      <td>-8.0</td>\n",
       "      <td>-8.0</td>\n",
       "      <td>-8.0</td>\n",
       "      <td>-21.0</td>\n",
       "      <td>-6.0</td>\n",
       "      <td>-79.0</td>\n",
       "      <td>12.0</td>\n",
       "      <td>0.0</td>\n",
       "      <td>5.0</td>\n",
       "      <td>...</td>\n",
       "      <td>-83.0</td>\n",
       "      <td>7.0</td>\n",
       "      <td>7.0</td>\n",
       "      <td>1.0</td>\n",
       "      <td>-8.0</td>\n",
       "      <td>7.0</td>\n",
       "      <td>21.0</td>\n",
       "      <td>114.0</td>\n",
       "      <td>48.0</td>\n",
       "      <td>0</td>\n",
       "    </tr>\n",
       "    <tr>\n",
       "      <th>3</th>\n",
       "      <td>2.0</td>\n",
       "      <td>3.0</td>\n",
       "      <td>0.0</td>\n",
       "      <td>2.0</td>\n",
       "      <td>0.0</td>\n",
       "      <td>22.0</td>\n",
       "      <td>106.0</td>\n",
       "      <td>-14.0</td>\n",
       "      <td>-16.0</td>\n",
       "      <td>-2.0</td>\n",
       "      <td>...</td>\n",
       "      <td>-38.0</td>\n",
       "      <td>-11.0</td>\n",
       "      <td>4.0</td>\n",
       "      <td>7.0</td>\n",
       "      <td>11.0</td>\n",
       "      <td>33.0</td>\n",
       "      <td>39.0</td>\n",
       "      <td>119.0</td>\n",
       "      <td>43.0</td>\n",
       "      <td>0</td>\n",
       "    </tr>\n",
       "    <tr>\n",
       "      <th>4</th>\n",
       "      <td>6.0</td>\n",
       "      <td>0.0</td>\n",
       "      <td>0.0</td>\n",
       "      <td>-2.0</td>\n",
       "      <td>-14.0</td>\n",
       "      <td>10.0</td>\n",
       "      <td>-51.0</td>\n",
       "      <td>5.0</td>\n",
       "      <td>7.0</td>\n",
       "      <td>0.0</td>\n",
       "      <td>...</td>\n",
       "      <td>38.0</td>\n",
       "      <td>-35.0</td>\n",
       "      <td>-8.0</td>\n",
       "      <td>2.0</td>\n",
       "      <td>6.0</td>\n",
       "      <td>-13.0</td>\n",
       "      <td>-24.0</td>\n",
       "      <td>-112.0</td>\n",
       "      <td>-69.0</td>\n",
       "      <td>0</td>\n",
       "    </tr>\n",
       "  </tbody>\n",
       "</table>\n",
       "<p>5 rows × 65 columns</p>\n",
       "</div>"
      ],
      "text/plain": [
       "     0    1    2    3     4     5      6     7     8    9   ...    55    56  \\\n",
       "0  26.0  4.0  5.0  8.0  -1.0 -13.0 -109.0 -66.0  -9.0  2.0  ... -28.0  61.0   \n",
       "1 -47.0 -6.0 -5.0 -7.0  13.0  -1.0   35.0 -10.0  10.0 -4.0  ... -25.0  47.0   \n",
       "2 -19.0 -8.0 -8.0 -8.0 -21.0  -6.0  -79.0  12.0   0.0  5.0  ... -83.0   7.0   \n",
       "3   2.0  3.0  0.0  2.0   0.0  22.0  106.0 -14.0 -16.0 -2.0  ... -38.0 -11.0   \n",
       "4   6.0  0.0  0.0 -2.0 -14.0  10.0  -51.0   5.0   7.0  0.0  ...  38.0 -35.0   \n",
       "\n",
       "    57   58    59    60    61     62    63  64  \n",
       "0  4.0  8.0   5.0   4.0  -7.0  -59.0  16.0   0  \n",
       "1  6.0  6.0   5.0  13.0  21.0  111.0  15.0   0  \n",
       "2  7.0  1.0  -8.0   7.0  21.0  114.0  48.0   0  \n",
       "3  4.0  7.0  11.0  33.0  39.0  119.0  43.0   0  \n",
       "4 -8.0  2.0   6.0 -13.0 -24.0 -112.0 -69.0   0  \n",
       "\n",
       "[5 rows x 65 columns]"
      ]
     },
     "execution_count": 6,
     "metadata": {},
     "output_type": "execute_result"
    }
   ],
   "source": [
    "df_rock = pd.read_csv('./hand_gestures/0.csv', header = None)\n",
    "df_scissors = pd.read_csv('./hand_gestures/1.csv', header = None)\n",
    "df_paper = pd.read_csv('./hand_gestures/2.csv', header = None)\n",
    "df_ok = pd.read_csv('./hand_gestures/3.csv', header = None)\n",
    "\n",
    "df = pd.concat([df_rock, df_scissors, df_ok,  df_paper])\n",
    "\n",
    "df.head()"
   ]
  },
  {
   "cell_type": "code",
   "execution_count": 7,
   "metadata": {
    "deletable": false,
    "editable": false,
    "nbgrader": {
     "cell_type": "code",
     "checksum": "d19970c75088dc4ac404eeb91891be0b",
     "grade": true,
     "grade_id": "cell-5480d57b76e0b093",
     "locked": true,
     "points": 1,
     "schema_version": 3,
     "solution": false,
     "task": false
    }
   },
   "outputs": [],
   "source": [
    "assert df.shape[0] == 11678\n",
    "assert df.shape[1] == 65"
   ]
  },
  {
   "cell_type": "markdown",
   "metadata": {
    "deletable": false,
    "editable": false,
    "nbgrader": {
     "cell_type": "markdown",
     "checksum": "9ff6dc52ca69d91f559a9e58b102fc72",
     "grade": false,
     "grade_id": "cell-290b43b8856ab809",
     "locked": true,
     "schema_version": 3,
     "solution": false,
     "task": false
    }
   },
   "source": [
    "**1.01)** Now convert the pandas dataframe to numpy matrices `X_4class` and `y_4class` for the features and labels respectively."
   ]
  },
  {
   "cell_type": "code",
   "execution_count": 8,
   "metadata": {
    "deletable": false,
    "nbgrader": {
     "cell_type": "code",
     "checksum": "1a7dec4d4446867e52d3d576b9bf74c8",
     "grade": false,
     "grade_id": "cell-a3bccf04386cbe19",
     "locked": false,
     "schema_version": 3,
     "solution": true,
     "task": false
    }
   },
   "outputs": [],
   "source": [
    "# hint: use df.iloc.values or np.array(df)\n",
    "\n",
    "X_4class = df.iloc[:, :-1].values\n",
    "y_4class = df.iloc[:, -1].values"
   ]
  },
  {
   "cell_type": "code",
   "execution_count": 9,
   "metadata": {
    "deletable": false,
    "editable": false,
    "nbgrader": {
     "cell_type": "code",
     "checksum": "41cbf1e6d689004a43caca1216885297",
     "grade": true,
     "grade_id": "cell-e0a8b998769c2ceb",
     "locked": true,
     "points": 1,
     "schema_version": 3,
     "solution": false,
     "task": false
    }
   },
   "outputs": [],
   "source": [
    "assert X_4class.shape[0] == 11678\n",
    "assert y_4class.shape[0] == 11678\n",
    "assert y_4class.ndim == 1\n",
    "assert isinstance(X_4class, np.ndarray)\n",
    "assert isinstance(y_4class, np.ndarray)"
   ]
  },
  {
   "cell_type": "code",
   "execution_count": 10,
   "metadata": {
    "deletable": false
   },
   "outputs": [],
   "source": [
    "#if you are stuck here, uncomment the lines below to load variables\n",
    "\n",
    "# npzfile = np.load('./get_unstuck/4class.npz')\n",
    "# X_4class = npzfile['X_4class']\n",
    "# y_4class = npzfile['y_4class']"
   ]
  },
  {
   "cell_type": "markdown",
   "metadata": {
    "deletable": false,
    "editable": false,
    "nbgrader": {
     "cell_type": "markdown",
     "checksum": "9203d241e86c17dc989ee9f1f29aba2a",
     "grade": false,
     "grade_id": "cell-7c5611bacaa4778f",
     "locked": true,
     "schema_version": 3,
     "solution": false,
     "task": false
    }
   },
   "source": [
    "<div class=\"alert alert-info\">\n",
    "    <h3>🎥 <a href=\"https://brightspace.tudelft.nl/d2l/le/content/682421/viewContent/3726377/View\">Lecture 4A - SVMs (intuition)</a></h3>\n",
    "    <h3>🎥 <a href=\"https://brightspace.tudelft.nl/d2l/le/content/682421/viewContent/3726379/View\">Lecture 4B - SVMs (formalized)</a></h3>\n",
    "    <h3>🎥 <a href=\"https://brightspace.tudelft.nl/d2l/le/content/682421/viewContent/3726381/View\">Lecture 4C - SVMs (hyperparameter C)</a></h3>\n",
    "    <h3>🎥 <a href=\"https://brightspace.tudelft.nl/d2l/le/content/682421/viewContent/3726425/View\">Lecture 4E - Decision Trees</a></h3>\n",
    "    <h3>🎥 <a href=\"https://brightspace.tudelft.nl/d2l/le/content/682421/viewContent/3726427/View\">Lecture 4F - Ensemble Methods</a></h3>\n",
    "    The following requires the knowledge covered in this lecture. If you haven't watched the video yet, it's now high time to do so...\n",
    "</div>"
   ]
  },
  {
   "cell_type": "markdown",
   "metadata": {
    "deletable": false,
    "editable": false,
    "nbgrader": {
     "cell_type": "markdown",
     "checksum": "40fdecf934c63c5b8f05bc2af03663fe",
     "grade": false,
     "grade_id": "cell-7e0baaa30dfaa972",
     "locked": true,
     "schema_version": 3,
     "solution": false,
     "task": false
    }
   },
   "source": [
    "**1.02)** Let's use classifiers in the SKLearn library to create an SGD, a SVM, a DT, and a RF with the following parameters:\n",
    "- `random_state=0`\n",
    "- SGD should use the log loss.\n",
    "- The SVM must have HARD margings, set the parameter `svm_C` accordingly.\n",
    "- The DT must have at maximum 3 levels."
   ]
  },
  {
   "cell_type": "code",
   "execution_count": 11,
   "metadata": {
    "deletable": false,
    "nbgrader": {
     "cell_type": "code",
     "checksum": "0dab141344c259276f537c644abd4d1b",
     "grade": false,
     "grade_id": "cell-584f9bce4ccb27b7",
     "locked": false,
     "schema_version": 3,
     "solution": true,
     "task": false
    }
   },
   "outputs": [
    {
     "name": "stdout",
     "output_type": "stream",
     "text": [
      " accuracy score: 0.31575342465753425\n",
      " confusion matrix:\n",
      " [[282 104 128 192]\n",
      " [117 149 219 224]\n",
      " [186 130 239 209]\n",
      " [139 137 213 252]]\n",
      " accuracy score: 0.9044520547945205\n",
      " confusion matrix:\n",
      " [[662   5  33   6]\n",
      " [  5 680   3  21]\n",
      " [ 20  22 674  48]\n",
      " [ 52  42  22 625]]\n",
      " accuracy score: 0.4756849315068493\n",
      " confusion matrix:\n",
      " [[455 221  29   1]\n",
      " [  0 687  22   0]\n",
      " [ 26 495 238   5]\n",
      " [ 51 666  15   9]]\n",
      " accuracy score: 0.9154109589041096\n",
      " confusion matrix:\n",
      " [[689   0   5  12]\n",
      " [  0 640  26  43]\n",
      " [ 13   9 715  27]\n",
      " [ 46  26  40 629]]\n"
     ]
    }
   ],
   "source": [
    "# Splitting the dataset into the Training set and Test set\n",
    "from sklearn.model_selection import train_test_split\n",
    "X_4class_train, X_4class_test, y_4class_train, y_4class_test = train_test_split(X_4class, y_4class, test_size=0.25, random_state=0)\n",
    "\n",
    "# Feature Scaling\n",
    "from sklearn.preprocessing import StandardScaler\n",
    "sc_4class = StandardScaler()\n",
    "X_4class_train = sc_4class.fit_transform(X_4class_train)\n",
    "X_4class_test = sc_4class.transform(X_4class_test)\n",
    "\n",
    "\n",
    "# Define the classifiers parameters\n",
    "random_state = 0\n",
    "sgd_loss = \"log_loss\"\n",
    "svm_C = 1e10\n",
    "dt_max_depth = 3\n",
    "\n",
    "from sklearn.linear_model import SGDClassifier\n",
    "from sklearn.svm import SVC \n",
    "from sklearn.tree import DecisionTreeClassifier\n",
    "from sklearn.ensemble import RandomForestClassifier\n",
    "# Defining and fitting classifier\n",
    "sgd_clf_4class = SGDClassifier(loss=sgd_loss, random_state=random_state)\n",
    "svm_clf_4class = SVC(C=svm_C, random_state=random_state)\n",
    "dt_clf_4class = DecisionTreeClassifier(max_depth=dt_max_depth)\n",
    "rf_clf_4class = RandomForestClassifier(random_state=random_state)\n",
    "\n",
    "sgd_clf_4class.fit(X_4class_train, y_4class_train)\n",
    "svm_clf_4class.fit(X_4class_train, y_4class_train)\n",
    "dt_clf_4class.fit(X_4class_train, y_4class_train)\n",
    "rf_clf_4class.fit(X_4class_train, y_4class_train)\n",
    "\n",
    "# Predicting the Test set results\n",
    "sgd_y_4class_pred = sgd_clf_4class.predict(X_4class_test)\n",
    "svm_y_4class_pred = svm_clf_4class.predict(X_4class_test)\n",
    "dt_y_4class_pred = dt_clf_4class.predict(X_4class_test)\n",
    "rf_y_4class_pred = rf_clf_4class.predict(X_4class_test)\n",
    "\n",
    "print_accuracy_confusion(y_4class_test, sgd_y_4class_pred)\n",
    "print_accuracy_confusion(y_4class_test, svm_y_4class_pred)\n",
    "print_accuracy_confusion(y_4class_test, dt_y_4class_pred)\n",
    "print_accuracy_confusion(y_4class_test, rf_y_4class_pred)"
   ]
  },
  {
   "cell_type": "code",
   "execution_count": 12,
   "metadata": {
    "deletable": false,
    "editable": false,
    "nbgrader": {
     "cell_type": "code",
     "checksum": "acd410583b0e31233adc0f2e7a9c9f6e",
     "grade": true,
     "grade_id": "cell-d800153ad4a39d38",
     "locked": true,
     "points": 4,
     "schema_version": 3,
     "solution": false,
     "task": false
    }
   },
   "outputs": [],
   "source": [
    "# Please note: The expected outcome for the worst classifier should be better than 30%, and the others will perform even better.\n",
    "assert accuracy_score(y_4class_test, sgd_y_4class_pred) > 0.3\n",
    "assert accuracy_score(y_4class_test, svm_y_4class_pred) > 0.3\n",
    "assert accuracy_score(y_4class_test, dt_y_4class_pred) > 0.3\n",
    "assert accuracy_score(y_4class_test, rf_y_4class_pred) > 0.3\n"
   ]
  },
  {
   "cell_type": "markdown",
   "metadata": {
    "deletable": false,
    "editable": false,
    "nbgrader": {
     "cell_type": "markdown",
     "checksum": "864f6110b6bc60206da704d1d78aea04",
     "grade": false,
     "grade_id": "cell-eca889c693072167",
     "locked": true,
     "schema_version": 3,
     "solution": false,
     "task": false
    }
   },
   "source": [
    "**1.03)** You might have noticed that both SGD and DT have a poor accuracy score. Instead of tuning the hyper-parameters, we will work the data to show its influence on the methods.\n",
    "\n",
    "For that, we will consider only 2 out of the 4 classes in this dataset which are easiest to distinguish, so we can focus on binary classifiers.\n",
    "Based on the confusion matrix above, which classes are easiest to distinguish?"
   ]
  },
  {
   "cell_type": "code",
   "execution_count": 13,
   "metadata": {
    "deletable": false,
    "nbgrader": {
     "cell_type": "code",
     "checksum": "c0f6754e4293377fa42a8b244b3ed6b9",
     "grade": false,
     "grade_id": "cell-9267048a15e40452",
     "locked": false,
     "schema_version": 3,
     "solution": true,
     "task": false
    }
   },
   "outputs": [],
   "source": [
    "# Set the correct value. Ensure that feat_1 < feat_2.\n",
    "class_1 = 0\n",
    "class_2 = 1"
   ]
  },
  {
   "cell_type": "code",
   "execution_count": 14,
   "metadata": {
    "deletable": false,
    "editable": false,
    "nbgrader": {
     "cell_type": "code",
     "checksum": "59fb6447bb0ed950346a0d4ee55e0ff5",
     "grade": true,
     "grade_id": "cell-90b8878c597a79a5",
     "locked": true,
     "points": 1,
     "schema_version": 3,
     "solution": false,
     "task": false
    }
   },
   "outputs": [],
   "source": [
    "assert class_1 is not None\n",
    "assert class_2 is not None\n"
   ]
  },
  {
   "cell_type": "markdown",
   "metadata": {
    "deletable": false,
    "editable": false,
    "nbgrader": {
     "cell_type": "markdown",
     "checksum": "497bb34c4eb6a88b2171c1030336ba25",
     "grade": false,
     "grade_id": "cell-3a319305ea30ed04",
     "locked": true,
     "schema_version": 3,
     "solution": false,
     "task": false
    }
   },
   "source": [
    "**1.04)** Now we create 2 new variables `X_binary` and `y_binary` that only contain these 2 classes (the easiest to distinguish). Hint: use Boolean indexing and bitwise logic operators."
   ]
  },
  {
   "cell_type": "code",
   "execution_count": 15,
   "metadata": {
    "deletable": false,
    "nbgrader": {
     "cell_type": "code",
     "checksum": "4edfa5164f0a1ef2ac67455a2082cd10",
     "grade": false,
     "grade_id": "cell-bd1bbca0a7d4b6ad",
     "locked": false,
     "schema_version": 3,
     "solution": true,
     "task": false
    }
   },
   "outputs": [],
   "source": [
    "\n",
    "X_binary = X_4class[(y_4class == class_1) | (y_4class == class_2)]\n",
    "y_binary = y_4class[(y_4class == class_1) | (y_4class == class_2)]\n"
   ]
  },
  {
   "cell_type": "code",
   "execution_count": 16,
   "metadata": {
    "deletable": false,
    "editable": false,
    "nbgrader": {
     "cell_type": "code",
     "checksum": "f95751d67e13255563a676cd09e957b4",
     "grade": true,
     "grade_id": "cell-417e34dd424b7b85",
     "locked": true,
     "points": 1,
     "schema_version": 3,
     "solution": false,
     "task": false
    }
   },
   "outputs": [],
   "source": [
    "assert X_binary.shape[0] == 5813\n",
    "assert X_binary.shape[1] == 64\n",
    "assert y_binary.ndim == 1\n",
    "assert X_binary[0,0] == 26.0\n",
    "assert X_binary[5812,0] == -16.0\n",
    "\n",
    "# Thanks for adding these assertions, because the confusion matrices did not give a definitive answer which classes were easiest to distinguish for all models. "
   ]
  },
  {
   "cell_type": "code",
   "execution_count": 17,
   "metadata": {
    "deletable": false
   },
   "outputs": [],
   "source": [
    "#If you are stuck here, uncomment the lines below to load variables\n",
    "\n",
    "#npzfile = np.load('./get_unstuck/binary.npz')\n",
    "#X_binary = npzfile['X_binary']\n",
    "#y_binary = npzfile['y_binary']"
   ]
  },
  {
   "cell_type": "markdown",
   "metadata": {
    "deletable": false,
    "editable": false,
    "nbgrader": {
     "cell_type": "markdown",
     "checksum": "57bdbb5a311a1f910b51f25b6ed7936a",
     "grade": false,
     "grade_id": "cell-c60a28cfb2263a09",
     "locked": true,
     "schema_version": 3,
     "solution": false,
     "task": false
    }
   },
   "source": [
    "Preparing the modified dataset..."
   ]
  },
  {
   "cell_type": "code",
   "execution_count": 18,
   "metadata": {
    "deletable": false,
    "editable": false,
    "nbgrader": {
     "cell_type": "code",
     "checksum": "c39b75dab6f45801666108ac196e781d",
     "grade": false,
     "grade_id": "cell-d89b61294c92317b",
     "locked": true,
     "schema_version": 3,
     "solution": false,
     "task": false
    }
   },
   "outputs": [],
   "source": [
    "# Splitting the dataset into the Training set and Test set\n",
    "from sklearn.model_selection import train_test_split\n",
    "X_binary_train, X_binary_test, y_binary_train, y_binary_test = train_test_split(X_binary, y_binary, test_size=0.25, random_state=0)\n",
    "\n",
    "# Feature Scaling\n",
    "from sklearn.preprocessing import StandardScaler\n",
    "sc_binary = StandardScaler()\n",
    "X_binary_train = sc_binary.fit_transform(X_binary_train)\n",
    "X_binary_test = sc_binary.transform(X_binary_test)"
   ]
  },
  {
   "cell_type": "markdown",
   "metadata": {
    "deletable": false
   },
   "source": [
    "**1.05)** Now let's create classifiers to see how they perform on the new data (the parameters not defined here must be set to default).\n",
    "- `random_state = 0`\n",
    "- a SVM classifier `svm_clf_binary`, with `C=100`\n",
    "- a SGD classifier `sgd_clf_binary`, with log loss\n",
    "- a decision tree classifier `dt_clf_binary`\n",
    "- a random forest classifier `rf_clf_binary`\n",
    "\n",
    "define them, fit them, and predict the values for the test set (use the variable names in the stub that displays the results)"
   ]
  },
  {
   "cell_type": "code",
   "execution_count": 19,
   "metadata": {
    "deletable": false,
    "nbgrader": {
     "cell_type": "code",
     "checksum": "07ee995caa6ad1d9868e73252c2406ed",
     "grade": false,
     "grade_id": "cell-5a02ba5a8f8ffeaf",
     "locked": false,
     "schema_version": 3,
     "solution": true,
     "task": false
    }
   },
   "outputs": [
    {
     "name": "stdout",
     "output_type": "stream",
     "text": [
      "sgd accuracy score: 0.5845942228335625\n",
      "sgd confusion matrix:\n",
      " [[317 411]\n",
      " [193 533]]\n",
      "svm accuracy score: 0.9903713892709766\n",
      "svm confusion matrix:\n",
      " [[719   9]\n",
      " [  5 721]]\n",
      "dt accuracy score: 0.9449793672627235\n",
      "dt confusion matrix:\n",
      " [[660  68]\n",
      " [ 12 714]]\n",
      "rf accuracy score: 0.9917469050894085\n",
      "rf confusion matrix:\n",
      " [[726   2]\n",
      " [ 10 716]]\n"
     ]
    }
   ],
   "source": [
    "# Defining and fitting mutliple classifiers\n",
    "sgd_clf_binary = SGDClassifier(loss=sgd_loss, random_state=random_state)\n",
    "svm_clf_binary = SVC(C=svm_C, random_state=random_state)\n",
    "dt_clf_binary = DecisionTreeClassifier(max_depth=dt_max_depth)\n",
    "rf_clf_binary = RandomForestClassifier(random_state=random_state)\n",
    "\n",
    "sgd_clf_binary.fit(X_binary_train, y_binary_train)\n",
    "svm_clf_binary.fit(X_binary_train, y_binary_train)\n",
    "dt_clf_binary.fit(X_binary_train, y_binary_train)\n",
    "rf_clf_binary.fit(X_binary_train, y_binary_train)\n",
    "\n",
    "# Predicting the Test set results\n",
    "# ATTENTION: Remove these values and make sure to attribute the correct predictions\n",
    "sgd_y_binary_pred = sgd_clf_binary.predict(X_binary_test)\n",
    "svm_y_binary_pred = svm_clf_binary.predict(X_binary_test)\n",
    "dt_y_binary_pred = dt_clf_binary.predict(X_binary_test)\n",
    "rf_y_binary_pred = rf_clf_binary.predict(X_binary_test)\n",
    "\n",
    "# Printing results\n",
    "print_accuracy_confusion(y_binary_test, sgd_y_binary_pred, 'sgd')\n",
    "print_accuracy_confusion(y_binary_test, svm_y_binary_pred, 'svm')\n",
    "print_accuracy_confusion(y_binary_test, dt_y_binary_pred, 'dt')\n",
    "print_accuracy_confusion(y_binary_test, rf_y_binary_pred, 'rf')"
   ]
  },
  {
   "cell_type": "code",
   "execution_count": 20,
   "metadata": {
    "deletable": false,
    "editable": false,
    "nbgrader": {
     "cell_type": "code",
     "checksum": "60204d8206e20a21df4a319bd07f0674",
     "grade": true,
     "grade_id": "cell-ac4d9730cd150c2e",
     "locked": true,
     "points": 4,
     "schema_version": 3,
     "solution": false,
     "task": false
    }
   },
   "outputs": [],
   "source": [
    "# Please note: The expected outcome for the worst classifier should be better than 50%, and the others will perform even better.\n",
    "assert accuracy_score(y_binary_test, sgd_y_binary_pred) > 0.5\n",
    "assert accuracy_score(y_binary_test, svm_y_binary_pred) > 0.5\n",
    "assert accuracy_score(y_binary_test, dt_y_binary_pred) > 0.5\n",
    "assert accuracy_score(y_binary_test, rf_y_binary_pred) > 0.5\n"
   ]
  },
  {
   "cell_type": "markdown",
   "metadata": {
    "deletable": false,
    "editable": false,
    "nbgrader": {
     "cell_type": "markdown",
     "checksum": "e714e4ce7ae19cb764646e34395f78b8",
     "grade": false,
     "grade_id": "cell-a575294442eba47e",
     "locked": true,
     "schema_version": 3,
     "solution": false,
     "task": false
    }
   },
   "source": [
    "Note how the accuracy score of the DT has increased. Remember from the class, DTs are strongly impacted by the data!"
   ]
  },
  {
   "cell_type": "markdown",
   "metadata": {
    "deletable": false,
    "editable": false,
    "nbgrader": {
     "cell_type": "markdown",
     "checksum": "ab61db1b1b1ee262983ac754985f7175",
     "grade": false,
     "grade_id": "cell-9c698b3269011801",
     "locked": true,
     "schema_version": 3,
     "solution": false,
     "task": false
    }
   },
   "source": [
    "**1.06)** The dataset has 64 features, which are virtually impossible to visualize in 2D. The next steps are going to take us from those 64 features down to 2 features.\n",
    "\n",
    "Take a look again at the description of the data set. Each sample contains measurements from 8 sensors, over 8 consecutive time steps. The measurements are very noisy anyhow, so average over the 8 time steps and create a new variable `X_binary_avg`. That can be done in 2 lines with numpy functions."
   ]
  },
  {
   "cell_type": "code",
   "execution_count": 21,
   "metadata": {
    "deletable": false,
    "nbgrader": {
     "cell_type": "code",
     "checksum": "1f47c348a343f03b0904cbeb142c78eb",
     "grade": false,
     "grade_id": "cell-6f84b4e8d72dc0ce",
     "locked": false,
     "schema_version": 3,
     "solution": true,
     "task": false
    }
   },
   "outputs": [],
   "source": [
    "X_binary_avg = np.mean(X_binary.reshape(X_binary.shape[0], -1, 8), axis = 1)"
   ]
  },
  {
   "cell_type": "code",
   "execution_count": 22,
   "metadata": {
    "deletable": false,
    "editable": false,
    "nbgrader": {
     "cell_type": "code",
     "checksum": "06b92dbf0d4e3e7fcfff100fe344955c",
     "grade": true,
     "grade_id": "cell-c3036fe1dc2b6a34",
     "locked": true,
     "points": 2,
     "schema_version": 3,
     "solution": false,
     "task": false
    }
   },
   "outputs": [],
   "source": [
    "assert X_binary_avg.shape[0] == 5813\n",
    "assert X_binary_avg.shape[1] == 8\n",
    "assert X_binary_avg[0,0] == 8\n",
    "assert X_binary_avg[5812,0] == 1.375"
   ]
  },
  {
   "cell_type": "code",
   "execution_count": 23,
   "metadata": {
    "deletable": false
   },
   "outputs": [],
   "source": [
    "#if you are stuck here, uncomment the lines below to load variables\n",
    "\n",
    "# npzfile = np.load('./get_unstuck/binary_avg.npz')\n",
    "# X_binary_avg= npzfile['X_binary_avg']"
   ]
  },
  {
   "cell_type": "markdown",
   "metadata": {
    "deletable": false,
    "editable": false,
    "nbgrader": {
     "cell_type": "markdown",
     "checksum": "5643f44605016bc20fa28c4c7dac6b9a",
     "grade": false,
     "grade_id": "cell-56be2594481a72be",
     "locked": true,
     "schema_version": 3,
     "solution": false,
     "task": false
    }
   },
   "source": [
    "**1.07)** Explore manually the dataset to see which features clearly distinguish the 2 classes (although it is not be possible to completely eliminate the overlap between classes). The function below can help with that."
   ]
  },
  {
   "cell_type": "code",
   "execution_count": 24,
   "metadata": {
    "deletable": false,
    "editable": false,
    "nbgrader": {
     "cell_type": "code",
     "checksum": "49d0081a883e11efdc3efd849a8e65fc",
     "grade": false,
     "grade_id": "cell-d6c77c8af4ce919c",
     "locked": true,
     "schema_version": 3,
     "solution": false,
     "task": false
    }
   },
   "outputs": [],
   "source": [
    "def plot_data(X, y, feat_1, feat_2, class_1=0, class_2=1):\n",
    "    plt.plot(X[y==class_1,feat_1], X[y==class_1,feat_2], '.', label='class '+str(class_1))\n",
    "    plt.plot(X[y==class_2,feat_1], X[y==class_2,feat_2], '.', label='class '+str(class_2))\n",
    "    plt.grid('on')\n",
    "    plt.axis('equal')\n",
    "    plt.xlabel('feature ' + str(feat_1))\n",
    "    plt.ylabel('feature ' + str(feat_2))\n",
    "    plt.legend()"
   ]
  },
  {
   "cell_type": "code",
   "execution_count": 25,
   "metadata": {
    "deletable": false
   },
   "outputs": [
    {
     "data": {
      "image/png": "[encoded data removed]",
      "text/plain": [
       "<Figure size 1200x600 with 64 Axes>"
      ]
     },
     "metadata": {},
     "output_type": "display_data"
    }
   ],
   "source": [
    "fig, axs = plt.subplots(8, 8, figsize=(12, 6))\n",
    "X = X_binary_avg\n",
    "y = y_binary\n",
    "for i in range(8):\n",
    "    for j in range(8):\n",
    "        if i != j:\n",
    "                feat_1 = i\n",
    "                feat_2 = j\n",
    "                axs[i,j].plot(X[y==class_1,feat_1], X[y==class_1,feat_2], '.', label='class '+str(class_1))\n",
    "                axs[i,j].plot(X[y==class_2,feat_1], X[y==class_2,feat_2], '.', label='class '+str(class_2))\n",
    "                axs[i,j].grid('on')\n",
    "                axs[i,j].axis('equal')\n",
    "                # axs[i,j].xlabel('feature ' + str(feat_1))\n",
    "                # axs[i,j].ylabel('feature ' + str(feat_2))\n",
    "# plt.legend()\n"
   ]
  },
  {
   "cell_type": "code",
   "execution_count": 26,
   "metadata": {
    "deletable": false,
    "nbgrader": {
     "cell_type": "code",
     "checksum": "e971b860f263d6c0b1e1a1a18b9397fb",
     "grade": false,
     "grade_id": "cell-a85d7de8873536d2",
     "locked": false,
     "schema_version": 3,
     "solution": true,
     "task": false
    }
   },
   "outputs": [
    {
     "data": {
      "image/png": "[encoded data removed]",
      "text/plain": [
       "<Figure size 640x480 with 1 Axes>"
      ]
     },
     "metadata": {},
     "output_type": "display_data"
    }
   ],
   "source": [
    "# Add the correct values here. Ensure that feat_1 < feat_2.\n",
    "feat_1 = 3\n",
    "feat_2 = 6\n",
    "\n",
    "plot_data(X_binary_avg, y_binary, feat_1, feat_2)"
   ]
  },
  {
   "cell_type": "code",
   "execution_count": 27,
   "metadata": {
    "deletable": false,
    "editable": false,
    "nbgrader": {
     "cell_type": "code",
     "checksum": "64ec4b86ddb3055093d7fb1e9138c0bd",
     "grade": true,
     "grade_id": "cell-6ca7aa733bf6eb5c",
     "locked": true,
     "points": 1,
     "schema_version": 3,
     "solution": false,
     "task": false
    }
   },
   "outputs": [],
   "source": [
    "assert feat_1 is not None\n",
    "assert feat_2 is not None\n"
   ]
  },
  {
   "cell_type": "markdown",
   "metadata": {
    "deletable": false
   },
   "source": [
    "**1.08)** Instead of checking the feature spaces manually (which is not always possible), we can also use an auto-generated decision tree to help us decide on the most informative features."
   ]
  },
  {
   "cell_type": "code",
   "execution_count": 28,
   "metadata": {
    "deletable": false,
    "editable": false,
    "nbgrader": {
     "cell_type": "code",
     "checksum": "a23d88d2f026bd0648145b680d3dfad6",
     "grade": false,
     "grade_id": "cell-5982ab5b77789271",
     "locked": true,
     "schema_version": 3,
     "solution": false,
     "task": false
    }
   },
   "outputs": [
    {
     "name": "stdout",
     "output_type": "stream",
     "text": [
      "dt_simple accuracy score: 0.9044016506189821\n",
      "dt_simple confusion matrix:\n",
      " [[615 113]\n",
      " [ 26 700]]\n"
     ]
    }
   ],
   "source": [
    "X_simple_train, X_simple_test, y_simple_train, y_simple_test = train_test_split(X_binary_avg, y_binary, test_size=0.25, random_state=0)\n",
    "\n",
    "from sklearn.tree import DecisionTreeClassifier\n",
    "dt_clf_simple = DecisionTreeClassifier(random_state=0, max_depth=3)\n",
    "dt_clf_simple.fit(X_simple_train, y_simple_train)\n",
    "dt_y_simple_pred = dt_clf_simple.predict(X_simple_test)\n",
    "\n",
    "print_accuracy_confusion(y_simple_test, dt_y_simple_pred, 'dt_simple')"
   ]
  },
  {
   "cell_type": "code",
   "execution_count": 29,
   "metadata": {
    "deletable": false,
    "editable": false,
    "nbgrader": {
     "cell_type": "code",
     "checksum": "508c43685145238a9175338ea3541aa2",
     "grade": false,
     "grade_id": "cell-1965177da9e27e0a",
     "locked": true,
     "schema_version": 3,
     "solution": false,
     "task": false
    }
   },
   "outputs": [
    {
     "data": {
      "image/svg+xml": [
       "<?xml version=\"1.0\" encoding=\"UTF-8\" standalone=\"no\"?>\n",
       "<!DOCTYPE svg PUBLIC \"-//W3C//DTD SVG 1.1//EN\"\n",
       " \"http://www.w3.org/Graphics/SVG/1.1/DTD/svg11.dtd\">\n",
       "<!-- Generated by graphviz version 12.0.0 (0)\n",
       " -->\n",
       "<!-- Title: Tree Pages: 1 -->\n",
       "<svg width=\"1014pt\" height=\"447pt\"\n",
       " viewBox=\"0.00 0.00 1013.75 447.25\" xmlns=\"http://www.w3.org/2000/svg\" xmlns:xlink=\"http://www.w3.org/1999/xlink\">\n",
       "<g id=\"graph0\" class=\"graph\" transform=\"scale(1 1) rotate(0) translate(4 443.25)\">\n",
       "<title>Tree</title>\n",
       "<polygon fill=\"white\" stroke=\"none\" points=\"-4,4 -4,-443.25 1009.75,-443.25 1009.75,4 -4,4\"/>\n",
       "<!-- 0 -->\n",
       "<g id=\"node1\" class=\"node\">\n",
       "<title>0</title>\n",
       "<path fill=\"#ffffff\" stroke=\"black\" d=\"M523,-439.25C523,-439.25 408,-439.25 408,-439.25 402,-439.25 396,-433.25 396,-427.25 396,-427.25 396,-364.5 396,-364.5 396,-358.5 402,-352.5 408,-352.5 408,-352.5 523,-352.5 523,-352.5 529,-352.5 535,-358.5 535,-364.5 535,-364.5 535,-427.25 535,-427.25 535,-433.25 529,-439.25 523,-439.25\"/>\n",
       "<text text-anchor=\"middle\" x=\"465.5\" y=\"-421.95\" font-family=\"Helvetica,sans-Serif\" font-size=\"14.00\">x[6] &lt;= &#45;2.312</text>\n",
       "<text text-anchor=\"middle\" x=\"465.5\" y=\"-406.2\" font-family=\"Helvetica,sans-Serif\" font-size=\"14.00\">gini = 0.5</text>\n",
       "<text text-anchor=\"middle\" x=\"465.5\" y=\"-390.45\" font-family=\"Helvetica,sans-Serif\" font-size=\"14.00\">samples = 4359</text>\n",
       "<text text-anchor=\"middle\" x=\"465.5\" y=\"-374.7\" font-family=\"Helvetica,sans-Serif\" font-size=\"14.00\">value = [2182, 2177]</text>\n",
       "<text text-anchor=\"middle\" x=\"465.5\" y=\"-358.95\" font-family=\"Helvetica,sans-Serif\" font-size=\"14.00\">class = 0</text>\n",
       "</g>\n",
       "<!-- 1 -->\n",
       "<g id=\"node2\" class=\"node\">\n",
       "<title>1</title>\n",
       "<path fill=\"#e6833d\" stroke=\"black\" d=\"M399.5,-316.5C399.5,-316.5 299.5,-316.5 299.5,-316.5 293.5,-316.5 287.5,-310.5 287.5,-304.5 287.5,-304.5 287.5,-241.75 287.5,-241.75 287.5,-235.75 293.5,-229.75 299.5,-229.75 299.5,-229.75 399.5,-229.75 399.5,-229.75 405.5,-229.75 411.5,-235.75 411.5,-241.75 411.5,-241.75 411.5,-304.5 411.5,-304.5 411.5,-310.5 405.5,-316.5 399.5,-316.5\"/>\n",
       "<text text-anchor=\"middle\" x=\"349.5\" y=\"-299.2\" font-family=\"Helvetica,sans-Serif\" font-size=\"14.00\">x[6] &lt;= &#45;2.812</text>\n",
       "<text text-anchor=\"middle\" x=\"349.5\" y=\"-283.45\" font-family=\"Helvetica,sans-Serif\" font-size=\"14.00\">gini = 0.038</text>\n",
       "<text text-anchor=\"middle\" x=\"349.5\" y=\"-267.7\" font-family=\"Helvetica,sans-Serif\" font-size=\"14.00\">samples = 1096</text>\n",
       "<text text-anchor=\"middle\" x=\"349.5\" y=\"-251.95\" font-family=\"Helvetica,sans-Serif\" font-size=\"14.00\">value = [1075, 21]</text>\n",
       "<text text-anchor=\"middle\" x=\"349.5\" y=\"-236.2\" font-family=\"Helvetica,sans-Serif\" font-size=\"14.00\">class = 0</text>\n",
       "</g>\n",
       "<!-- 0&#45;&gt;1 -->\n",
       "<g id=\"edge1\" class=\"edge\">\n",
       "<title>0&#45;&gt;1</title>\n",
       "<path fill=\"none\" stroke=\"black\" d=\"M424.6,-352.3C416.11,-343.47 407.09,-334.07 398.34,-324.97\"/>\n",
       "<polygon fill=\"black\" stroke=\"black\" points=\"400.92,-322.6 391.47,-317.81 395.87,-327.45 400.92,-322.6\"/>\n",
       "<text text-anchor=\"middle\" x=\"389.92\" y=\"-336.29\" font-family=\"Helvetica,sans-Serif\" font-size=\"14.00\">True</text>\n",
       "</g>\n",
       "<!-- 8 -->\n",
       "<g id=\"node9\" class=\"node\">\n",
       "<title>8</title>\n",
       "<path fill=\"#9fcff2\" stroke=\"black\" d=\"M664.62,-316.5C664.62,-316.5 550.38,-316.5 550.38,-316.5 544.38,-316.5 538.38,-310.5 538.38,-304.5 538.38,-304.5 538.38,-241.75 538.38,-241.75 538.38,-235.75 544.38,-229.75 550.38,-229.75 550.38,-229.75 664.62,-229.75 664.62,-229.75 670.62,-229.75 676.62,-235.75 676.62,-241.75 676.62,-241.75 676.62,-304.5 676.62,-304.5 676.62,-310.5 670.62,-316.5 664.62,-316.5\"/>\n",
       "<text text-anchor=\"middle\" x=\"607.5\" y=\"-299.2\" font-family=\"Helvetica,sans-Serif\" font-size=\"14.00\">x[6] &lt;= 0.812</text>\n",
       "<text text-anchor=\"middle\" x=\"607.5\" y=\"-283.45\" font-family=\"Helvetica,sans-Serif\" font-size=\"14.00\">gini = 0.448</text>\n",
       "<text text-anchor=\"middle\" x=\"607.5\" y=\"-267.7\" font-family=\"Helvetica,sans-Serif\" font-size=\"14.00\">samples = 3263</text>\n",
       "<text text-anchor=\"middle\" x=\"607.5\" y=\"-251.95\" font-family=\"Helvetica,sans-Serif\" font-size=\"14.00\">value = [1107, 2156]</text>\n",
       "<text text-anchor=\"middle\" x=\"607.5\" y=\"-236.2\" font-family=\"Helvetica,sans-Serif\" font-size=\"14.00\">class = 1</text>\n",
       "</g>\n",
       "<!-- 0&#45;&gt;8 -->\n",
       "<g id=\"edge8\" class=\"edge\">\n",
       "<title>0&#45;&gt;8</title>\n",
       "<path fill=\"none\" stroke=\"black\" d=\"M515.56,-352.3C526.27,-343.19 537.68,-333.49 548.69,-324.13\"/>\n",
       "<polygon fill=\"black\" stroke=\"black\" points=\"550.91,-326.84 556.26,-317.7 546.37,-321.51 550.91,-326.84\"/>\n",
       "<text text-anchor=\"middle\" x=\"555.39\" y=\"-336.21\" font-family=\"Helvetica,sans-Serif\" font-size=\"14.00\">False</text>\n",
       "</g>\n",
       "<!-- 2 -->\n",
       "<g id=\"node3\" class=\"node\">\n",
       "<title>2</title>\n",
       "<path fill=\"#e5823a\" stroke=\"black\" d=\"M223.75,-193.75C223.75,-193.75 131.25,-193.75 131.25,-193.75 125.25,-193.75 119.25,-187.75 119.25,-181.75 119.25,-181.75 119.25,-119 119.25,-119 119.25,-113 125.25,-107 131.25,-107 131.25,-107 223.75,-107 223.75,-107 229.75,-107 235.75,-113 235.75,-119 235.75,-119 235.75,-181.75 235.75,-181.75 235.75,-187.75 229.75,-193.75 223.75,-193.75\"/>\n",
       "<text text-anchor=\"middle\" x=\"177.5\" y=\"-176.45\" font-family=\"Helvetica,sans-Serif\" font-size=\"14.00\">x[6] &lt;= &#45;3.312</text>\n",
       "<text text-anchor=\"middle\" x=\"177.5\" y=\"-160.7\" font-family=\"Helvetica,sans-Serif\" font-size=\"14.00\">gini = 0.014</text>\n",
       "<text text-anchor=\"middle\" x=\"177.5\" y=\"-144.95\" font-family=\"Helvetica,sans-Serif\" font-size=\"14.00\">samples = 1008</text>\n",
       "<text text-anchor=\"middle\" x=\"177.5\" y=\"-129.2\" font-family=\"Helvetica,sans-Serif\" font-size=\"14.00\">value = [1001, 7]</text>\n",
       "<text text-anchor=\"middle\" x=\"177.5\" y=\"-113.45\" font-family=\"Helvetica,sans-Serif\" font-size=\"14.00\">class = 0</text>\n",
       "</g>\n",
       "<!-- 1&#45;&gt;2 -->\n",
       "<g id=\"edge2\" class=\"edge\">\n",
       "<title>1&#45;&gt;2</title>\n",
       "<path fill=\"none\" stroke=\"black\" d=\"M288.86,-229.55C274.82,-219.69 259.78,-209.14 245.45,-199.08\"/>\n",
       "<polygon fill=\"black\" stroke=\"black\" points=\"247.58,-196.3 237.39,-193.42 243.56,-202.03 247.58,-196.3\"/>\n",
       "</g>\n",
       "<!-- 5 -->\n",
       "<g id=\"node6\" class=\"node\">\n",
       "<title>5</title>\n",
       "<path fill=\"#ea995e\" stroke=\"black\" d=\"M392,-193.75C392,-193.75 307,-193.75 307,-193.75 301,-193.75 295,-187.75 295,-181.75 295,-181.75 295,-119 295,-119 295,-113 301,-107 307,-107 307,-107 392,-107 392,-107 398,-107 404,-113 404,-119 404,-119 404,-181.75 404,-181.75 404,-187.75 398,-193.75 392,-193.75\"/>\n",
       "<text text-anchor=\"middle\" x=\"349.5\" y=\"-176.45\" font-family=\"Helvetica,sans-Serif\" font-size=\"14.00\">x[4] &lt;= &#45;4.25</text>\n",
       "<text text-anchor=\"middle\" x=\"349.5\" y=\"-160.7\" font-family=\"Helvetica,sans-Serif\" font-size=\"14.00\">gini = 0.268</text>\n",
       "<text text-anchor=\"middle\" x=\"349.5\" y=\"-144.95\" font-family=\"Helvetica,sans-Serif\" font-size=\"14.00\">samples = 88</text>\n",
       "<text text-anchor=\"middle\" x=\"349.5\" y=\"-129.2\" font-family=\"Helvetica,sans-Serif\" font-size=\"14.00\">value = [74, 14]</text>\n",
       "<text text-anchor=\"middle\" x=\"349.5\" y=\"-113.45\" font-family=\"Helvetica,sans-Serif\" font-size=\"14.00\">class = 0</text>\n",
       "</g>\n",
       "<!-- 1&#45;&gt;5 -->\n",
       "<g id=\"edge5\" class=\"edge\">\n",
       "<title>1&#45;&gt;5</title>\n",
       "<path fill=\"none\" stroke=\"black\" d=\"M349.5,-229.55C349.5,-221.71 349.5,-213.42 349.5,-205.29\"/>\n",
       "<polygon fill=\"black\" stroke=\"black\" points=\"353,-205.48 349.5,-195.48 346,-205.48 353,-205.48\"/>\n",
       "</g>\n",
       "<!-- 3 -->\n",
       "<g id=\"node4\" class=\"node\">\n",
       "<title>3</title>\n",
       "<path fill=\"#e58139\" stroke=\"black\" d=\"M97,-71C97,-71 12,-71 12,-71 6,-71 0,-65 0,-59 0,-59 0,-12 0,-12 0,-6 6,0 12,0 12,0 97,0 97,0 103,0 109,-6 109,-12 109,-12 109,-59 109,-59 109,-65 103,-71 97,-71\"/>\n",
       "<text text-anchor=\"middle\" x=\"54.5\" y=\"-53.7\" font-family=\"Helvetica,sans-Serif\" font-size=\"14.00\">gini = 0.004</text>\n",
       "<text text-anchor=\"middle\" x=\"54.5\" y=\"-37.95\" font-family=\"Helvetica,sans-Serif\" font-size=\"14.00\">samples = 934</text>\n",
       "<text text-anchor=\"middle\" x=\"54.5\" y=\"-22.2\" font-family=\"Helvetica,sans-Serif\" font-size=\"14.00\">value = [932, 2]</text>\n",
       "<text text-anchor=\"middle\" x=\"54.5\" y=\"-6.45\" font-family=\"Helvetica,sans-Serif\" font-size=\"14.00\">class = 0</text>\n",
       "</g>\n",
       "<!-- 2&#45;&gt;3 -->\n",
       "<g id=\"edge3\" class=\"edge\">\n",
       "<title>2&#45;&gt;3</title>\n",
       "<path fill=\"none\" stroke=\"black\" d=\"M131,-106.7C121.01,-97.53 110.45,-87.85 100.48,-78.7\"/>\n",
       "<polygon fill=\"black\" stroke=\"black\" points=\"103.12,-76.36 93.38,-72.18 98.38,-81.52 103.12,-76.36\"/>\n",
       "</g>\n",
       "<!-- 4 -->\n",
       "<g id=\"node5\" class=\"node\">\n",
       "<title>4</title>\n",
       "<path fill=\"#e78a47\" stroke=\"black\" d=\"M216.25,-71C216.25,-71 138.75,-71 138.75,-71 132.75,-71 126.75,-65 126.75,-59 126.75,-59 126.75,-12 126.75,-12 126.75,-6 132.75,0 138.75,0 138.75,0 216.25,0 216.25,0 222.25,0 228.25,-6 228.25,-12 228.25,-12 228.25,-59 228.25,-59 228.25,-65 222.25,-71 216.25,-71\"/>\n",
       "<text text-anchor=\"middle\" x=\"177.5\" y=\"-53.7\" font-family=\"Helvetica,sans-Serif\" font-size=\"14.00\">gini = 0.126</text>\n",
       "<text text-anchor=\"middle\" x=\"177.5\" y=\"-37.95\" font-family=\"Helvetica,sans-Serif\" font-size=\"14.00\">samples = 74</text>\n",
       "<text text-anchor=\"middle\" x=\"177.5\" y=\"-22.2\" font-family=\"Helvetica,sans-Serif\" font-size=\"14.00\">value = [69, 5]</text>\n",
       "<text text-anchor=\"middle\" x=\"177.5\" y=\"-6.45\" font-family=\"Helvetica,sans-Serif\" font-size=\"14.00\">class = 0</text>\n",
       "</g>\n",
       "<!-- 2&#45;&gt;4 -->\n",
       "<g id=\"edge4\" class=\"edge\">\n",
       "<title>2&#45;&gt;4</title>\n",
       "<path fill=\"none\" stroke=\"black\" d=\"M177.5,-106.7C177.5,-98.82 177.5,-90.55 177.5,-82.57\"/>\n",
       "<polygon fill=\"black\" stroke=\"black\" points=\"181,-82.67 177.5,-72.67 174,-82.67 181,-82.67\"/>\n",
       "</g>\n",
       "<!-- 6 -->\n",
       "<g id=\"node7\" class=\"node\">\n",
       "<title>6</title>\n",
       "<path fill=\"#399de5\" stroke=\"black\" d=\"M328.5,-71C328.5,-71 258.5,-71 258.5,-71 252.5,-71 246.5,-65 246.5,-59 246.5,-59 246.5,-12 246.5,-12 246.5,-6 252.5,0 258.5,0 258.5,0 328.5,0 328.5,0 334.5,0 340.5,-6 340.5,-12 340.5,-12 340.5,-59 340.5,-59 340.5,-65 334.5,-71 328.5,-71\"/>\n",
       "<text text-anchor=\"middle\" x=\"293.5\" y=\"-53.7\" font-family=\"Helvetica,sans-Serif\" font-size=\"14.00\">gini = 0.0</text>\n",
       "<text text-anchor=\"middle\" x=\"293.5\" y=\"-37.95\" font-family=\"Helvetica,sans-Serif\" font-size=\"14.00\">samples = 4</text>\n",
       "<text text-anchor=\"middle\" x=\"293.5\" y=\"-22.2\" font-family=\"Helvetica,sans-Serif\" font-size=\"14.00\">value = [0, 4]</text>\n",
       "<text text-anchor=\"middle\" x=\"293.5\" y=\"-6.45\" font-family=\"Helvetica,sans-Serif\" font-size=\"14.00\">class = 1</text>\n",
       "</g>\n",
       "<!-- 5&#45;&gt;6 -->\n",
       "<g id=\"edge6\" class=\"edge\">\n",
       "<title>5&#45;&gt;6</title>\n",
       "<path fill=\"none\" stroke=\"black\" d=\"M328.33,-106.7C324.23,-98.45 319.93,-89.78 315.8,-81.46\"/>\n",
       "<polygon fill=\"black\" stroke=\"black\" points=\"318.95,-79.92 311.37,-72.51 312.68,-83.03 318.95,-79.92\"/>\n",
       "</g>\n",
       "<!-- 7 -->\n",
       "<g id=\"node8\" class=\"node\">\n",
       "<title>7</title>\n",
       "<path fill=\"#e99254\" stroke=\"black\" d=\"M456,-71C456,-71 371,-71 371,-71 365,-71 359,-65 359,-59 359,-59 359,-12 359,-12 359,-6 365,0 371,0 371,0 456,0 456,0 462,0 468,-6 468,-12 468,-12 468,-59 468,-59 468,-65 462,-71 456,-71\"/>\n",
       "<text text-anchor=\"middle\" x=\"413.5\" y=\"-53.7\" font-family=\"Helvetica,sans-Serif\" font-size=\"14.00\">gini = 0.21</text>\n",
       "<text text-anchor=\"middle\" x=\"413.5\" y=\"-37.95\" font-family=\"Helvetica,sans-Serif\" font-size=\"14.00\">samples = 84</text>\n",
       "<text text-anchor=\"middle\" x=\"413.5\" y=\"-22.2\" font-family=\"Helvetica,sans-Serif\" font-size=\"14.00\">value = [74, 10]</text>\n",
       "<text text-anchor=\"middle\" x=\"413.5\" y=\"-6.45\" font-family=\"Helvetica,sans-Serif\" font-size=\"14.00\">class = 0</text>\n",
       "</g>\n",
       "<!-- 5&#45;&gt;7 -->\n",
       "<g id=\"edge7\" class=\"edge\">\n",
       "<title>5&#45;&gt;7</title>\n",
       "<path fill=\"none\" stroke=\"black\" d=\"M373.7,-106.7C378.48,-98.27 383.51,-89.39 388.32,-80.9\"/>\n",
       "<polygon fill=\"black\" stroke=\"black\" points=\"391.22,-82.9 393.1,-72.47 385.13,-79.45 391.22,-82.9\"/>\n",
       "</g>\n",
       "<!-- 9 -->\n",
       "<g id=\"node10\" class=\"node\">\n",
       "<title>9</title>\n",
       "<path fill=\"#5fb0ea\" stroke=\"black\" d=\"M660.88,-193.75C660.88,-193.75 554.12,-193.75 554.12,-193.75 548.12,-193.75 542.12,-187.75 542.12,-181.75 542.12,-181.75 542.12,-119 542.12,-119 542.12,-113 548.12,-107 554.12,-107 554.12,-107 660.88,-107 660.88,-107 666.88,-107 672.88,-113 672.88,-119 672.88,-119 672.88,-181.75 672.88,-181.75 672.88,-187.75 666.88,-193.75 660.88,-193.75\"/>\n",
       "<text text-anchor=\"middle\" x=\"607.5\" y=\"-176.45\" font-family=\"Helvetica,sans-Serif\" font-size=\"14.00\">x[3] &lt;= &#45;2.438</text>\n",
       "<text text-anchor=\"middle\" x=\"607.5\" y=\"-160.7\" font-family=\"Helvetica,sans-Serif\" font-size=\"14.00\">gini = 0.269</text>\n",
       "<text text-anchor=\"middle\" x=\"607.5\" y=\"-144.95\" font-family=\"Helvetica,sans-Serif\" font-size=\"14.00\">samples = 2520</text>\n",
       "<text text-anchor=\"middle\" x=\"607.5\" y=\"-129.2\" font-family=\"Helvetica,sans-Serif\" font-size=\"14.00\">value = [403, 2117]</text>\n",
       "<text text-anchor=\"middle\" x=\"607.5\" y=\"-113.45\" font-family=\"Helvetica,sans-Serif\" font-size=\"14.00\">class = 1</text>\n",
       "</g>\n",
       "<!-- 8&#45;&gt;9 -->\n",
       "<g id=\"edge9\" class=\"edge\">\n",
       "<title>8&#45;&gt;9</title>\n",
       "<path fill=\"none\" stroke=\"black\" d=\"M607.5,-229.55C607.5,-221.71 607.5,-213.42 607.5,-205.29\"/>\n",
       "<polygon fill=\"black\" stroke=\"black\" points=\"611,-205.48 607.5,-195.48 604,-205.48 611,-205.48\"/>\n",
       "</g>\n",
       "<!-- 12 -->\n",
       "<g id=\"node13\" class=\"node\">\n",
       "<title>12</title>\n",
       "<path fill=\"#e68844\" stroke=\"black\" d=\"M862.75,-193.75C862.75,-193.75 770.25,-193.75 770.25,-193.75 764.25,-193.75 758.25,-187.75 758.25,-181.75 758.25,-181.75 758.25,-119 758.25,-119 758.25,-113 764.25,-107 770.25,-107 770.25,-107 862.75,-107 862.75,-107 868.75,-107 874.75,-113 874.75,-119 874.75,-119 874.75,-181.75 874.75,-181.75 874.75,-187.75 868.75,-193.75 862.75,-193.75\"/>\n",
       "<text text-anchor=\"middle\" x=\"816.5\" y=\"-176.45\" font-family=\"Helvetica,sans-Serif\" font-size=\"14.00\">x[6] &lt;= 1.062</text>\n",
       "<text text-anchor=\"middle\" x=\"816.5\" y=\"-160.7\" font-family=\"Helvetica,sans-Serif\" font-size=\"14.00\">gini = 0.099</text>\n",
       "<text text-anchor=\"middle\" x=\"816.5\" y=\"-144.95\" font-family=\"Helvetica,sans-Serif\" font-size=\"14.00\">samples = 743</text>\n",
       "<text text-anchor=\"middle\" x=\"816.5\" y=\"-129.2\" font-family=\"Helvetica,sans-Serif\" font-size=\"14.00\">value = [704, 39]</text>\n",
       "<text text-anchor=\"middle\" x=\"816.5\" y=\"-113.45\" font-family=\"Helvetica,sans-Serif\" font-size=\"14.00\">class = 0</text>\n",
       "</g>\n",
       "<!-- 8&#45;&gt;12 -->\n",
       "<g id=\"edge12\" class=\"edge\">\n",
       "<title>8&#45;&gt;12</title>\n",
       "<path fill=\"none\" stroke=\"black\" d=\"M677.09,-231.92C699.95,-218.71 725.33,-204.05 748.1,-190.89\"/>\n",
       "<polygon fill=\"black\" stroke=\"black\" points=\"749.81,-193.95 756.71,-185.92 746.3,-187.89 749.81,-193.95\"/>\n",
       "</g>\n",
       "<!-- 10 -->\n",
       "<g id=\"node11\" class=\"node\">\n",
       "<title>10</title>\n",
       "<path fill=\"#f2c2a0\" stroke=\"black\" d=\"M583,-71C583,-71 498,-71 498,-71 492,-71 486,-65 486,-59 486,-59 486,-12 486,-12 486,-6 492,0 498,0 498,0 583,0 583,0 589,0 595,-6 595,-12 595,-12 595,-59 595,-59 595,-65 589,-71 583,-71\"/>\n",
       "<text text-anchor=\"middle\" x=\"540.5\" y=\"-53.7\" font-family=\"Helvetica,sans-Serif\" font-size=\"14.00\">gini = 0.45</text>\n",
       "<text text-anchor=\"middle\" x=\"540.5\" y=\"-37.95\" font-family=\"Helvetica,sans-Serif\" font-size=\"14.00\">samples = 85</text>\n",
       "<text text-anchor=\"middle\" x=\"540.5\" y=\"-22.2\" font-family=\"Helvetica,sans-Serif\" font-size=\"14.00\">value = [56, 29]</text>\n",
       "<text text-anchor=\"middle\" x=\"540.5\" y=\"-6.45\" font-family=\"Helvetica,sans-Serif\" font-size=\"14.00\">class = 0</text>\n",
       "</g>\n",
       "<!-- 9&#45;&gt;10 -->\n",
       "<g id=\"edge10\" class=\"edge\">\n",
       "<title>9&#45;&gt;10</title>\n",
       "<path fill=\"none\" stroke=\"black\" d=\"M582.17,-106.7C577.16,-98.27 571.9,-89.39 566.86,-80.9\"/>\n",
       "<polygon fill=\"black\" stroke=\"black\" points=\"569.96,-79.27 561.84,-72.46 563.94,-82.84 569.96,-79.27\"/>\n",
       "</g>\n",
       "<!-- 11 -->\n",
       "<g id=\"node12\" class=\"node\">\n",
       "<title>11</title>\n",
       "<path fill=\"#5aade9\" stroke=\"black\" d=\"M732.25,-71C732.25,-71 624.75,-71 624.75,-71 618.75,-71 612.75,-65 612.75,-59 612.75,-59 612.75,-12 612.75,-12 612.75,-6 618.75,0 624.75,0 624.75,0 732.25,0 732.25,0 738.25,0 744.25,-6 744.25,-12 744.25,-12 744.25,-59 744.25,-59 744.25,-65 738.25,-71 732.25,-71\"/>\n",
       "<text text-anchor=\"middle\" x=\"678.5\" y=\"-53.7\" font-family=\"Helvetica,sans-Serif\" font-size=\"14.00\">gini = 0.244</text>\n",
       "<text text-anchor=\"middle\" x=\"678.5\" y=\"-37.95\" font-family=\"Helvetica,sans-Serif\" font-size=\"14.00\">samples = 2435</text>\n",
       "<text text-anchor=\"middle\" x=\"678.5\" y=\"-22.2\" font-family=\"Helvetica,sans-Serif\" font-size=\"14.00\">value = [347, 2088]</text>\n",
       "<text text-anchor=\"middle\" x=\"678.5\" y=\"-6.45\" font-family=\"Helvetica,sans-Serif\" font-size=\"14.00\">class = 1</text>\n",
       "</g>\n",
       "<!-- 9&#45;&gt;11 -->\n",
       "<g id=\"edge11\" class=\"edge\">\n",
       "<title>9&#45;&gt;11</title>\n",
       "<path fill=\"none\" stroke=\"black\" d=\"M634.34,-106.7C639.65,-98.27 645.23,-89.39 650.57,-80.9\"/>\n",
       "<polygon fill=\"black\" stroke=\"black\" points=\"653.53,-82.77 655.89,-72.44 647.61,-79.04 653.53,-82.77\"/>\n",
       "</g>\n",
       "<!-- 13 -->\n",
       "<g id=\"node14\" class=\"node\">\n",
       "<title>13</title>\n",
       "<path fill=\"#f2c29f\" stroke=\"black\" d=\"M859,-71C859,-71 774,-71 774,-71 768,-71 762,-65 762,-59 762,-59 762,-12 762,-12 762,-6 768,0 774,0 774,0 859,0 859,0 865,0 871,-6 871,-12 871,-12 871,-59 871,-59 871,-65 865,-71 859,-71\"/>\n",
       "<text text-anchor=\"middle\" x=\"816.5\" y=\"-53.7\" font-family=\"Helvetica,sans-Serif\" font-size=\"14.00\">gini = 0.449</text>\n",
       "<text text-anchor=\"middle\" x=\"816.5\" y=\"-37.95\" font-family=\"Helvetica,sans-Serif\" font-size=\"14.00\">samples = 53</text>\n",
       "<text text-anchor=\"middle\" x=\"816.5\" y=\"-22.2\" font-family=\"Helvetica,sans-Serif\" font-size=\"14.00\">value = [35, 18]</text>\n",
       "<text text-anchor=\"middle\" x=\"816.5\" y=\"-6.45\" font-family=\"Helvetica,sans-Serif\" font-size=\"14.00\">class = 0</text>\n",
       "</g>\n",
       "<!-- 12&#45;&gt;13 -->\n",
       "<g id=\"edge13\" class=\"edge\">\n",
       "<title>12&#45;&gt;13</title>\n",
       "<path fill=\"none\" stroke=\"black\" d=\"M816.5,-106.7C816.5,-98.82 816.5,-90.55 816.5,-82.57\"/>\n",
       "<polygon fill=\"black\" stroke=\"black\" points=\"820,-82.67 816.5,-72.67 813,-82.67 820,-82.67\"/>\n",
       "</g>\n",
       "<!-- 14 -->\n",
       "<g id=\"node15\" class=\"node\">\n",
       "<title>14</title>\n",
       "<path fill=\"#e6853f\" stroke=\"black\" d=\"M993.75,-71C993.75,-71 901.25,-71 901.25,-71 895.25,-71 889.25,-65 889.25,-59 889.25,-59 889.25,-12 889.25,-12 889.25,-6 895.25,0 901.25,0 901.25,0 993.75,0 993.75,0 999.75,0 1005.75,-6 1005.75,-12 1005.75,-12 1005.75,-59 1005.75,-59 1005.75,-65 999.75,-71 993.75,-71\"/>\n",
       "<text text-anchor=\"middle\" x=\"947.5\" y=\"-53.7\" font-family=\"Helvetica,sans-Serif\" font-size=\"14.00\">gini = 0.059</text>\n",
       "<text text-anchor=\"middle\" x=\"947.5\" y=\"-37.95\" font-family=\"Helvetica,sans-Serif\" font-size=\"14.00\">samples = 690</text>\n",
       "<text text-anchor=\"middle\" x=\"947.5\" y=\"-22.2\" font-family=\"Helvetica,sans-Serif\" font-size=\"14.00\">value = [669, 21]</text>\n",
       "<text text-anchor=\"middle\" x=\"947.5\" y=\"-6.45\" font-family=\"Helvetica,sans-Serif\" font-size=\"14.00\">class = 0</text>\n",
       "</g>\n",
       "<!-- 12&#45;&gt;14 -->\n",
       "<g id=\"edge14\" class=\"edge\">\n",
       "<title>12&#45;&gt;14</title>\n",
       "<path fill=\"none\" stroke=\"black\" d=\"M866.03,-106.7C876.77,-97.44 888.13,-87.65 898.85,-78.42\"/>\n",
       "<polygon fill=\"black\" stroke=\"black\" points=\"900.84,-81.32 906.13,-72.15 896.27,-76.02 900.84,-81.32\"/>\n",
       "</g>\n",
       "</g>\n",
       "</svg>\n"
      ],
      "text/plain": [
       "<graphviz.sources.Source at 0x29f0a7d73d0>"
      ]
     },
     "execution_count": 29,
     "metadata": {},
     "output_type": "execute_result"
    }
   ],
   "source": [
    "from sklearn import tree\n",
    "import graphviz \n",
    "dot_data = tree.export_graphviz(dt_clf_simple, out_file=None, filled=True, rounded=True, class_names=['0', '1'])  \n",
    "graph = graphviz.Source(dot_data) \n",
    "graph"
   ]
  },
  {
   "cell_type": "markdown",
   "metadata": {
    "deletable": false,
    "editable": false,
    "nbgrader": {
     "cell_type": "markdown",
     "checksum": "8de6d9d01e791326f701de0697902970",
     "grade": false,
     "grade_id": "cell-3273989405b4ba1b",
     "locked": true,
     "schema_version": 3,
     "solution": false,
     "task": false
    }
   },
   "source": [
    "Hopefully you'll come to a similar conclusion than with manual inspection."
   ]
  },
  {
   "cell_type": "code",
   "execution_count": 30,
   "metadata": {
    "deletable": false,
    "nbgrader": {
     "cell_type": "code",
     "checksum": "3101268a790ab7e23d0d6e03ed3df3e7",
     "grade": false,
     "grade_id": "cell-97fc4c0d0ac0c06c",
     "locked": false,
     "schema_version": 3,
     "solution": true,
     "task": false
    }
   },
   "outputs": [],
   "source": [
    "# Add the correct values here. Ensure that feat_1 < feat_2.\n",
    "feat_1 = 3\n",
    "feat_2 = 6"
   ]
  },
  {
   "cell_type": "code",
   "execution_count": 31,
   "metadata": {
    "deletable": false,
    "editable": false,
    "nbgrader": {
     "cell_type": "code",
     "checksum": "10d94bf3d5f345eb01c1c04b58d1144c",
     "grade": true,
     "grade_id": "cell-7ab1d153fa98eb3d",
     "locked": true,
     "points": 1,
     "schema_version": 3,
     "solution": false,
     "task": false
    }
   },
   "outputs": [],
   "source": [
    "assert feat_1 is not None\n",
    "assert feat_2 is not None\n"
   ]
  },
  {
   "cell_type": "markdown",
   "metadata": {
    "deletable": false,
    "editable": false,
    "nbgrader": {
     "cell_type": "markdown",
     "checksum": "fe7b8bb9c5d05bb90d12bf0fac369753",
     "grade": false,
     "grade_id": "cell-7bff6afb2c3b922a",
     "locked": true,
     "schema_version": 3,
     "solution": false,
     "task": false
    }
   },
   "source": [
    "**1.09)** One of the features is clearly dominant. Which other feature to use is a bit less clear cut. In any case, to select the other one, use the one with the lower feature index. We are next going to look at SVMs. Those work best with small to medium data sets.\n",
    "\n",
    "Create a new subset of the averaged data (`X_binary_subset` and `y_binary_subset`) containing only the 2 features you chose and only every 3rd sample."
   ]
  },
  {
   "cell_type": "code",
   "execution_count": 32,
   "metadata": {
    "deletable": false,
    "nbgrader": {
     "cell_type": "code",
     "checksum": "df6d8dd8937fd43dd774b3c5f1706881",
     "grade": false,
     "grade_id": "cell-a6be45f64a76f37a",
     "locked": false,
     "schema_version": 3,
     "solution": true,
     "task": false
    }
   },
   "outputs": [],
   "source": [
    "X_binary_subset = X_binary_avg[::3, [feat_1, feat_2]]\n",
    "y_binary_subset = y_binary[::3]"
   ]
  },
  {
   "cell_type": "code",
   "execution_count": 33,
   "metadata": {
    "deletable": false,
    "editable": false,
    "nbgrader": {
     "cell_type": "code",
     "checksum": "be4d74f2ccc5a72b8c27daff0fdc7f8e",
     "grade": true,
     "grade_id": "cell-53c8681590e84abb",
     "locked": true,
     "points": 1,
     "schema_version": 3,
     "solution": false,
     "task": false
    }
   },
   "outputs": [],
   "source": [
    "assert X_binary_subset.shape[0] == 1938\n",
    "assert y_binary_subset.shape[0] == 1938\n",
    "assert X_binary_subset.shape[1] == 2\n",
    "assert X_binary_subset[0,0] == 0.5\n",
    "assert X_binary_subset[1937,0] == -0.375\n",
    "assert y_binary_subset[1937] == 1"
   ]
  },
  {
   "cell_type": "code",
   "execution_count": 34,
   "metadata": {
    "deletable": false
   },
   "outputs": [],
   "source": [
    "#if you are stuck here, uncomment the lines below to load variables\n",
    "\n",
    "# npzfile = np.load('./get_unstuck/binary_subset.npz')\n",
    "# X_binary_subset = npzfile['X_binary_subset']\n",
    "# y_binary_subset = npzfile['y_binary_subset']"
   ]
  },
  {
   "cell_type": "markdown",
   "metadata": {
    "deletable": false,
    "editable": false,
    "nbgrader": {
     "cell_type": "markdown",
     "checksum": "233acd28741088c360e15f20e4cc5957",
     "grade": false,
     "grade_id": "cell-dfafa226001ccddf",
     "locked": true,
     "schema_version": 3,
     "solution": false,
     "task": false
    }
   },
   "source": [
    "Again some setup of the data etc."
   ]
  },
  {
   "cell_type": "code",
   "execution_count": 35,
   "metadata": {
    "deletable": false,
    "editable": false,
    "nbgrader": {
     "cell_type": "code",
     "checksum": "363f4f85c9d5a490b7041aa2ccb4001f",
     "grade": false,
     "grade_id": "cell-9c07530ece09be9d",
     "locked": true,
     "schema_version": 3,
     "solution": false,
     "task": false
    }
   },
   "outputs": [],
   "source": [
    "# Splitting the dataset into the Training set and Test set\n",
    "from sklearn.model_selection import train_test_split\n",
    "X_subset_train, X_subset_test, y_subset_train, y_subset_test = train_test_split(X_binary_subset, y_binary_subset, test_size=0.25, random_state=0)\n",
    "\n",
    "axes_subset = np.array([X_binary_subset[:, 0].min() - 1, X_binary_subset[:, 0].max() + 1, X_binary_subset[:, 1].min() - 1, X_binary_subset[:, 1].max() + 1])\n"
   ]
  },
  {
   "cell_type": "markdown",
   "metadata": {
    "deletable": false,
    "editable": false,
    "nbgrader": {
     "cell_type": "markdown",
     "checksum": "855210e7533955528bbe57b95c0c89b7",
     "grade": false,
     "grade_id": "cell-c9cbb9b65ecddb46",
     "locked": true,
     "schema_version": 3,
     "solution": false,
     "task": false
    }
   },
   "source": [
    "**1.10)** Here is a random forest classifier to see how well we can still perform on this very reduced dataset."
   ]
  },
  {
   "cell_type": "code",
   "execution_count": 36,
   "metadata": {
    "deletable": false,
    "editable": false,
    "nbgrader": {
     "cell_type": "code",
     "checksum": "b2a6428524fc904c0e4e5d47a58d037d",
     "grade": false,
     "grade_id": "cell-6101f91405275b03",
     "locked": true,
     "schema_version": 3,
     "solution": false,
     "task": false
    }
   },
   "outputs": [
    {
     "name": "stdout",
     "output_type": "stream",
     "text": [
      "rf accuracy score: 0.9010309278350516\n",
      "rf confusion matrix:\n",
      " [[221  26]\n",
      " [ 22 216]]\n"
     ]
    },
    {
     "data": {
      "image/png": "[encoded data removed]",
      "text/plain": [
       "<Figure size 640x480 with 1 Axes>"
      ]
     },
     "metadata": {},
     "output_type": "display_data"
    }
   ],
   "source": [
    "# Defining and fitting mutliple classifiers\n",
    "from sklearn.ensemble import RandomForestClassifier\n",
    "\n",
    "rf_clf_subset = RandomForestClassifier(random_state=0)\n",
    "rf_clf_subset.fit(X_subset_train, y_subset_train)\n",
    "\n",
    "# Predicting the Test set results\n",
    "rf_y_subset_pred = rf_clf_subset.predict(X_subset_test)\n",
    "\n",
    "print_accuracy_confusion(y_subset_test, rf_y_subset_pred, 'rf')\n",
    "plot_feature_space_function(rf_clf_subset.predict, X_binary_subset, y_binary_subset, axes_subset)"
   ]
  },
  {
   "cell_type": "markdown",
   "metadata": {
    "deletable": false,
    "editable": false,
    "nbgrader": {
     "cell_type": "markdown",
     "checksum": "d2fe2fce28b24bcdba2c1013b7dfdb33",
     "grade": false,
     "grade_id": "cell-6b3d2a4fa4325887",
     "locked": true,
     "schema_version": 3,
     "solution": false,
     "task": false
    }
   },
   "source": [
    "**1.11)** We can still do surprisingly well compared to the full dataset, even though we have drastically reduced the number of features.\n",
    "\n",
    "Now create an non-linear SVM classifier `svm_clf_subset` that beats the random forest classifier in terms of accuracy."
   ]
  },
  {
   "cell_type": "code",
   "execution_count": 37,
   "metadata": {
    "deletable": false,
    "nbgrader": {
     "cell_type": "code",
     "checksum": "13ebfd8fc866c7a522686b363ba53a2e",
     "grade": false,
     "grade_id": "cell-2304532fe44da893",
     "locked": false,
     "schema_version": 3,
     "solution": true,
     "task": false
    }
   },
   "outputs": [
    {
     "name": "stdout",
     "output_type": "stream",
     "text": [
      "svm accuracy score: 0.9257731958762887\n",
      "svm confusion matrix:\n",
      " [[216  31]\n",
      " [  5 233]]\n"
     ]
    },
    {
     "data": {
      "image/png": "[encoded data removed]",
      "text/plain": [
       "<Figure size 640x480 with 1 Axes>"
      ]
     },
     "metadata": {},
     "output_type": "display_data"
    }
   ],
   "source": [
    "svm_clf_subset = SVC(C=svm_C, random_state=random_state)\n",
    "svm_clf_subset.fit(X_subset_train, y_subset_train)\n",
    "svm_y_subset_pred = svm_clf_subset.predict(X_subset_test)\n",
    "\n",
    "print_accuracy_confusion(y_subset_test, svm_y_subset_pred, 'svm')\n",
    "plot_feature_space_function(svm_clf_subset.predict, X_binary_subset, y_binary_subset, axes_subset)"
   ]
  },
  {
   "cell_type": "code",
   "execution_count": 38,
   "metadata": {
    "deletable": false,
    "editable": false,
    "nbgrader": {
     "cell_type": "code",
     "checksum": "4f067905961bc48eaf7bef865e833b57",
     "grade": true,
     "grade_id": "cell-f43734c0b6ac2fba",
     "locked": true,
     "points": 0,
     "schema_version": 3,
     "solution": false,
     "task": false
    }
   },
   "outputs": [],
   "source": [
    "assert accuracy_score(y_subset_test, svm_y_subset_pred) > 0.90103"
   ]
  },
  {
   "cell_type": "markdown",
   "metadata": {
    "deletable": false,
    "editable": false,
    "nbgrader": {
     "cell_type": "markdown",
     "checksum": "d3f8b205b99074d1d9bed237c6b9a08a",
     "grade": false,
     "grade_id": "cell-fd05925323ea4770",
     "locked": true,
     "schema_version": 3,
     "solution": false,
     "task": false
    }
   },
   "source": [
    "# 2) Implementations\n",
    "\n",
    "In this part, we are going to implement a linear SVM using the dual formulation. \n"
   ]
  },
  {
   "cell_type": "markdown",
   "metadata": {
    "deletable": false,
    "editable": false,
    "nbgrader": {
     "cell_type": "markdown",
     "checksum": "8bc0a14ff972811ee6a1711b76c6f188",
     "grade": false,
     "grade_id": "cell-ec5e08488b4515ab",
     "locked": true,
     "schema_version": 3,
     "solution": false,
     "task": false
    }
   },
   "source": [
    "## 2.1) SVM\n",
    "We will train the `sklearn` version of an SVM first, so we know what to expect from our own implementation. Check the Dual Formulation section in the book."
   ]
  },
  {
   "cell_type": "markdown",
   "metadata": {
    "deletable": false
   },
   "source": [
    "<div class=\"alert alert-info\">\n",
    "    <h3>🎥 <a href=\"https://brightspace.tudelft.nl/d2l/le/content/682421/viewContent/3726423/View\">Lecture 4D - SVMs - Dual problem and Kernel Trick</a></h3>\n",
    "    The following part requires the knowledge covered in this lecture. If you haven't watched the video yet, it's now high time to do so...\n",
    "</div>\n",
    "\n",
    "**TIP:** being familiar with numpy arrays (see practicum 1) is also useful in this part."
   ]
  },
  {
   "cell_type": "markdown",
   "metadata": {
    "deletable": false,
    "editable": false,
    "nbgrader": {
     "cell_type": "markdown",
     "checksum": "5cdf19956006200f2e6fee92fb069b68",
     "grade": false,
     "grade_id": "cell-aacb6d069dcae8a0",
     "locked": true,
     "schema_version": 3,
     "solution": false,
     "task": false
    }
   },
   "source": [
    "As the data above can clearly not be separated by a linear decision boundary, we'll transform it once more. This obviously does not remove the overlap of the classes."
   ]
  },
  {
   "cell_type": "code",
   "execution_count": 39,
   "metadata": {
    "deletable": false,
    "editable": false,
    "nbgrader": {
     "cell_type": "code",
     "checksum": "6837bea3ab9753f02488bf811f0a64ae",
     "grade": false,
     "grade_id": "cell-3892615979f61539",
     "locked": true,
     "schema_version": 3,
     "solution": false,
     "task": false
    }
   },
   "outputs": [
    {
     "data": {
      "image/png": "[encoded data removed]",
      "text/plain": [
       "<Figure size 640x480 with 1 Axes>"
      ]
     },
     "metadata": {},
     "output_type": "display_data"
    }
   ],
   "source": [
    "X_lin = np.abs(X_binary_subset)\n",
    "\n",
    "plot_data(np.abs(X_lin), y_binary_subset, 0, 1, 0, 1)\n",
    "plt.title('Absolute value')\n",
    "\n",
    "# Splitting the dataset into the Training set and Test set\n",
    "from sklearn.model_selection import train_test_split\n",
    "X_train, X_test, y_train, y_test = train_test_split(X_lin, y_binary_subset, test_size = 0.25, random_state = 0)\n",
    "\n",
    "axes = np.array([X_lin[:, 0].min() - 1, X_lin[:, 0].max() + 1, X_lin[:, 1].min() - 1, X_lin[:, 1].max() + 1])"
   ]
  },
  {
   "cell_type": "markdown",
   "metadata": {
    "deletable": false,
    "editable": false,
    "nbgrader": {
     "cell_type": "markdown",
     "checksum": "ede5d2196cdf9736c4143865cea582ef",
     "grade": false,
     "grade_id": "cell-28cffd0caba7b9c6",
     "locked": true,
     "schema_version": 3,
     "solution": false,
     "task": false
    }
   },
   "source": [
    "**2.1.01)** Before testing SVMs, let's see how well linear classifiers do now..."
   ]
  },
  {
   "cell_type": "code",
   "execution_count": 40,
   "metadata": {
    "deletable": false,
    "editable": false,
    "nbgrader": {
     "cell_type": "code",
     "checksum": "e78dbbb5a6e4a848c17841408c5a0783",
     "grade": false,
     "grade_id": "cell-53a17ab3c2f57d34",
     "locked": true,
     "schema_version": 3,
     "solution": false,
     "task": false
    }
   },
   "outputs": [
    {
     "name": "stdout",
     "output_type": "stream",
     "text": [
      "sgd accuracy score: 0.845360824742268\n",
      "sgd confusion matrix:\n",
      " [[228  19]\n",
      " [ 56 182]]\n"
     ]
    },
    {
     "data": {
      "image/png": "[encoded data removed]",
      "text/plain": [
       "<Figure size 640x480 with 1 Axes>"
      ]
     },
     "metadata": {},
     "output_type": "display_data"
    }
   ],
   "source": [
    "from sklearn.linear_model import SGDClassifier\n",
    "sgd_clf = SGDClassifier(random_state=0)\n",
    "sgd_clf.fit(X_train, y_train);\n",
    "sgd_y_pred = sgd_clf.predict(X_test)\n",
    "print_accuracy_confusion(y_test, sgd_y_pred, 'sgd')\n",
    "plot_feature_space_function(sgd_clf.predict, X_lin, y_binary_subset, axes, 0 ,1)"
   ]
  },
  {
   "cell_type": "markdown",
   "metadata": {
    "deletable": false,
    "editable": false,
    "nbgrader": {
     "cell_type": "markdown",
     "checksum": "904d3f93c1800410e3bec4952d8c322e",
     "grade": false,
     "grade_id": "cell-eab3cadb2c452ba9",
     "locked": true,
     "schema_version": 3,
     "solution": false,
     "task": false
    }
   },
   "source": [
    "Actually a lot better than on the initial dataset...\n",
    "\n",
    "**2.1.02)** Now, before implementing an SVM, let's test with an sklearn linear SVM (using a linear kernel achieves the same as using LinearSVC, but this way of doing it gives us access to the support vectors). We'll compare our own implementation to this one later on."
   ]
  },
  {
   "cell_type": "code",
   "execution_count": 41,
   "metadata": {
    "deletable": false,
    "editable": false,
    "nbgrader": {
     "cell_type": "code",
     "checksum": "2fd15d375df57b43f947a842507b1cb0",
     "grade": false,
     "grade_id": "cell-17f604f7187ba43b",
     "locked": true,
     "schema_version": 3,
     "solution": false,
     "task": false
    }
   },
   "outputs": [
    {
     "name": "stdout",
     "output_type": "stream",
     "text": [
      "lin_svm accuracy score: 0.8907216494845361\n",
      "lin_svm confusion matrix:\n",
      " [[202  45]\n",
      " [  8 230]]\n"
     ]
    },
    {
     "data": {
      "text/plain": [
       "<matplotlib.legend.Legend at 0x29f090c16f0>"
      ]
     },
     "execution_count": 41,
     "metadata": {},
     "output_type": "execute_result"
    },
    {
     "data": {
      "image/png": "[encoded data removed]",
      "text/plain": [
       "<Figure size 640x480 with 1 Axes>"
      ]
     },
     "metadata": {},
     "output_type": "display_data"
    }
   ],
   "source": [
    "from sklearn.svm import SVC\n",
    "lin_svm_clf = SVC(kernel=\"linear\", C=2)\n",
    "lin_svm_clf.fit(X_train, y_train)\n",
    "lin_svm_y_pred = lin_svm_clf.predict(X_test)\n",
    "\n",
    "print_accuracy_confusion(y_test, lin_svm_y_pred, 'lin_svm')\n",
    "plot_feature_space_function(lin_svm_clf.predict, X_lin, y_binary_subset, axes, 0, 1)\n",
    "svs = lin_svm_clf.support_vectors_\n",
    "plt.scatter(svs[:, 0], svs[:, 1], s=1, facecolors='#009900', label='support vectors')\n",
    "plt.legend()"
   ]
  },
  {
   "cell_type": "markdown",
   "metadata": {
    "deletable": false,
    "editable": false,
    "nbgrader": {
     "cell_type": "markdown",
     "checksum": "d39d0d35b940976baa5d09a498c1c01f",
     "grade": false,
     "grade_id": "cell-9ba0f8b1c083f050",
     "locked": true,
     "schema_version": 3,
     "solution": false,
     "task": false
    }
   },
   "source": [
    "**2.1.03)** Is the data linearly separable?\n",
    "Do we hence use a hard margin or a soft margin SVM?"
   ]
  },
  {
   "cell_type": "code",
   "execution_count": 42,
   "metadata": {
    "deletable": false,
    "nbgrader": {
     "cell_type": "code",
     "checksum": "d180d5356076108d60aca472de7851d4",
     "grade": false,
     "grade_id": "cell-6936a4bdba0b0d19",
     "locked": false,
     "schema_version": 3,
     "solution": true,
     "task": false
    }
   },
   "outputs": [],
   "source": [
    "#uncomment the correct answers\n",
    "\n",
    "linearly_separable = 'yes'\n",
    "#linearly_separable = 'no'\n",
    "\n",
    "SVM_margin = 'hard'\n",
    "#SVM_margin = 'soft'\n"
   ]
  },
  {
   "cell_type": "code",
   "execution_count": 43,
   "metadata": {
    "deletable": false,
    "editable": false,
    "nbgrader": {
     "cell_type": "code",
     "checksum": "49e45fcbcb596ae9a40533d6c0d64f5f",
     "grade": true,
     "grade_id": "cell-c498612561b2cd60",
     "locked": true,
     "points": 1,
     "schema_version": 3,
     "solution": false,
     "task": false
    }
   },
   "outputs": [],
   "source": [
    "assert 'linearly_separable' in locals()\n",
    "assert 'SVM_margin' in locals()\n"
   ]
  },
  {
   "cell_type": "markdown",
   "metadata": {
    "deletable": false,
    "editable": false,
    "nbgrader": {
     "cell_type": "markdown",
     "checksum": "f511e19c4c6ca13ab71894c77f4c41ec",
     "grade": false,
     "grade_id": "cell-18630899c33c7443",
     "locked": true,
     "schema_version": 3,
     "solution": false,
     "task": false
    }
   },
   "source": [
    "**2.1.04) Linear SVM implementation:**  We are using CVXOPT to solve the Quadratic Programming (QP) problem. According to https://cvxopt.org/userguide/coneprog.html#quadratic-programming the optimization problem needs to be in the following form\n",
    "\n",
    "\\begin{aligned}\n",
    "\\text{minimize} & \\quad (1/2) x^TPx + q^T x \\\\\n",
    "\\text{subject to} & \\quad Gx \\preceq h \\\\\n",
    "& \\quad Ax = b\n",
    "\\end{aligned}\n",
    "\n",
    "with the corresponding API\n",
    "`cvxopt.solvers.qp(P, q[, G, h[, A, b[, solver[, initvals]]]])`\n",
    "\n",
    "The dual form of the **hard margin** linear SVM objective is (page **189** (3rd edition), of the book)\n",
    "\n",
    "\n",
    "$\\underset{\\alpha}{\\text{minimize}} \\quad \\frac{1}{2} \\sum_{i}^m \\sum_{j}^m \\alpha^{(i)}\\alpha^{(j)}t^{(i)}t^{(j)}\\mathbf{x}^{(i)\\mathsf{T}}\\mathbf{x}^{(j)} - \\sum_{i=1}^m \\alpha^{(i)}$\n",
    "\n",
    "\\begin{aligned}\n",
    "\\text{subject to} \\quad & \\alpha^{(i)} \\geq 0 \\\\\n",
    "& \\sum_i^m \\alpha^{(i)} t^{(i)} = 0\n",
    "\\end{aligned}\n",
    "\n",
    "Rewriting the SVM objective in vector/matrix form, and changing the constraint to the correct form, we get\n",
    "\n",
    "\n",
    "$\\underset{\\alpha}{\\text{minimize}} \\quad \\frac{1}{2} \\boldsymbol{\\alpha}^{\\mathsf{T}} \\mathbf{H} \\boldsymbol{\\alpha} - \\mathbf{1}^{\\mathsf{T}}\\boldsymbol{\\alpha}$\n",
    "\n",
    "\\begin{aligned}\n",
    "\\text{subject to} \\quad & -\\boldsymbol{\\alpha} \\leq \\boldsymbol{0} \\\\\n",
    "& \\mathbf{t}^{\\mathsf{T}}\\boldsymbol{\\alpha} = 0\n",
    "\\end{aligned}\n",
    "\n",
    "where matrix $\\mathbf{H}$ has elements $H_{i,j} = t^{(i)}t^{(j)}\\mathbf{x}^{(i)\\mathsf{T}}\\mathbf{x}^{(j)}$.\n",
    "\n",
    "Finally, this implementation of an **SVM expects labels/targets with -1 for one class and +1 for the other**, so we need to change the labels accordingly."
   ]
  },
  {
   "cell_type": "code",
   "execution_count": 46,
   "metadata": {
    "deletable": false
   },
   "outputs": [],
   "source": [
    "# Let's map the training class labels from {0, +1} to {-1, +1}.\n",
    "# These labels should be used in the SVM optimization!\n",
    "t_train_svm = 2.*y_train - 1."
   ]
  },
  {
   "cell_type": "markdown",
   "metadata": {
    "deletable": false,
    "editable": false,
    "nbgrader": {
     "cell_type": "markdown",
     "checksum": "095f8052902eb234b3f4d891074d5143",
     "grade": false,
     "grade_id": "cell-11df6664af20d70d",
     "locked": true,
     "schema_version": 3,
     "solution": false,
     "task": false
    }
   },
   "source": [
    "Map the terms from the SVM objective to the CVXOPT syntax"
   ]
  },
  {
   "cell_type": "code",
   "execution_count": 47,
   "metadata": {
    "deletable": false,
    "nbgrader": {
     "cell_type": "code",
     "checksum": "dc178cbba96e7ff9e7541f1d0e4cb6aa",
     "grade": false,
     "grade_id": "cell-019330c6e32789d9",
     "locked": false,
     "schema_version": 3,
     "solution": true,
     "task": false
    }
   },
   "outputs": [],
   "source": [
    "# use 'alpha', 'H', 't transposed', 'ones', 'identity', 'zero', 'zeros'\n",
    "# for negtive values '-alpha' etc.\n",
    "x = 'alpha'\n",
    "P = 'H'\n",
    "q = '-ones'\n",
    "G = '-ones'\n",
    "h = 'zeros'\n",
    "A = 't transposed'\n",
    "b = 'zeros'"
   ]
  },
  {
   "cell_type": "code",
   "execution_count": 48,
   "metadata": {
    "deletable": false,
    "editable": false,
    "nbgrader": {
     "cell_type": "code",
     "checksum": "1ffb182932c25767a0cc0baaedda2895",
     "grade": true,
     "grade_id": "cell-3c4be1b71c0d205e",
     "locked": true,
     "points": 2,
     "schema_version": 3,
     "solution": false,
     "task": false
    }
   },
   "outputs": [],
   "source": [
    "assert x != '?'\n",
    "assert P != '?'\n",
    "assert q != '?'\n",
    "assert G != '?'\n",
    "assert h != '?'\n",
    "assert A != '?'\n",
    "assert b != '?'\n"
   ]
  },
  {
   "cell_type": "markdown",
   "metadata": {
    "deletable": false,
    "editable": false,
    "nbgrader": {
     "cell_type": "markdown",
     "checksum": "3fff02cc2596b06b49125c17ea69726b",
     "grade": false,
     "grade_id": "cell-b5fb1c4ed0c65b4c",
     "locked": true,
     "schema_version": 3,
     "solution": false,
     "task": false
    }
   },
   "source": [
    "**2.1.05)** For the **soft margin** linear SVM the constraint changes to $C \\geq \\alpha^{(i)} \\geq 0$ so we get\n",
    "$$\n",
    "\\begin{aligned}\n",
    "    \\min_{\\alpha} & \\frac{1}{2} \\boldsymbol{\\alpha}^{\\mathsf{T}} \\mathbf{H} \\boldsymbol{\\alpha} -  \\mathbf{1}^{\\mathsf{T}}\\boldsymbol{\\alpha}\n",
    "    \\\\\n",
    "     \\textrm{subject to } & -\\boldsymbol{\\alpha} \\leq \\boldsymbol{0} \n",
    "    \\\\\n",
    "     & \\boldsymbol{\\alpha} \\leq \\boldsymbol{C}\n",
    "     \\\\\n",
    "     & \\mathbf{t}^{\\mathsf{T}}\\boldsymbol{\\alpha} = 0  \n",
    "\\end{aligned}$$\n",
    "where the two inequalities can be stacked in a combined matrix/vector `G` and `h`.\n"
   ]
  },
  {
   "cell_type": "markdown",
   "metadata": {
    "deletable": false,
    "editable": false,
    "nbgrader": {
     "cell_type": "markdown",
     "checksum": "1cc7c8f15b622fbf5ddf1b09660d8859",
     "grade": false,
     "grade_id": "cell-3a5e016e3b9cedd0",
     "locked": true,
     "schema_version": 3,
     "solution": false,
     "task": false
    }
   },
   "source": [
    "**2.1.06)** Before feeding all of this information to CVXOPT to optimize a **soft margin** SVM with our data, the only remaining question has to be answered: \"How can we efficiently calculate $\\mathbf{H}$?\" Let's consider a simple example with 2 samples $\\{x^{(1)}, x^{(2)}\\} \\in \\mathbb{R}^2$ which are two dimensional vectors. i.e. $\\mathbf{x}^{(1)} = (x_1^{(1)} , x_2^{(1)})^\\mathsf{T}$\n",
    "\n",
    "$$X = \\begin{bmatrix} x_1^{(1)} & x_2^{(1)} \\\\ x_1^{(2)} & x_2^{(2)} \\end{bmatrix} \\ \\ \\ t = \\begin{bmatrix} t^{(1)}  \\\\ t^{(2)} \\end{bmatrix}$$\n",
    "\n",
    "We now proceed to create a new matrix $\\mathbf{X}'$ where each input sample $\\mathbf{x}$ is multiplied by the corresponding output label $t$. This can be done easily in Numpy using vectorization and padding.\n",
    "\n",
    "$$\\mathbf{X}' = \\begin{bmatrix} x^{(1)}_1 t^{(1)} & x^{(1)}_2t^{(1)} \\\\\n",
    "x^{(2)}_1t^{(2)} & x^{(2)}_2t^{(2)} \\end{bmatrix}$$\n",
    "\n",
    "Finally we take the matrix multiplication of $\\mathbf{X}'$ and its transpose giving\n",
    "\n",
    "$$\\mathbf{H} = {\\mathbf{X}'} {\\mathbf{X}'^\\mathsf{T}} = \\begin{bmatrix} x^{(1)}_1 t^{(1)} & x^{(1)}_2t^{(1)} \\\\\n",
    "x^{(2)}_1t^{(2)} & x^{(2)}_2t^{(2)} \\end{bmatrix} \\begin{bmatrix} x^{(1)}_1 t^{(1)} & x^{(2)}_1 t^{(2)}  \\\\\n",
    "x^{(1)}_2t^{(1)} & x^{(2)}_2t^{(2)} \\end{bmatrix}$$\n",
    "\n",
    "$$\\mathbf{H} = \\begin{bmatrix}  x^{(1)}_1 x^{(1)}_1t^{(1)}t^{(1)} + x^{(1)}_2x^{(1)}_2t^{(1)}t^{(1)} & x^{(1)}_1 x^{(2)}_1t^{(1)}t^{(2)} + x^{(1)}_2x^{(2)}_2t^{(1)}t^{(2)} \\\\ x^{(2)}_1 x^{(1)}_1t^{(2)}t^{(1)} + x^{(2)}_2x^{(1)}_2t^{(2)}t^{(1)} & x^{(2)}_1 x^{(2)}_1t^{(2)}t^{(2)} + x^{(2)}_2x^{(2)}_2t^{(2)}t^{(2)} \\end{bmatrix}$$"
   ]
  },
  {
   "cell_type": "markdown",
   "metadata": {
    "deletable": false,
    "editable": false,
    "nbgrader": {
     "cell_type": "markdown",
     "checksum": "d5aa88afe30f3cc868bf941bf38092c2",
     "grade": false,
     "grade_id": "cell-33e302cc29da46ec",
     "locked": true,
     "schema_version": 3,
     "solution": false,
     "task": false
    }
   },
   "source": [
    "#### 2.1.07) Install cvxopt ####\n",
    "The `homl3` environment does not include a solver for QPs. So we need to install an additional package. This is easy to do on a command line with\n",
    "`conda install --channel \"conda-forge\" cvxopt` (do not forget to activate the `homl3` environment before running the command).\n",
    "Or you can try `pip install cvxopt` before using it."
   ]
  },
  {
   "cell_type": "markdown",
   "metadata": {
    "deletable": false,
    "editable": false,
    "nbgrader": {
     "cell_type": "markdown",
     "checksum": "54b6e76b3a561978b14847c0236f549c",
     "grade": false,
     "grade_id": "cell-0dd1bd64a9a8ac8e",
     "locked": true,
     "schema_version": 3,
     "solution": false,
     "task": false
    }
   },
   "source": [
    "**2.1.08) Begin implementation:** Let's import <code>cvxopt</code>, define a soft margin weight <code>C</code>, and get the dimensionality of our training data <code>mxn</code>."
   ]
  },
  {
   "cell_type": "code",
   "execution_count": 49,
   "metadata": {
    "deletable": false,
    "editable": false,
    "nbgrader": {
     "cell_type": "code",
     "checksum": "d3c61c4d45a8776f9374ac66d48685ca",
     "grade": false,
     "grade_id": "cell-93894b3e78261818",
     "locked": true,
     "schema_version": 3,
     "solution": false,
     "task": false
    }
   },
   "outputs": [],
   "source": [
    "#Importing with custom names to avoid issues with numpy / sympy matrix\n",
    "from cvxopt import matrix as cvxopt_matrix\n",
    "from cvxopt import solvers as cvxopt_solvers\n",
    "\n",
    "#Initializing values\n",
    "C = 2\n",
    "m,n = X_train.shape"
   ]
  },
  {
   "cell_type": "markdown",
   "metadata": {
    "deletable": false,
    "editable": false,
    "nbgrader": {
     "cell_type": "markdown",
     "checksum": "a01b9942267b893c70b06ee9553ec670",
     "grade": false,
     "grade_id": "cell-7a0c64a81502c316",
     "locked": true,
     "schema_version": 3,
     "solution": false,
     "task": false
    }
   },
   "source": [
    "**2.1.09)** Following the hints from 2.1.06) calculate <code>H</code>."
   ]
  },
  {
   "cell_type": "code",
   "execution_count": 87,
   "metadata": {
    "deletable": false,
    "nbgrader": {
     "cell_type": "code",
     "checksum": "e12bb24dd4699c45d7a05e40c9be921d",
     "grade": false,
     "grade_id": "cell-4a79f06c849d59da",
     "locked": false,
     "schema_version": 3,
     "solution": true,
     "task": false
    }
   },
   "outputs": [
    {
     "name": "stdout",
     "output_type": "stream",
     "text": [
      "[[ 1  2]\n",
      " [-3 -4]\n",
      " [-5 -6]]\n"
     ]
    }
   ],
   "source": [
    "X_train_prime = X_train*np.column_stack((t_train_svm, t_train_svm))\n",
    "H = X_train_prime@X_train_prime.T"
   ]
  },
  {
   "cell_type": "code",
   "execution_count": 88,
   "metadata": {
    "deletable": false,
    "editable": false,
    "nbgrader": {
     "cell_type": "code",
     "checksum": "9aced0e85d211a11160d82bee4010575",
     "grade": true,
     "grade_id": "cell-9cc7f82127b8848b",
     "locked": true,
     "points": 2,
     "schema_version": 3,
     "solution": false,
     "task": false
    }
   },
   "outputs": [],
   "source": [
    "assert H.shape[0] == 1453\n",
    "assert H.shape[1] == 1453\n",
    "assert H[0,0] == 1.265625\n",
    "assert H[-1,-1] == 0.5625"
   ]
  },
  {
   "cell_type": "markdown",
   "metadata": {
    "deletable": false,
    "editable": false,
    "nbgrader": {
     "cell_type": "markdown",
     "checksum": "2af766296cb9d61bbe50a118a238f5b8",
     "grade": false,
     "grade_id": "cell-50311856543fd10b",
     "locked": true,
     "schema_version": 3,
     "solution": false,
     "task": false
    }
   },
   "source": [
    "**2.1.10)** Calculate/define <code>P</code>, <code>q</code>, <code>G</code>, <code>h</code>, <code>A</code> and <code>b</code>.\n",
    "\n",
    "NOTE: <code>G</code> and <code>h</code> should be formulated w.r.t. the soft margin constraint as seen in 2.1.05)."
   ]
  },
  {
   "cell_type": "code",
   "execution_count": 155,
   "metadata": {
    "deletable": false,
    "nbgrader": {
     "cell_type": "code",
     "checksum": "f9985af4f20ade93d08f6a28703892c4",
     "grade": false,
     "grade_id": "cell-18c8091cbf810d2d",
     "locked": false,
     "schema_version": 3,
     "solution": true,
     "task": false
    }
   },
   "outputs": [],
   "source": [
    "P = H\n",
    "q = -np.ones((m, 1))\n",
    "G = np.block([[-np.eye(m)], [np.eye(m)]])\n",
    "h = np.concatenate([np.zeros((m, )), C*np.ones((m, ))])\n",
    "A = t_train_svm.reshape(1, -1)\n",
    "b = np.zeros(1)\n"
   ]
  },
  {
   "cell_type": "code",
   "execution_count": 156,
   "metadata": {
    "deletable": false
   },
   "outputs": [
    {
     "name": "stdout",
     "output_type": "stream",
     "text": [
      "(2906, 1453)\n",
      "(2906,)\n",
      "1453\n"
     ]
    }
   ],
   "source": [
    "print(G.shape)\n",
    "print(h.shape)\n",
    "print(m)"
   ]
  },
  {
   "cell_type": "code",
   "execution_count": 157,
   "metadata": {
    "deletable": false,
    "editable": false,
    "nbgrader": {
     "cell_type": "code",
     "checksum": "decc8f9ded889a77928382f22632dce4",
     "grade": true,
     "grade_id": "cell-f0a62a2221a2ec3c",
     "locked": true,
     "points": 4,
     "schema_version": 3,
     "solution": false,
     "task": false
    }
   },
   "outputs": [],
   "source": [
    "assert P.shape[0] == 1453\n",
    "assert P.shape[1] == 1453\n",
    "\n",
    "assert q.shape[0] == 1453\n",
    "assert q.shape[1] == 1\n",
    "assert q[0,0] == -1\n",
    "\n",
    "assert G.shape[0] == 2906\n",
    "assert G.shape[1] == 1453\n",
    "assert G[-1,-1] == 1.0\n",
    "\n",
    "assert h.shape[0] == 2906\n",
    "assert h.ndim == 1\n",
    "assert h[0] == 0.0\n",
    "\n",
    "assert A.shape[0] == 1\n",
    "assert A.shape[1] == 1453\n",
    "assert A[0,0] == 1.0\n",
    "\n",
    "assert b.shape[0] == 1\n",
    "assert b.ndim == 1\n"
   ]
  },
  {
   "cell_type": "code",
   "execution_count": 158,
   "metadata": {
    "deletable": false
   },
   "outputs": [],
   "source": [
    "#if you are stuck here, uncomment the lines below to load variables\n",
    "\n",
    "# npzfile = np.load('./get_unstuck/cvxopt.npz')\n",
    "# P_us = npzfile['P']\n",
    "# q_us = npzfile['q']\n",
    "# G_us = npzfile['G']\n",
    "# h_us = npzfile['h']\n",
    "# A_us = npzfile['A']\n",
    "# b_us = npzfile['b']\n"
   ]
  },
  {
   "cell_type": "markdown",
   "metadata": {
    "deletable": false,
    "editable": false,
    "nbgrader": {
     "cell_type": "markdown",
     "checksum": "a4040bbea8a6bd0bb831edcd4e8fbc6d",
     "grade": false,
     "grade_id": "cell-e13535b615000caa",
     "locked": true,
     "schema_version": 3,
     "solution": false,
     "task": false
    }
   },
   "source": [
    "**2.1.11)** Now we are almost ready to run the solver..."
   ]
  },
  {
   "cell_type": "code",
   "execution_count": 159,
   "metadata": {
    "deletable": false,
    "editable": false,
    "nbgrader": {
     "cell_type": "code",
     "checksum": "1104f374c13c5ec5ce094514fe9f555d",
     "grade": false,
     "grade_id": "cell-6dab062bafd57b64",
     "locked": true,
     "schema_version": 3,
     "solution": false,
     "task": false
    }
   },
   "outputs": [],
   "source": [
    "#Converting into cvxopt format\n",
    "P = cvxopt_matrix(P)\n",
    "q = cvxopt_matrix(q)\n",
    "G = cvxopt_matrix(G)\n",
    "h = cvxopt_matrix(h)\n",
    "A = cvxopt_matrix(A)\n",
    "b = cvxopt_matrix(b)\n",
    "\n",
    "#Setting solver parameters \n",
    "cvxopt_solvers.options['show_progress'] = True\n",
    "cvxopt_solvers.options['abstol'] = 1e-10\n",
    "cvxopt_solvers.options['reltol'] = 1e-10\n",
    "cvxopt_solvers.options['feastol'] = 1e-10"
   ]
  },
  {
   "cell_type": "markdown",
   "metadata": {
    "deletable": false,
    "editable": false,
    "nbgrader": {
     "cell_type": "markdown",
     "checksum": "f51589481724a4d9b61c43fca9f3fb77",
     "grade": false,
     "grade_id": "cell-ada8d93154bf5320",
     "locked": true,
     "schema_version": 3,
     "solution": false,
     "task": false
    }
   },
   "source": [
    "**2.1.12)** Run the solver and store the results in `sol`"
   ]
  },
  {
   "cell_type": "code",
   "execution_count": 216,
   "metadata": {
    "deletable": false,
    "nbgrader": {
     "cell_type": "code",
     "checksum": "d7d127f47779a283d3b6f0e269c41570",
     "grade": false,
     "grade_id": "cell-9b524cbbbe4b23b4",
     "locked": false,
     "schema_version": 3,
     "solution": true,
     "task": false
    }
   },
   "outputs": [
    {
     "name": "stdout",
     "output_type": "stream",
     "text": [
      "     pcost       dcost       gap    pres   dres\n",
      " 0: -1.5694e+03 -2.1233e+04  2e+05  4e+00  5e-12\n",
      " 1: -1.1521e+03 -1.7430e+04  4e+04  9e-01  4e-12\n",
      " 2: -9.2263e+02 -1.0562e+04  2e+04  3e-01  2e-12\n",
      " 3: -7.5552e+02 -4.3660e+03  5e+03  9e-02  9e-13\n",
      " 4: -6.9899e+02 -1.8473e+03  1e+03  2e-02  4e-13\n",
      " 5: -7.6343e+02 -1.1777e+03  5e+02  6e-03  3e-13\n",
      " 6: -7.9309e+02 -1.0980e+03  3e+02  4e-03  2e-13\n",
      " 7: -8.1903e+02 -1.0283e+03  2e+02  2e-03  3e-13\n",
      " 8: -8.3628e+02 -9.8890e+02  2e+02  1e-03  3e-13\n",
      " 9: -8.5314e+02 -9.5083e+02  1e+02  8e-04  3e-13\n",
      "10: -8.6534e+02 -9.2639e+02  6e+01  4e-04  3e-13\n",
      "11: -8.7401e+02 -9.0749e+02  3e+01  1e-04  3e-13\n",
      "12: -8.7731e+02 -9.0166e+02  2e+01  8e-05  3e-13\n",
      "13: -8.8114e+02 -8.9542e+02  1e+01  4e-05  3e-13\n",
      "14: -8.8402e+02 -8.9125e+02  7e+00  2e-05  3e-13\n",
      "15: -8.8562e+02 -8.8881e+02  3e+00  4e-06  4e-13\n",
      "16: -8.8635e+02 -8.8786e+02  2e+00  1e-06  4e-13\n",
      "17: -8.8695e+02 -8.8718e+02  2e-01  1e-07  3e-13\n",
      "18: -8.8706e+02 -8.8706e+02  6e-03  3e-09  4e-13\n",
      "19: -8.8706e+02 -8.8706e+02  6e-05  3e-11  4e-13\n",
      "20: -8.8706e+02 -8.8706e+02  6e-07  3e-13  5e-13\n",
      "21: -8.8706e+02 -8.8706e+02  6e-09  2e-14  4e-13\n",
      "Optimal solution found.\n"
     ]
    }
   ],
   "source": [
    "sol = None\n",
    "sol = cvxopt_solvers.qp(P, q, G, h, A, b)\n",
    "alphas = np.array(sol['x'])"
   ]
  },
  {
   "cell_type": "code",
   "execution_count": 161,
   "metadata": {
    "deletable": false,
    "editable": false,
    "nbgrader": {
     "cell_type": "code",
     "checksum": "866d021aab04c38977551f0b7fbc6d4f",
     "grade": true,
     "grade_id": "cell-12a49d56e5d129b2",
     "locked": true,
     "points": 2,
     "schema_version": 3,
     "solution": false,
     "task": false
    }
   },
   "outputs": [],
   "source": [
    "assert isinstance(sol, dict)\n",
    "assert 'primal objective' in sol.keys()\n",
    "assert alphas.shape[0] == 1453\n"
   ]
  },
  {
   "cell_type": "markdown",
   "metadata": {
    "deletable": false,
    "editable": false,
    "nbgrader": {
     "cell_type": "markdown",
     "checksum": "730039986b49d964efaf973481365a63",
     "grade": false,
     "grade_id": "cell-adbc2b8bd17ba02e",
     "locked": true,
     "schema_version": 3,
     "solution": false,
     "task": false
    }
   },
   "source": [
    "**2.1.13)** Calculate `w_svm` and `b_svm` (see page **190**, 3rd edition, of the book. More information can be also found in Appendix C, 2nd edition.)"
   ]
  },
  {
   "cell_type": "code",
   "execution_count": 224,
   "metadata": {
    "deletable": false,
    "nbgrader": {
     "cell_type": "code",
     "checksum": "03991bdd54a53ae1bd48c2cd377fb943",
     "grade": false,
     "grade_id": "cell-5b6e3d887dcd32d6",
     "locked": false,
     "schema_version": 3,
     "solution": true,
     "task": false
    }
   },
   "outputs": [
    {
     "name": "stdout",
     "output_type": "stream",
     "text": [
      "w =  [-0.42666667 -1.06666667]\n",
      "b =  2.0612747252430093\n"
     ]
    }
   ],
   "source": [
    "#==================Computing parameters===============================#\n",
    "# Use a threshold of 1e-4 for alpha (rather than 0) for computing b_svm\n",
    "\n",
    "w_svm = None\n",
    "# b_svm = 0\n",
    "\n",
    "\n",
    "w_svm = np.sum(alphas * t_train_svm.reshape(-1, 1) * X_train, axis=0)\n",
    "mask = (alphas > 1e-4).reshape(-1, )\n",
    "b_svm = np.sum(t_train_svm[mask] - np.dot(X_train[mask], w_svm )) / np.sum(mask)\n",
    "\n",
    "# Display results\n",
    "w_svm = w_svm.flatten()\n",
    "print('w = ', w_svm)\n",
    "print('b = ', b_svm)"
   ]
  },
  {
   "cell_type": "code",
   "execution_count": 225,
   "metadata": {
    "deletable": false,
    "editable": false,
    "nbgrader": {
     "cell_type": "code",
     "checksum": "e433cffd6fd840b28232297c2f8d3750",
     "grade": true,
     "grade_id": "cell-2637a561213c57ff",
     "locked": true,
     "points": 3,
     "schema_version": 3,
     "solution": false,
     "task": false
    }
   },
   "outputs": [],
   "source": [
    "assert np.abs(w_svm[0] + 0.42666667) < 1e-6\n",
    "assert np.abs(b_svm - 2.06127472524322) < 1e-6\n"
   ]
  },
  {
   "cell_type": "markdown",
   "metadata": {
    "deletable": false,
    "editable": false,
    "nbgrader": {
     "cell_type": "markdown",
     "checksum": "b42dc7e780929d918cdca50952be9beb",
     "grade": false,
     "grade_id": "cell-2e086eb5ff8abc3b",
     "locked": true,
     "schema_version": 3,
     "solution": false,
     "task": false
    }
   },
   "source": [
    "**2.1.14)** Implement the SVC prediction (see page **186**, 3rd edition). Note that the predicted labels should be 0 and 1, not -1 and +1!"
   ]
  },
  {
   "cell_type": "code",
   "execution_count": 251,
   "metadata": {
    "deletable": false,
    "nbgrader": {
     "cell_type": "code",
     "checksum": "7456bb124f068c8284f99cb54785eb17",
     "grade": false,
     "grade_id": "cell-0aaed0932cd77be5",
     "locked": false,
     "schema_version": 3,
     "solution": true,
     "task": false
    }
   },
   "outputs": [],
   "source": [
    "def own_svm_predict(b,w,X):\n",
    "    return np.dot(X, w) + b > 0"
   ]
  },
  {
   "cell_type": "code",
   "execution_count": 252,
   "metadata": {
    "deletable": false,
    "editable": false,
    "nbgrader": {
     "cell_type": "code",
     "checksum": "6a7660e9f0332a072a16c5209c2aa2b4",
     "grade": true,
     "grade_id": "cell-b92088e8b41e4145",
     "locked": true,
     "points": 1,
     "schema_version": 3,
     "solution": false,
     "task": false
    }
   },
   "outputs": [],
   "source": [
    "assert (own_svm_predict(1, np.array([2, 3]), np.array([[4, 5], [-5, 0]])) == np.array([1, 0])).all()\n",
    "assert (own_svm_predict(-1, np.array([0, 1]), np.array([[-5, 0], [1, 0]])) == np.array([0, 0])).all()"
   ]
  },
  {
   "cell_type": "code",
   "execution_count": 253,
   "metadata": {
    "deletable": false,
    "editable": false,
    "nbgrader": {
     "cell_type": "code",
     "checksum": "5942559f348d43f0a7f8183eb79d50a6",
     "grade": false,
     "grade_id": "cell-86ba206969f3ccb6",
     "locked": true,
     "schema_version": 3,
     "solution": false,
     "task": false
    }
   },
   "outputs": [
    {
     "name": "stdout",
     "output_type": "stream",
     "text": [
      "own_svm accuracy score: 0.8948453608247423\n",
      "own_svm confusion matrix:\n",
      " [[219  28]\n",
      " [ 23 215]]\n"
     ]
    },
    {
     "data": {
      "image/png": "[encoded data removed]",
      "text/plain": [
       "<Figure size 640x480 with 1 Axes>"
      ]
     },
     "metadata": {},
     "output_type": "display_data"
    }
   ],
   "source": [
    "own_svm_y_pred = own_svm_predict(b_svm,w_svm,X_test)\n",
    "print_accuracy_confusion(y_test, own_svm_y_pred, 'own_svm')\n",
    "\n",
    "# A few lines to make own_svm_predict work with plot_feature_space_function (without implementing a fullblown sklearn calssifier)\n",
    "import functools\n",
    "own_svm_predict_param = functools.partial(own_svm_predict, b_svm, w_svm)\n",
    "\n",
    "plot_feature_space_function(own_svm_predict_param, X_lin, y_binary_subset, axes, 0, 1)"
   ]
  },
  {
   "cell_type": "markdown",
   "metadata": {
    "deletable": false,
    "editable": false,
    "nbgrader": {
     "cell_type": "markdown",
     "checksum": "99549e0fbcd7e686ec88ac8b7e4f93f6",
     "grade": false,
     "grade_id": "cell-eb09ad784e0508a5",
     "locked": true,
     "schema_version": 3,
     "solution": false,
     "task": false
    }
   },
   "source": [
    "**2.1.15)** Let's compare our solution to the one from sklearn."
   ]
  },
  {
   "cell_type": "code",
   "execution_count": 254,
   "metadata": {
    "deletable": false,
    "editable": false,
    "nbgrader": {
     "cell_type": "code",
     "checksum": "2f06206b9f654a6b12509f6f6d9f874c",
     "grade": false,
     "grade_id": "cell-12a93884abb386fb",
     "locked": true,
     "schema_version": 3,
     "solution": false,
     "task": false
    }
   },
   "outputs": [
    {
     "name": "stdout",
     "output_type": "stream",
     "text": [
      "w =  [[-0.42697222 -1.06654914]]\n",
      "b =  [2.49401716]\n",
      "lin_svm accuracy score: 0.8907216494845361\n",
      "lin_svm confusion matrix:\n",
      " [[202  45]\n",
      " [  8 230]]\n"
     ]
    },
    {
     "data": {
      "image/png": "[encoded data removed]",
      "text/plain": [
       "<Figure size 640x480 with 1 Axes>"
      ]
     },
     "metadata": {},
     "output_type": "display_data"
    }
   ],
   "source": [
    "print('w = ',lin_svm_clf.coef_)\n",
    "print('b = ',lin_svm_clf.intercept_)\n",
    "\n",
    "print_accuracy_confusion(y_test, lin_svm_y_pred, 'lin_svm')\n",
    "plot_feature_space_function(lin_svm_clf.predict, X_lin, y_binary_subset, axes, 0, 1)"
   ]
  },
  {
   "cell_type": "markdown",
   "metadata": {
    "deletable": false,
    "editable": false,
    "nbgrader": {
     "cell_type": "markdown",
     "checksum": "ab5c6214feec5ba084c8d6e0fd68586d",
     "grade": false,
     "grade_id": "cell-7f0e247df65f8b16",
     "locked": true,
     "schema_version": 3,
     "solution": false,
     "task": false
    }
   },
   "source": [
    "Both the accuracy and the `w` parameter values should be close. Small differences occur depending on how the optimization is done (e.g., tolerances).\n",
    "\n",
    "If you are interested in how this method is modified to build non-linear SVMs using the *kernel trick*, read pages **190-193**, 3rd edition, of the book."
   ]
  },
  {
   "cell_type": "markdown",
   "metadata": {
    "deletable": false,
    "editable": false,
    "nbgrader": {
     "cell_type": "markdown",
     "checksum": "799f3c849b18056dfdcbbfd8ebc9ea22",
     "grade": false,
     "grade_id": "cell-42b06e042af1fd8a",
     "locked": true,
     "schema_version": 3,
     "solution": false,
     "task": false
    }
   },
   "source": [
    "Linear SVM implementation based on https://xavierbourretsicotte.github.io/SVM_implementation.html"
   ]
  },
  {
   "cell_type": "markdown",
   "metadata": {
    "deletable": false,
    "editable": false,
    "nbgrader": {
     "cell_type": "markdown",
     "checksum": "74bb3a803add59714958666ae1480798",
     "grade": false,
     "grade_id": "cell-77acb04a49583f46",
     "locked": true,
     "schema_version": 3,
     "solution": false,
     "task": false
    }
   },
   "source": [
    "## 2.2) Voting classifier\n",
    "\n",
    "We already tried quite a few classifiers on this data set. Let's try to combine them in an ensemble (chapter 7 of the book).\n",
    "\n",
    "First we'll define two more classifiers for the ensemble."
   ]
  },
  {
   "cell_type": "code",
   "execution_count": 255,
   "metadata": {
    "deletable": false,
    "editable": false,
    "nbgrader": {
     "cell_type": "code",
     "checksum": "83f70025761e354929b6677966707c46",
     "grade": false,
     "grade_id": "cell-29808b1082deeb73",
     "locked": true,
     "schema_version": 3,
     "solution": false,
     "task": false
    }
   },
   "outputs": [
    {
     "name": "stdout",
     "output_type": "stream",
     "text": [
      "rf accuracy score: 0.8701030927835052\n",
      "rf confusion matrix:\n",
      " [[210  37]\n",
      " [ 26 212]]\n"
     ]
    },
    {
     "data": {
      "image/png": "[encoded data removed]",
      "text/plain": [
       "<Figure size 640x480 with 1 Axes>"
      ]
     },
     "metadata": {},
     "output_type": "display_data"
    }
   ],
   "source": [
    "from sklearn.ensemble import RandomForestClassifier\n",
    "rf_clf = RandomForestClassifier(random_state=0)\n",
    "rf_clf.fit(X_train, y_train)\n",
    "rf_y_pred = rf_clf.predict(X_test)\n",
    "print_accuracy_confusion(y_test, rf_y_pred, 'rf')\n",
    "plot_feature_space_function(rf_clf.predict, X_lin, y_binary_subset, axes, 0, 1)"
   ]
  },
  {
   "cell_type": "code",
   "execution_count": 256,
   "metadata": {
    "deletable": false,
    "editable": false,
    "nbgrader": {
     "cell_type": "code",
     "checksum": "326c2346636f38483963230b055a416d",
     "grade": false,
     "grade_id": "cell-3eb33bc5caf92dc2",
     "locked": true,
     "schema_version": 3,
     "solution": false,
     "task": false
    }
   },
   "outputs": [
    {
     "name": "stdout",
     "output_type": "stream",
     "text": [
      "knn accuracy score: 0.8886597938144329\n",
      "knn confusion matrix:\n",
      " [[206  41]\n",
      " [ 13 225]]\n"
     ]
    },
    {
     "data": {
      "image/png": "[encoded data removed]",
      "text/plain": [
       "<Figure size 640x480 with 1 Axes>"
      ]
     },
     "metadata": {},
     "output_type": "display_data"
    }
   ],
   "source": [
    "from sklearn.neighbors import KNeighborsClassifier\n",
    "knn_clf = KNeighborsClassifier(5)\n",
    "knn_clf.fit(X_train, y_train)\n",
    "knn_y_pred = knn_clf.predict(X_test)\n",
    "print_accuracy_confusion(y_test, knn_y_pred, 'knn')\n",
    "plot_feature_space_function(knn_clf.predict, X_lin, y_binary_subset, axes, 0, 1)"
   ]
  },
  {
   "cell_type": "markdown",
   "metadata": {
    "deletable": false,
    "editable": false,
    "nbgrader": {
     "cell_type": "markdown",
     "checksum": "577d21f9790f1cbd1e568cbf9a1ba2ed",
     "grade": false,
     "grade_id": "cell-ad0a7b6b56d1f422",
     "locked": true,
     "schema_version": 3,
     "solution": false,
     "task": false
    }
   },
   "source": [
    "**2.2.01)** Combine (concatenate) the predictions of the SGD classifier `sgd_clf` (we implemented before looking into how to implement a linear SVM), the random forest `rf_clf`, and of the KNN `knn_clf` in one variable `combined_pred`."
   ]
  },
  {
   "cell_type": "code",
   "execution_count": 266,
   "metadata": {
    "deletable": false,
    "nbgrader": {
     "cell_type": "code",
     "checksum": "57bc73c2a40e0ee8a4df85e5f7541afa",
     "grade": false,
     "grade_id": "cell-8d13a36a3a68036d",
     "locked": false,
     "schema_version": 3,
     "solution": true,
     "task": false
    }
   },
   "outputs": [],
   "source": [
    "combined_pred = np.vstack((sgd_y_pred, rf_y_pred, knn_y_pred))"
   ]
  },
  {
   "cell_type": "code",
   "execution_count": 267,
   "metadata": {
    "deletable": false,
    "editable": false,
    "nbgrader": {
     "cell_type": "code",
     "checksum": "71f6fd8d9644a3ef10cad38e44b0296e",
     "grade": true,
     "grade_id": "cell-5a0e2431fb4f0bb9",
     "locked": true,
     "points": 1,
     "schema_version": 3,
     "solution": false,
     "task": false
    }
   },
   "outputs": [],
   "source": [
    "assert combined_pred.shape[0] == 3\n",
    "assert combined_pred.shape[1] == 485"
   ]
  },
  {
   "cell_type": "markdown",
   "metadata": {
    "deletable": false,
    "editable": false,
    "nbgrader": {
     "cell_type": "markdown",
     "checksum": "7ec1e576f396a48eb99af45e17a203d8",
     "grade": false,
     "grade_id": "cell-43c40cdcb7b02965",
     "locked": true,
     "schema_version": 3,
     "solution": false,
     "task": false
    }
   },
   "source": [
    "**2.2.02)** Implement hard voting, i.e., generate a new variable `hard_voting_pred` where the prediction corresponds to that of the majority of the classifiers."
   ]
  },
  {
   "cell_type": "code",
   "execution_count": 274,
   "metadata": {
    "deletable": false,
    "nbgrader": {
     "cell_type": "code",
     "checksum": "6062380c9200582326fe44c768facf6e",
     "grade": false,
     "grade_id": "cell-f3a52970a1dabc79",
     "locked": false,
     "schema_version": 3,
     "solution": true,
     "task": false
    }
   },
   "outputs": [
    {
     "name": "stdout",
     "output_type": "stream",
     "text": [
      "hard_voting accuracy score: 0.8969072164948454\n",
      "hard_voting confusion matrix:\n",
      " [[217  30]\n",
      " [ 20 218]]\n"
     ]
    }
   ],
   "source": [
    "from scipy import stats\n",
    "\n",
    "hard_voting_pred = stats.mode(combined_pred)[0]\n",
    "print_accuracy_confusion(y_test, hard_voting_pred, 'hard_voting')"
   ]
  },
  {
   "cell_type": "code",
   "execution_count": 275,
   "metadata": {
    "deletable": false,
    "editable": false,
    "nbgrader": {
     "cell_type": "code",
     "checksum": "85ae459d366ed87e85ae19406f19a1cc",
     "grade": true,
     "grade_id": "cell-d65b28fe6dbe2db6",
     "locked": true,
     "points": 1,
     "schema_version": 3,
     "solution": false,
     "task": false
    }
   },
   "outputs": [],
   "source": [
    "assert hard_voting_pred.shape[0] == 485\n",
    "assert hard_voting_pred.ndim == 1 or hard_voting_pred.shape[1] == 1\n",
    "assert accuracy_score(y_test, hard_voting_pred) > 0.8927"
   ]
  },
  {
   "cell_type": "markdown",
   "metadata": {
    "deletable": false,
    "editable": false,
    "nbgrader": {
     "cell_type": "markdown",
     "checksum": "f643ce0e7418e718b03560a1ffda0dc2",
     "grade": false,
     "grade_id": "cell-eeaaf7ec19ae29da",
     "locked": true,
     "schema_version": 3,
     "solution": false,
     "task": false
    }
   },
   "source": [
    "**2.2.03)** Even this very simple voting approach brings the 3 classifiers that don't perform that well individually to the same level as your best performing classifier we had so far, the linear SVM."
   ]
  },
  {
   "cell_type": "markdown",
   "metadata": {
    "deletable": false,
    "editable": false,
    "nbgrader": {
     "cell_type": "markdown",
     "checksum": "f64a5d1934277f3d6f70068438ff4450",
     "grade": false,
     "grade_id": "cell-3325f249f44d44c6",
     "locked": true,
     "schema_version": 3,
     "solution": false,
     "task": false
    }
   },
   "source": [
    "#### 2.2.04) Bagging \n",
    "Now let's see what we can do with an ensemble of just our worst performing classifier, the SGD. The code is already provided below, your task is to adjust the parameters such that it beats the linear SVM by getting an accuracy >0.9"
   ]
  },
  {
   "cell_type": "code",
   "execution_count": 279,
   "metadata": {
    "deletable": false,
    "nbgrader": {
     "cell_type": "code",
     "checksum": "560b2c8c785fe35ef892a46774bcc4ae",
     "grade": false,
     "grade_id": "cell-fa0dcba5997172ba",
     "locked": false,
     "schema_version": 3,
     "solution": true,
     "task": false
    }
   },
   "outputs": [
    {
     "name": "stdout",
     "output_type": "stream",
     "text": [
      "bag accuracy score: 0.9154639175257732\n",
      "bag confusion matrix:\n",
      " [[218  29]\n",
      " [ 12 226]]\n"
     ]
    }
   ],
   "source": [
    "# Bagging\n",
    "from sklearn.ensemble import BaggingClassifier\n",
    "from sklearn.linear_model import SGDClassifier\n",
    "\n",
    "n_estimators=12\n",
    "max_samples=0.5\n",
    "bootstrap=True\n",
    "\n",
    "best_score = 0\n",
    "best_params = None\n",
    "\n",
    "# for i in np.arange(1, 100):\n",
    "#     for j in np.arange(0.1, 1, 0.01):\n",
    "#         for k in [True, False]:\n",
    "#             bag_clf = BaggingClassifier(SGDClassifier(random_state=0),\n",
    "#                             n_estimators=i,\n",
    "#                             max_samples=j, \n",
    "#                             bootstrap=k, \n",
    "#                             random_state=0)\n",
    "\n",
    "#             bag_clf.fit(X_train, y_train)\n",
    "#             bag_y_pred = bag_clf.predict(X_test)\n",
    "#             score = accuracy_score(y_test, bag_y_pred)\n",
    "#             if score > best_score:\n",
    "#                 best_score = score\n",
    "#                 best_params = (i, j, k)\n",
    "\n",
    "bag_clf = BaggingClassifier(SGDClassifier(random_state=0),\n",
    "                            n_estimators=best_params[0],\n",
    "                            max_samples=best_params[1], \n",
    "                            bootstrap=best_params[2], \n",
    "                            random_state=0)\n",
    "\n",
    "bag_clf.fit(X_train, y_train)\n",
    "bag_y_pred = bag_clf.predict(X_test)\n",
    "\n",
    "print_accuracy_confusion(y_test, bag_y_pred, 'bag')"
   ]
  },
  {
   "cell_type": "code",
   "execution_count": 281,
   "metadata": {
    "deletable": false,
    "editable": false,
    "nbgrader": {
     "cell_type": "code",
     "checksum": "59cd431591081323fda364d58f8e0e76",
     "grade": true,
     "grade_id": "cell-c1f8c0c9f7654358",
     "locked": true,
     "points": 1,
     "schema_version": 3,
     "solution": false,
     "task": false
    }
   },
   "outputs": [],
   "source": [
    "assert accuracy_score(y_test, bag_y_pred) > 0.9"
   ]
  },
  {
   "cell_type": "markdown",
   "metadata": {
    "deletable": false,
    "editable": false,
    "nbgrader": {
     "cell_type": "markdown",
     "checksum": "e62e4306092a19562915eab265ea45f7",
     "grade": false,
     "grade_id": "cell-0c8be4495415555f",
     "locked": true,
     "schema_version": 3,
     "solution": false,
     "task": false
    }
   },
   "source": [
    "### 3) Imitation Learning for Motion Planning\n",
    "\n",
    "In the last section of this practicum, we will use our machine learning knowledge in a robotics example.\n",
    "\n",
    "#### Motion Planning\n",
    "Motion planning is a field of robotics in which robots have to plan and execute a trajectory in order to reach a goal. The following image shows the Mirte planning a path to reach its goal while avoiding obstacles.\n",
    "\n",
    "<center><img src=\"img/Mirte.png\" alt=\"drawing\" width=\"400\"/></center>\n",
    "\n",
    "Commonly, these algorithms have to be designed and tuned by someone with knowledge in robotics and/or control. However, if we aim to have robots in our daily life outside industrial settings, such an approach becomes limiting, because it is not feasible to have a roboticist tuning every robot for every different situation.\n",
    "\n",
    "#### Imitation Learning\n",
    "Imitation Learning is a promising line of research that could address this problem. Imitation Learning can give humans, that are not experts in robotics/control, the ability to program a robot. The idea is simple, a human provides a set of demonstrations of a task, and a robot imitates her/him.\n",
    "\n",
    "#### Goal\n",
    "\n",
    "Build a Motion Planning algorithm that uses an Imitation Learning technique, called Behavioral Cloning, to fit a classifier, using Supervised Learning, to demonstrations provided by an *oracle*.\n",
    "\n",
    "* **Oracle:** a system that provides demonstrations of a task. In our framing of the problem the oracle is a human. However, for practical reasons, in this assignment we are going to use a Motion Planning algorithm (Artificial Potential Fields, implementation from https://atsushisakai.github.io/PythonRobotics/modules/path_planning/grid_base_search/grid_base_search.html#potential-field-algorithm) as an oracle, and given that we are going to imitate its behavior, it is not required for you to know how this method works."
   ]
  },
  {
   "cell_type": "code",
   "execution_count": 282,
   "metadata": {
    "deletable": false,
    "editable": false,
    "nbgrader": {
     "cell_type": "code",
     "checksum": "8b04ba9be227aaac065e1ea7855405bc",
     "grade": false,
     "grade_id": "cell-010258c8925bee56",
     "locked": true,
     "schema_version": 3,
     "solution": false,
     "task": false
    }
   },
   "outputs": [],
   "source": [
    "from potential_field_planning import create_environment, potential_field_planning, classifier_planning, plot_environment\n",
    "import numpy as np\n",
    "import matplotlib.pyplot as plt"
   ]
  },
  {
   "cell_type": "markdown",
   "metadata": {
    "deletable": false,
    "editable": false,
    "nbgrader": {
     "cell_type": "markdown",
     "checksum": "e575ead79309817774c2f4def475f955",
     "grade": false,
     "grade_id": "cell-28b1160f8052cbd4",
     "locked": true,
     "schema_version": 3,
     "solution": false,
     "task": false
    }
   },
   "source": [
    "**3.01)** The function `create_environment` randomly generates a 2D environment that consists of a starting point `[sx, sy]`, a goal `[gx, gy]`, and obstacles `[ox, oy]`. The dimensionality of `ox` and `oy` is equal to the number of obstacles. \n",
    "\n",
    "Let's create an environment with one obstacle.\n",
    "\n",
    "*Note: this function only supports 1, 2 or 3 obstacles.*"
   ]
  },
  {
   "cell_type": "code",
   "execution_count": 283,
   "metadata": {
    "deletable": false,
    "editable": false,
    "nbgrader": {
     "cell_type": "code",
     "checksum": "4a3a1fbb2e174096d086d29c659ef098",
     "grade": false,
     "grade_id": "cell-d82fcc0a45c97f44",
     "locked": true,
     "schema_version": 3,
     "solution": false,
     "task": false
    }
   },
   "outputs": [
    {
     "name": "stdout",
     "output_type": "stream",
     "text": [
      "Start              : [0.0008006237214142065, 2.1163280084228786]\n",
      "Goal               : [5.605211980728757, 6.777831030035783]\n",
      "Obstacles x-coords  : [3.08511002351287]\n",
      "Obstacles y-coords  : [4.60162246721079]\n",
      "Number of obstacles: 1\n"
     ]
    }
   ],
   "source": [
    "env = create_environment(n_obstacles=1, seed=1)\n",
    "\n",
    "print('Start              :', [env.sx, env.sy])\n",
    "print('Goal               :', [env.gx, env.gy])\n",
    "print('Obstacles x-coords  :', env.ox)\n",
    "print('Obstacles y-coords  :', env.oy)\n",
    "print('Number of obstacles:', len(env.ox))"
   ]
  },
  {
   "cell_type": "markdown",
   "metadata": {
    "deletable": false,
    "editable": false,
    "nbgrader": {
     "cell_type": "markdown",
     "checksum": "4d5fdccf17e248131b4ce61de7881631",
     "grade": false,
     "grade_id": "cell-b5d4ae760f6eb2d0",
     "locked": true,
     "schema_version": 3,
     "solution": false,
     "task": false
    }
   },
   "source": [
    "**IMPORTANT:** do not modify the seed values."
   ]
  },
  {
   "cell_type": "markdown",
   "metadata": {
    "deletable": false,
    "editable": false,
    "nbgrader": {
     "cell_type": "markdown",
     "checksum": "8ca22056fbd30a011b1a0cef60123fbd",
     "grade": false,
     "grade_id": "cell-0a6012dd5ae53f93",
     "locked": true,
     "schema_version": 3,
     "solution": false,
     "task": false
    }
   },
   "source": [
    "The function `potential_field_planning` is the oracle. It takes as input the parameters of our environment and generates a collision-free path to the goal. The generated trajectory is saved in `trajectory`.\n",
    "\n",
    "The function `plot_environment` can be used to visualize the environment, namely the obstacles (blue circles), start and goal position, and the trajectory.\n",
    "\n",
    "**3.02)** Let's generate a trajectory with the oracle and visualize it:"
   ]
  },
  {
   "cell_type": "code",
   "execution_count": 284,
   "metadata": {
    "deletable": false,
    "editable": false,
    "nbgrader": {
     "cell_type": "code",
     "checksum": "7536f29424dffb122538c8ea6a4d4f8a",
     "grade": false,
     "grade_id": "cell-e46c56e78b24f27a",
     "locked": true,
     "schema_version": 3,
     "solution": false,
     "task": false
    }
   },
   "outputs": [
    {
     "data": {
      "image/png": "[encoded data removed]",
      "text/plain": [
       "<Figure size 450x450 with 1 Axes>"
      ]
     },
     "metadata": {},
     "output_type": "display_data"
    }
   ],
   "source": [
    "# Generate trajectory\n",
    "trajectory = potential_field_planning(env)\n",
    "\n",
    "# Show environment and trajectory\n",
    "plot_environment(env, potential_field_trajectory=trajectory)"
   ]
  },
  {
   "cell_type": "markdown",
   "metadata": {
    "deletable": false,
    "editable": false,
    "nbgrader": {
     "cell_type": "markdown",
     "checksum": "eb72bc5403edd34d2a1493c396824ef8",
     "grade": false,
     "grade_id": "cell-bfc51143f6bdcdb9",
     "locked": true,
     "schema_version": 3,
     "solution": false,
     "task": false
    }
   },
   "source": [
    "#### 3.03) Dataset\n",
    "\n",
    "We can get trajectories from our oracle in multiple environments to build a dataset to train a classifier.\n",
    "\n",
    "\n",
    "**Input:** In this context, the input of our machine learning model corresponds to the *robot's state* at a specific moment in time of the environment. Each one of these *moments* are known as time steps, and for every time step, as a function of the robot's state, our machine learning method has to make a decision on where to go next. \n",
    "\n",
    "**robot's state** = [gxd, gyd, oxd1,...,oxdn, oyd1, ..., oydn]\n",
    "\n",
    "* **gxd**:  x distance from robot to goal\n",
    "* **gyd**:  y distance from robot to goal\n",
    "* **oxdi**: x distance from robot to obstacle i\n",
    "* **oydi**: y distance from robot to obstacle i\n",
    "\n",
    "**Output:** We are going to solve this problem as a classification problem. Each class corresponds to an *action* that the robot can take i.e., where to go next. These classes are represented using a vector that indicates the directions in which the robot can move.\n",
    "\n",
    "**actions** = north, east, south, west, north-east, north-west, south-east, south-west. Represented with numbers from 0 to 7 respectively."
   ]
  },
  {
   "cell_type": "markdown",
   "metadata": {
    "deletable": false,
    "editable": false,
    "nbgrader": {
     "cell_type": "markdown",
     "checksum": "bb1e5a2785cd9322b50bedd48a8fdb9b",
     "grade": false,
     "grade_id": "cell-12f5c57ca1e44f3c",
     "locked": true,
     "schema_version": 3,
     "solution": false,
     "task": false
    }
   },
   "source": [
    "**3.03)** `trajectory` is a dictionary that contains the following information:\n",
    "* `state`: the set of states visited by the robot. Each row of the state vector corresponds to the state of the robot in a specific time step. \n",
    "* `action`: the set of actions taken by the robot in every time step.\n",
    "* `pos`: the positions that the robot visited, as visualized in the plot.\n",
    "* `success`: a boolean indicating if the goal state was reached\n",
    "* `collision`: a boolean indicating if the robot collided.\n",
    "\n",
    "These names can be used as keys to access the data in the dictionary. \n",
    "\n",
    "Get the states and actions from `trajectory`."
   ]
  },
  {
   "cell_type": "code",
   "execution_count": 287,
   "metadata": {
    "deletable": false,
    "nbgrader": {
     "cell_type": "code",
     "checksum": "9703c61b16c9d80075402490f94bdf80",
     "grade": false,
     "grade_id": "cell-5f04d5142366aa70",
     "locked": false,
     "schema_version": 3,
     "solution": true,
     "task": false
    }
   },
   "outputs": [],
   "source": [
    "states = trajectory[\"state\"]\n",
    "actions = trajectory[\"action\"]"
   ]
  },
  {
   "cell_type": "code",
   "execution_count": 288,
   "metadata": {
    "deletable": false,
    "editable": false,
    "nbgrader": {
     "cell_type": "code",
     "checksum": "ff8d9e0e3efb3fcfd67fefa6bc3c2945",
     "grade": true,
     "grade_id": "cell-b7316513f73d4742",
     "locked": true,
     "points": 1,
     "schema_version": 3,
     "solution": false,
     "task": false
    }
   },
   "outputs": [],
   "source": [
    "assert np.abs(states[0, 1] + 4.66150302) < 1e-6\n",
    "assert np.abs(states[4, 3] + 1.38529445) < 1e-6\n",
    "assert np.abs(states[10, 2] + 1.68430939) < 1e-6\n",
    "assert actions is not None\n"
   ]
  },
  {
   "cell_type": "markdown",
   "metadata": {
    "deletable": false,
    "editable": false,
    "nbgrader": {
     "cell_type": "markdown",
     "checksum": "8442943fef11a42adbbd64fe41dd19ac",
     "grade": false,
     "grade_id": "cell-edcd6eabb64a932f",
     "locked": true,
     "schema_version": 3,
     "solution": false,
     "task": false
    }
   },
   "source": [
    "**3.04)** As mentioned before, the dimensionality of our state vector is a function of the number of obstacles in the environment. \n",
    "\n",
    "Build a function that computes the state dimensionality as a function of n obstacles:\n",
    "\n",
    "*Note: this function has to be solved with an equation.*"
   ]
  },
  {
   "cell_type": "code",
   "execution_count": 291,
   "metadata": {
    "deletable": false,
    "nbgrader": {
     "cell_type": "code",
     "checksum": "da1d817aead0c07701ed187b431860db",
     "grade": false,
     "grade_id": "cell-fe9c25792eb14fc7",
     "locked": false,
     "schema_version": 3,
     "solution": true,
     "task": false
    }
   },
   "outputs": [],
   "source": [
    "def get_state_dim(n_obstacles):\n",
    "    return (n_obstacles + 1)*2"
   ]
  },
  {
   "cell_type": "code",
   "execution_count": 292,
   "metadata": {
    "deletable": false,
    "editable": false,
    "nbgrader": {
     "cell_type": "code",
     "checksum": "36a80166311f43c34d7a62a859c35c14",
     "grade": true,
     "grade_id": "cell-e77d189ca944bab0",
     "locked": true,
     "points": 1,
     "schema_version": 3,
     "solution": false,
     "task": false
    }
   },
   "outputs": [],
   "source": [
    "assert get_state_dim(2) == 6\n",
    "assert get_state_dim(4) == 10\n"
   ]
  },
  {
   "cell_type": "markdown",
   "metadata": {
    "deletable": false,
    "editable": false,
    "nbgrader": {
     "cell_type": "markdown",
     "checksum": "a0224d14af8deb772109d93a6d188804",
     "grade": false,
     "grade_id": "cell-ffe23b0669baac13",
     "locked": true,
     "schema_version": 3,
     "solution": false,
     "task": false
    },
    "scrolled": true
   },
   "source": [
    "**3.05)** Build a function called `generate_dataset` that repeats the following process n times:\n",
    "\n",
    "    1) Create an environment.\n",
    "\n",
    "    2) Get a demonstration from the oracle.\n",
    "\n",
    "    3) Save demonstration, i.e., append visited states into an array called states and taken actions into an \n",
    "    array called actions.\n",
    "\n",
    "The argument `ds_n_obstacles` indicates the number of obstacles the created environments will have, `n_trajectories` corresponds to the number of times the loop above will be repeated, and `show` is a boolean that makes the saved trajectories visible when true.\n",
    "\n",
    "Wherever it says `MODIFY`, you should modify the code."
   ]
  },
  {
   "cell_type": "code",
   "execution_count": 331,
   "metadata": {
    "deletable": false,
    "nbgrader": {
     "cell_type": "code",
     "checksum": "ad9a3f296e5a7f57ee1e99f5c92bce34",
     "grade": false,
     "grade_id": "cell-b9049bf3fa7c8a7e",
     "locked": false,
     "schema_version": 3,
     "solution": true,
     "task": false
    }
   },
   "outputs": [],
   "source": [
    "def generate_dataset(ds_n_obstacles, n_trajectories, show=True):\n",
    "    np.random.seed(18)  # reproducibility, do not change\n",
    "    \n",
    "    # Initialize our arrays\n",
    "    states = np.empty([0, get_state_dim(ds_n_obstacles)])\n",
    "    actions = np.empty([0])\n",
    "    \n",
    "    if show:\n",
    "        # Create lists used for interactive animation\n",
    "        envs = []\n",
    "        trajectories = []\n",
    "       \n",
    "    for i in range(n_trajectories):    \n",
    "        # Create environment\n",
    "        ds_seed = np.random.randint(low=0, high=1e6)  # use this seed to create the environment\n",
    "        env = create_environment(n_obstacles=ds_n_obstacles, seed=ds_seed)\n",
    "        \n",
    "        # Run planner and get a trajectory\n",
    "        trajectory = potential_field_planning(env)\n",
    "        \n",
    "        if show:\n",
    "            # Store generated data for use in interactive animation\n",
    "            envs.append(env)\n",
    "            trajectories.append(trajectory)\n",
    "        # Append data to arrays states and actions. \n",
    "        states = np.append(states, trajectory[\"state\"], axis = 0)\n",
    "        actions = np.append(actions, trajectory[\"action\"], axis = 0)\n",
    "        \n",
    "        # Print progress\n",
    "        if (i + 1) % (n_trajectories // 5 + 1e-6) == 0:\n",
    "            print('Progress dataset: %d %%' % ((i + 1) / n_trajectories * 100))\n",
    "\n",
    "    if show:\n",
    "        # Generate an interactive ipython widget to visualize the generated environments and trajectories\n",
    "        def plot_train_track(i):\n",
    "            plot_environment(envs[i], potential_field_trajectory=trajectories[i])\n",
    "            plt.title(f'dataset trajectory {i}')\n",
    "        ipywidgets.interact(plot_train_track, i=(0,n_trajectories - 1))\n",
    "    \n",
    "    return states, actions"
   ]
  },
  {
   "cell_type": "markdown",
   "metadata": {
    "deletable": false,
    "editable": false,
    "nbgrader": {
     "cell_type": "markdown",
     "checksum": "1a24af8b86d80b51e296db1ed3e809e8",
     "grade": false,
     "grade_id": "cell-478952a18d06b99e",
     "locked": true,
     "schema_version": 3,
     "solution": false,
     "task": false
    }
   },
   "source": [
    "Create a dataset with 5 trajectories and 1 obstacle."
   ]
  },
  {
   "cell_type": "code",
   "execution_count": 332,
   "metadata": {
    "deletable": false
   },
   "outputs": [
    {
     "data": {
      "application/vnd.jupyter.widget-view+json": {
       "model_id": "b4f4857158984f12bc78069f2d0fc968",
       "version_major": 2,
       "version_minor": 0
      },
      "text/plain": [
       "interactive(children=(IntSlider(value=2, description='i', max=4), Output()), _dom_classes=('widget-interact',)…"
      ]
     },
     "metadata": {},
     "output_type": "display_data"
    }
   ],
   "source": [
    "states, actions = generate_dataset(ds_n_obstacles=1, n_trajectories=5, show=True)"
   ]
  },
  {
   "cell_type": "code",
   "execution_count": 333,
   "metadata": {
    "deletable": false,
    "editable": false,
    "nbgrader": {
     "cell_type": "code",
     "checksum": "bd1e5354d99e18eb6dcf1f1de74000e0",
     "grade": true,
     "grade_id": "cell-8c77aa1bedf73c0d",
     "locked": true,
     "points": 2,
     "schema_version": 3,
     "solution": false,
     "task": false
    }
   },
   "outputs": [],
   "source": [
    "assert actions.shape == (77,)\n",
    "assert states.shape == (77, 4)\n",
    "assert np.abs(states[43, 3] - -0.142548887) < 1e-6\n",
    "assert int(actions[60]) == 7\n"
   ]
  },
  {
   "cell_type": "markdown",
   "metadata": {
    "deletable": false,
    "editable": false,
    "nbgrader": {
     "cell_type": "markdown",
     "checksum": "77338c13c29e151e6b728584d5f734a1",
     "grade": false,
     "grade_id": "cell-3933a85a2037f8c8",
     "locked": true,
     "schema_version": 3,
     "solution": false,
     "task": false
    }
   },
   "source": [
    "#### 3.06) Prepare data\n",
    "\n",
    "After collecting a dataset, it is necessary to prepare the data for training."
   ]
  },
  {
   "cell_type": "markdown",
   "metadata": {
    "deletable": false,
    "editable": false,
    "nbgrader": {
     "cell_type": "markdown",
     "checksum": "19bf6ce4808f3f4c76cbe98ab3b5e507",
     "grade": false,
     "grade_id": "cell-17daed588b7827d3",
     "locked": true,
     "schema_version": 3,
     "solution": false,
     "task": false
    }
   },
   "source": [
    "**3.07)** In the collected dataset, the values `states[i, :]`, `states[i+1, :]` and `states[i+2, :]` are correlated (in most of the cases), because they are state transitions obtained in the same demonstration. This brakes an important machine learning assumption, which one? "
   ]
  },
  {
   "cell_type": "code",
   "execution_count": 334,
   "metadata": {
    "deletable": false,
    "nbgrader": {
     "cell_type": "code",
     "checksum": "7abf52d52fc2998d7e1542380bc2cdb9",
     "grade": false,
     "grade_id": "cell-7d8b147a508e8ed4",
     "locked": false,
     "schema_version": 3,
     "solution": true,
     "task": false
    }
   },
   "outputs": [],
   "source": [
    "# Uncomment the correct answer\n",
    "\n",
    "#answer1 = 'the dataset is big and diverse enough, so our input space is properly represented'\n",
    "#answer1 = 'the data has a linear relationship'\n",
    "answer1 = 'the data is i.i.d'\n",
    "#answer1 = 'the kernel trick'\n",
    "\n",
    "# # YOUR CODE HERE\n",
    "# raise NotImplementedError()"
   ]
  },
  {
   "cell_type": "code",
   "execution_count": 335,
   "metadata": {
    "deletable": false,
    "editable": false,
    "nbgrader": {
     "cell_type": "code",
     "checksum": "2f99e8380b52638e5c6869114c8c8dd7",
     "grade": true,
     "grade_id": "cell-d688ecea475dbb89",
     "locked": true,
     "points": 1,
     "schema_version": 3,
     "solution": false,
     "task": false
    }
   },
   "outputs": [],
   "source": [
    "assert 'answer1' in locals()\n"
   ]
  },
  {
   "cell_type": "markdown",
   "metadata": {
    "deletable": false,
    "editable": false,
    "nbgrader": {
     "cell_type": "markdown",
     "checksum": "dd704fb1a6dbbfb17ea856de92eb1b6b",
     "grade": false,
     "grade_id": "cell-7b5f0b940326f793",
     "locked": true,
     "schema_version": 3,
     "solution": false,
     "task": false
    }
   },
   "source": [
    "This problem is alleviated when we randomly sample from our dataset during training; however, we have to be careful to shuffle the dataset before splitting it into training and test; otherwise, the data in these sets will be highly correlated."
   ]
  },
  {
   "cell_type": "code",
   "execution_count": 336,
   "metadata": {
    "deletable": false,
    "editable": false,
    "nbgrader": {
     "cell_type": "code",
     "checksum": "4c7ce526bcf86a41916830be42960104",
     "grade": false,
     "grade_id": "cell-1a1c11427aaa8933",
     "locked": true,
     "schema_version": 3,
     "solution": false,
     "task": false
    }
   },
   "outputs": [],
   "source": [
    "from sklearn.utils import shuffle\n",
    "from sklearn.model_selection import train_test_split\n",
    "from sklearn.preprocessing import StandardScaler"
   ]
  },
  {
   "cell_type": "markdown",
   "metadata": {
    "deletable": false,
    "editable": false,
    "nbgrader": {
     "cell_type": "markdown",
     "checksum": "c236aea0f28ec293c66bec7b849aa25e",
     "grade": false,
     "grade_id": "cell-d81616228e4cd3bb",
     "locked": true,
     "schema_version": 3,
     "solution": false,
     "task": false
    }
   },
   "source": [
    "**3.08)** Using the above imported functions, build the function `data_preprocess`, which takes as an argument the `states` and `actions` arrays generated with `generate_dataset` function. The outputs must be scaled accordinig to fitted `standardScaler`."
   ]
  },
  {
   "cell_type": "code",
   "execution_count": 338,
   "metadata": {
    "deletable": false,
    "nbgrader": {
     "cell_type": "code",
     "checksum": "ed461f4b85388fd6609aa1739d2752ec",
     "grade": false,
     "grade_id": "cell-e30aba37a3cfe3b6",
     "locked": false,
     "schema_version": 3,
     "solution": true,
     "task": false
    }
   },
   "outputs": [],
   "source": [
    "def data_preprocess(states, actions): \n",
    "    # Shuffle data with random_state=0\n",
    "    shuffled_states, shuffled_actions = shuffle(states, actions, random_state=0)\n",
    "\n",
    "    # Separate data into train and test (20% of the data for test set with random_state=0)\n",
    "    states_train, states_test, actions_train, actions_test = train_test_split(shuffled_states, shuffled_actions, test_size=0.2, random_state=0)\n",
    "    \n",
    "    # Scale training and test data (remember that test data should never be used to fit data)\n",
    "    scaler = StandardScaler()\n",
    "    states_train_scaled = scaler.fit_transform(states_train)\n",
    "    states_test_scaled = scaler.transform(states_test)\n",
    "    return states_train_scaled, states_test_scaled, actions_train, actions_test, scaler"
   ]
  },
  {
   "cell_type": "code",
   "execution_count": null,
   "metadata": {
    "deletable": false
   },
   "outputs": [],
   "source": [
    "#if you are stuck here, uncomment the lines below to load variables\n",
    "\n",
    "# npzfile = np.load('./get_unstuck/states_actions.npz')\n",
    "# states = npzfile['states']\n",
    "# actions= npzfile['actions']"
   ]
  },
  {
   "cell_type": "markdown",
   "metadata": {
    "deletable": false,
    "editable": false,
    "nbgrader": {
     "cell_type": "markdown",
     "checksum": "9b49e113f1b4e5228418b8af75c61558",
     "grade": false,
     "grade_id": "cell-1e85a4b920f0cd08",
     "locked": true,
     "schema_version": 3,
     "solution": false,
     "task": false
    }
   },
   "source": [
    "**3.09)** Preprocess dataset"
   ]
  },
  {
   "cell_type": "code",
   "execution_count": 339,
   "metadata": {
    "deletable": false,
    "editable": false,
    "nbgrader": {
     "cell_type": "code",
     "checksum": "655418841765cadb6b63b105a05790d3",
     "grade": false,
     "grade_id": "cell-d0ac13be97af0c52",
     "locked": true,
     "schema_version": 3,
     "solution": false,
     "task": false
    }
   },
   "outputs": [],
   "source": [
    "states_train_scaled, states_test_scaled, actions_train, actions_test, scaler = data_preprocess(states, actions)"
   ]
  },
  {
   "cell_type": "code",
   "execution_count": 340,
   "metadata": {
    "deletable": false,
    "editable": false,
    "nbgrader": {
     "cell_type": "code",
     "checksum": "e1f2782083f5c78242bc563d4b82b299",
     "grade": true,
     "grade_id": "cell-a95a7826cc24b0db",
     "locked": true,
     "points": 2,
     "schema_version": 3,
     "solution": false,
     "task": false
    }
   },
   "outputs": [],
   "source": [
    "assert states_train_scaled.shape == (61, 4)\n",
    "assert states_test_scaled.shape == (16, 4)\n",
    "assert actions_train.shape == (61,)\n",
    "assert actions_test.shape ==(16,)\n",
    "assert np.abs(states_train_scaled[10, 0] - 0.986126195) < 1e-6\n",
    "assert np.abs(states_test_scaled[4, 3] + 0.129293968) < 1e-6\n",
    "assert int(actions_train[43]) == 7\n",
    "assert int(actions_test[3]) == 0\n"
   ]
  },
  {
   "cell_type": "markdown",
   "metadata": {
    "deletable": false,
    "editable": false,
    "nbgrader": {
     "cell_type": "markdown",
     "checksum": "4a845431e2ba8a6d0677ba232f1a3ae6",
     "grade": false,
     "grade_id": "cell-8aa301681485592d",
     "locked": true,
     "schema_version": 3,
     "solution": false,
     "task": false
    }
   },
   "source": [
    "#### 3.10) Train classifier \n",
    "Build the function `train_classifier` that trains a classifier directly from `states` and `actions` and gets its accuracy score and confusion matrix."
   ]
  },
  {
   "cell_type": "code",
   "execution_count": 341,
   "metadata": {
    "deletable": false,
    "editable": false,
    "nbgrader": {
     "cell_type": "code",
     "checksum": "82b55a312cc9ebed58b139653b59801a",
     "grade": false,
     "grade_id": "cell-623a5a1c0d3ec2c9",
     "locked": true,
     "schema_version": 3,
     "solution": false,
     "task": false
    }
   },
   "outputs": [],
   "source": [
    "from sklearn.ensemble import RandomForestClassifier"
   ]
  },
  {
   "cell_type": "code",
   "execution_count": 349,
   "metadata": {
    "deletable": false,
    "nbgrader": {
     "cell_type": "code",
     "checksum": "7d18e6c6870be39d0428877b2469f197",
     "grade": false,
     "grade_id": "cell-95f17a9265c328eb",
     "locked": false,
     "schema_version": 3,
     "solution": true,
     "task": false
    }
   },
   "outputs": [],
   "source": [
    "def train_classifier(states, actions):\n",
    "    # Prepare data\n",
    "    states_train_scaled, states_test_scaled, actions_train, actions_test, scaler = data_preprocess(states, actions)\n",
    "    \n",
    "    # Train Random Forest with random_state=0\n",
    "    clf = RandomForestClassifier(random_state=0)\n",
    "    clf.fit(states_train_scaled, actions_train)\n",
    "    \n",
    "    # Predict using test data\n",
    "    actions_test_pred = clf.predict(states_test_scaled)\n",
    "\n",
    "    # Get accuracy score\n",
    "    accuracy = accuracy_score(actions_test, actions_test_pred)\n",
    "\n",
    "    # Plot confusion matrix\n",
    "    conf_matrix = confusion_matrix(actions_test, actions_test_pred, labels=[0, 1, 2, 3, 4, 5, 6, 7])\n",
    "    print(actions_test)\n",
    "    print(actions_test_pred)\n",
    "    \n",
    "    print(f'Accuracy: {accuracy:.3f}')\n",
    "    print('\\nConfusion matrix:\\n\\n', conf_matrix)\n",
    "    \n",
    "    return clf, accuracy, conf_matrix, scaler"
   ]
  },
  {
   "cell_type": "code",
   "execution_count": 350,
   "metadata": {
    "deletable": false,
    "editable": false,
    "nbgrader": {
     "cell_type": "code",
     "checksum": "a900e61413c9124b77fd2d1097cb04e6",
     "grade": false,
     "grade_id": "cell-58dfc4a4af62d43c",
     "locked": true,
     "schema_version": 3,
     "solution": false,
     "task": false
    }
   },
   "outputs": [
    {
     "name": "stdout",
     "output_type": "stream",
     "text": [
      "[7. 0. 7. 0. 7. 3. 7. 7. 0. 7. 0. 7. 3. 7. 0. 7.]\n",
      "[7. 0. 7. 7. 7. 3. 7. 7. 0. 7. 0. 7. 3. 7. 0. 7.]\n",
      "Accuracy: 0.938\n",
      "\n",
      "Confusion matrix:\n",
      "\n",
      " [[4 0 0 0 0 0 0 1]\n",
      " [0 0 0 0 0 0 0 0]\n",
      " [0 0 0 0 0 0 0 0]\n",
      " [0 0 0 2 0 0 0 0]\n",
      " [0 0 0 0 0 0 0 0]\n",
      " [0 0 0 0 0 0 0 0]\n",
      " [0 0 0 0 0 0 0 0]\n",
      " [0 0 0 0 0 0 0 9]]\n"
     ]
    }
   ],
   "source": [
    "clf, accuracy, conf_matrix, scaler = train_classifier(states, actions)"
   ]
  },
  {
   "cell_type": "code",
   "execution_count": 351,
   "metadata": {
    "deletable": false,
    "editable": false,
    "nbgrader": {
     "cell_type": "code",
     "checksum": "eb7f84e35f7797ea47c9f70eec82338b",
     "grade": true,
     "grade_id": "cell-d3c96e234a0f22d4",
     "locked": true,
     "points": 2,
     "schema_version": 3,
     "solution": false,
     "task": false
    }
   },
   "outputs": [],
   "source": [
    "assert np.abs(accuracy - 0.9375) < 1e-6\n",
    "assert conf_matrix.shape == (8, 8)\n",
    "assert conf_matrix[3, 3] == 2"
   ]
  },
  {
   "cell_type": "markdown",
   "metadata": {
    "deletable": false,
    "editable": false,
    "nbgrader": {
     "cell_type": "markdown",
     "checksum": "249c49c06154ec4b3e22c2b372f19088",
     "grade": false,
     "grade_id": "cell-aa2f3e49ea0c45df",
     "locked": true,
     "schema_version": 3,
     "solution": false,
     "task": false
    }
   },
   "source": [
    "**3.11)** There's something about the obtained confusion matrix that indicates that the state/input space of the learning problem is, probably, not properly covered. What is it?"
   ]
  },
  {
   "cell_type": "code",
   "execution_count": 352,
   "metadata": {
    "deletable": false,
    "nbgrader": {
     "cell_type": "code",
     "checksum": "b98370b681f840e49ad6ed4684002703",
     "grade": false,
     "grade_id": "cell-98d4a0a086fc934e",
     "locked": false,
     "schema_version": 3,
     "solution": true,
     "task": false
    }
   },
   "outputs": [],
   "source": [
    "# Uncomment the correct answer\n",
    "\n",
    "#answer2a = 'it is not symmetrical'\n",
    "answer2a = 'it is sparse'\n",
    "#answer2a = 'some rows/columns only have zeros'\n",
    "#answer2a = 'it is not invertible'\n"
   ]
  },
  {
   "cell_type": "code",
   "execution_count": 353,
   "metadata": {
    "deletable": false,
    "editable": false,
    "nbgrader": {
     "cell_type": "code",
     "checksum": "2eb8b9b68bfba6bb71c98e14ba022bd1",
     "grade": true,
     "grade_id": "cell-b867f5cec6e87ffd",
     "locked": true,
     "points": 1,
     "schema_version": 3,
     "solution": false,
     "task": false
    }
   },
   "outputs": [],
   "source": [
    "assert 'answer2a' in locals()\n"
   ]
  },
  {
   "cell_type": "markdown",
   "metadata": {
    "deletable": false
   },
   "source": [
    "which implies that:"
   ]
  },
  {
   "cell_type": "code",
   "execution_count": 354,
   "metadata": {
    "deletable": false,
    "nbgrader": {
     "cell_type": "code",
     "checksum": "8c7e5991a4269a3c56e1c9c5859ac59b",
     "grade": false,
     "grade_id": "cell-3774edbda56ecbeb",
     "locked": false,
     "schema_version": 3,
     "solution": true,
     "task": false
    }
   },
   "outputs": [],
   "source": [
    "# Uncomment the correct answer\n",
    "\n",
    "answer2b = 'many actions are not represented'\n",
    "#answer2b = 'data is contradictory'\n",
    "#answer2b = 'total number of data instances is too small'\n",
    "#answer2b = 'training data is well balanced'\n"
   ]
  },
  {
   "cell_type": "code",
   "execution_count": 355,
   "metadata": {
    "deletable": false,
    "editable": false,
    "nbgrader": {
     "cell_type": "code",
     "checksum": "ab752476f06e9faa5c49f8c6af78852b",
     "grade": true,
     "grade_id": "cell-bfc266cbb2a29c76",
     "locked": true,
     "points": 1,
     "schema_version": 3,
     "solution": false,
     "task": false
    }
   },
   "outputs": [],
   "source": [
    "assert 'answer2b' in locals()\n"
   ]
  },
  {
   "cell_type": "markdown",
   "metadata": {
    "deletable": false,
    "editable": false,
    "nbgrader": {
     "cell_type": "markdown",
     "checksum": "761cc136e6c3a9da217c3bfe040d5522",
     "grade": false,
     "grade_id": "cell-de29e81f387cf1e1",
     "locked": true,
     "schema_version": 3,
     "solution": false,
     "task": false
    }
   },
   "source": [
    "### 3.12) Generate trajectories\n",
    "The classifier got a high accuracy, but we observed that the input/state space is not properly covered, let's see how it performs as a planner. \n",
    "\n",
    "The following function generates trajectories from a trained classifier and returns its success rate. \n",
    "\n",
    "* A trajectory is considered to be successful if it reaches the goal before a time limit and does not collide with any obstacle.\n",
    "\n",
    "* The `classifier_planning` function was imported at the beginning of the file and it creates a path using a classifier in a random environment. It returns a dictionary called `trajectory` (similar to `potential_field_planning`) but additionaly you can use the `success` and `collision` keys to check if the goal was reached.\n",
    "\n",
    "* If `show=True`, the function will show the classifier's trajectories in purple and the Artificial Potential Field planner trajectories in red."
   ]
  },
  {
   "cell_type": "code",
   "execution_count": 356,
   "metadata": {
    "deletable": false,
    "editable": false,
    "nbgrader": {
     "cell_type": "code",
     "checksum": "4d33ff51bdf1c12f3ed41a0388d1f317",
     "grade": false,
     "grade_id": "cell-e85110b891e06cd4",
     "locked": true,
     "schema_version": 3,
     "solution": false,
     "task": false
    }
   },
   "outputs": [],
   "source": [
    "def generate_trajectories_classifier(clf, scaler, ds_n_obstacles, n_trajectories_test, show=True):\n",
    "    success_counter = 0  # count the number of times the robot reached the goal\n",
    "    np.random.seed(50)  # reproducibility \n",
    "\n",
    "    if show:\n",
    "        envs = []\n",
    "        trajectories = []\n",
    "    \n",
    "    for i in range(n_trajectories_test):\n",
    "        ds_seed = np.random.randint(low=0, high=1e6)\n",
    "        \n",
    "        # Create environment\n",
    "        env = create_environment(n_obstacles=ds_n_obstacles, seed=ds_seed)\n",
    "       \n",
    "        # Generate trajectory\n",
    "        trajectory = classifier_planning(env, clf, scaler)\n",
    "        success = trajectory['success']\n",
    "        \n",
    "        if show:\n",
    "            envs.append(env)\n",
    "            trajectories.append(trajectory)\n",
    "\n",
    "        # Count goal reached\n",
    "        if success:\n",
    "            success_counter += 1\n",
    "            \n",
    "        # Print if classifier fails\n",
    "        if not success:\n",
    "            print('Trial %i failed!' % i)\n",
    "            \n",
    "        # Print progress\n",
    "        if (i + 1) % int(n_trajectories_test  / 5) == 0:\n",
    "            print('Progress trials: %d %%' % ((i + 1) / n_trajectories_test * 100))\n",
    "    \n",
    "    success_rate = success_counter / n_trajectories_test\n",
    "    print('\\nSuccess rate: %.3f' % success_rate)\n",
    "    \n",
    "    if show:\n",
    "        def plot_test_track(i):\n",
    "            env = envs[i]\n",
    "            success = trajectories[i]['success']\n",
    "            collision = trajectories[i]['collision']\n",
    "\n",
    "            pf_trajectory = potential_field_planning(env)\n",
    "            plot_environment(env, potential_field_trajectory=pf_trajectory, classifier_trajectory=trajectories[i])\n",
    "            plt.title(f'test trajectory {i}, success={success}, collision={collision}')\n",
    "        ipywidgets.interact(plot_test_track, i=(0,n_trajectories_test-1))\n",
    "    \n",
    "    return success_rate"
   ]
  },
  {
   "cell_type": "markdown",
   "metadata": {
    "deletable": false,
    "editable": false,
    "nbgrader": {
     "cell_type": "markdown",
     "checksum": "43d62aae172c6d8840c5fe4b3c5cb26e",
     "grade": false,
     "grade_id": "cell-f776db65c715476b",
     "locked": true,
     "schema_version": 3,
     "solution": false,
     "task": false
    }
   },
   "source": [
    "**3.13)** Carefully read this function and answer the questions.\n",
    "\n",
    "**Q1:** What is the variable `n_trajectories_test`?\n",
    "\n",
    "**Q2:** Why does the `classifier_planning` function needs the `scaler` in one of its inputs?"
   ]
  },
  {
   "cell_type": "code",
   "execution_count": 357,
   "metadata": {
    "deletable": false,
    "nbgrader": {
     "cell_type": "code",
     "checksum": "919134cd06b2ccffc0263b3cf7013050",
     "grade": false,
     "grade_id": "cell-80dd8f9f21406f48",
     "locked": false,
     "schema_version": 3,
     "solution": true,
     "task": false
    }
   },
   "outputs": [],
   "source": [
    "# For each question uncomment on of the answers\n",
    "\n",
    "# Answer Q1\n",
    "\n",
    "#A1 = 'Number of environments to train the classifier'\n",
    "A1 = 'Number of environments to test the classifier'\n",
    "#A1 = 'Number of environments in which the classifier was successful'\n",
    "#A1 = 'Number of environments in which the classifier failed'\n",
    "\n",
    "# Answer Q2\n",
    "A2 = 'Because the environment has unscaled states, but the classifier expects scaled inputs'\n",
    "#A2 = 'Because the environment has scaled states, but the classifier expects unscaled inputs'\n",
    "#A2 = 'Because the classifier generates unscaled outputs, but the environment expects scaled actions'\n",
    "#A2 = 'Because the classifier generates scaled outputs, but the environment expects unscaled actions'\n"
   ]
  },
  {
   "cell_type": "code",
   "execution_count": 358,
   "metadata": {
    "deletable": false,
    "editable": false,
    "nbgrader": {
     "cell_type": "code",
     "checksum": "f55a6cba092a9e9b3acdf48b9e5e3c30",
     "grade": true,
     "grade_id": "cell-dc54636f309ddda9",
     "locked": true,
     "points": 2,
     "schema_version": 3,
     "solution": false,
     "task": false
    }
   },
   "outputs": [],
   "source": [
    "assert 'A1' in locals()\n",
    "assert 'A2' in locals()\n"
   ]
  },
  {
   "cell_type": "markdown",
   "metadata": {
    "deletable": false,
    "editable": false,
    "nbgrader": {
     "cell_type": "markdown",
     "checksum": "8328d956db92b07ad5df44a75a6d15d9",
     "grade": false,
     "grade_id": "cell-83371785b6191fa3",
     "locked": true,
     "schema_version": 3,
     "solution": false,
     "task": false
    }
   },
   "source": [
    "**3.14)** Run the function `generate_trajectories_classifier` to get the success rate of the learned planner over **100 environments** with **one obstacle** and save it in the variable `suc_5t`."
   ]
  },
  {
   "cell_type": "code",
   "execution_count": null,
   "metadata": {
    "deletable": false
   },
   "outputs": [],
   "source": [
    "#if you are stuck here, uncomment the lines below to load variables\n",
    "\n",
    "# In this case it is required to have pickle installed in the homl3 environment: pip install pickle-mixin\n",
    "\n",
    "# import pickle \n",
    "# with open('./get_unstuck/clf_fitted', 'rb') as config_dictionary_file:\n",
    "#    config_dictionary = pickle.load(config_dictionary_file) \n",
    "    \n",
    "# clf = config_dictionary['clf']\n",
    "# scaler = config_dictionary['scaler']"
   ]
  },
  {
   "cell_type": "code",
   "execution_count": 359,
   "metadata": {
    "deletable": false,
    "nbgrader": {
     "cell_type": "code",
     "checksum": "28ab92bd3a37001843cd8798c95fd4ff",
     "grade": false,
     "grade_id": "cell-e993e30a7b04f622",
     "locked": false,
     "schema_version": 3,
     "solution": true,
     "task": false
    }
   },
   "outputs": [
    {
     "name": "stdout",
     "output_type": "stream",
     "text": [
      "Timeout!\n",
      "Trial 2 failed!\n",
      "Collision detected!\n",
      "Trial 4 failed!\n",
      "Timeout!\n",
      "Trial 5 failed!\n",
      "Timeout!\n",
      "Trial 6 failed!\n",
      "Timeout!\n",
      "Trial 8 failed!\n",
      "Timeout!\n",
      "Trial 9 failed!\n",
      "Timeout!\n",
      "Trial 11 failed!\n",
      "Timeout!\n",
      "Trial 13 failed!\n",
      "Timeout!\n",
      "Trial 16 failed!\n",
      "Timeout!\n",
      "Trial 17 failed!\n",
      "Timeout!\n",
      "Trial 19 failed!\n",
      "Progress trials: 20 %\n",
      "Collision detected!\n",
      "Trial 20 failed!\n",
      "Timeout!\n",
      "Trial 21 failed!\n",
      "Collision detected!\n",
      "Trial 22 failed!\n",
      "Timeout!\n",
      "Trial 23 failed!\n",
      "Timeout!\n",
      "Trial 26 failed!\n",
      "Timeout!\n",
      "Trial 27 failed!\n",
      "Timeout!\n",
      "Trial 28 failed!\n",
      "Timeout!\n",
      "Trial 29 failed!\n",
      "Timeout!\n",
      "Trial 30 failed!\n",
      "Collision detected!\n",
      "Trial 31 failed!\n",
      "Timeout!\n",
      "Trial 32 failed!\n",
      "Timeout!\n",
      "Trial 34 failed!\n",
      "Timeout!\n",
      "Trial 36 failed!\n",
      "Timeout!\n",
      "Trial 38 failed!\n",
      "Timeout!\n",
      "Trial 39 failed!\n",
      "Progress trials: 40 %\n",
      "Timeout!\n",
      "Trial 40 failed!\n",
      "Timeout!\n",
      "Trial 41 failed!\n",
      "Timeout!\n",
      "Trial 43 failed!\n",
      "Timeout!\n",
      "Trial 44 failed!\n",
      "Timeout!\n",
      "Trial 47 failed!\n",
      "Timeout!\n",
      "Trial 49 failed!\n",
      "Timeout!\n",
      "Trial 52 failed!\n",
      "Timeout!\n",
      "Trial 53 failed!\n",
      "Timeout!\n",
      "Trial 54 failed!\n",
      "Timeout!\n",
      "Trial 56 failed!\n",
      "Timeout!\n",
      "Trial 58 failed!\n",
      "Timeout!\n",
      "Trial 59 failed!\n",
      "Progress trials: 60 %\n",
      "Timeout!\n",
      "Trial 63 failed!\n",
      "Timeout!\n",
      "Trial 64 failed!\n",
      "Timeout!\n",
      "Trial 71 failed!\n",
      "Timeout!\n",
      "Trial 73 failed!\n",
      "Timeout!\n",
      "Trial 75 failed!\n",
      "Progress trials: 80 %\n",
      "Timeout!\n",
      "Trial 80 failed!\n",
      "Timeout!\n",
      "Trial 81 failed!\n",
      "Timeout!\n",
      "Trial 84 failed!\n",
      "Timeout!\n",
      "Trial 88 failed!\n",
      "Timeout!\n",
      "Trial 89 failed!\n",
      "Collision detected!\n",
      "Trial 91 failed!\n",
      "Timeout!\n",
      "Trial 93 failed!\n",
      "Timeout!\n",
      "Trial 95 failed!\n",
      "Timeout!\n",
      "Trial 96 failed!\n",
      "Timeout!\n",
      "Trial 97 failed!\n",
      "Timeout!\n",
      "Trial 98 failed!\n",
      "Timeout!\n",
      "Trial 99 failed!\n",
      "Progress trials: 100 %\n",
      "\n",
      "Success rate: 0.450\n"
     ]
    },
    {
     "data": {
      "application/vnd.jupyter.widget-view+json": {
       "model_id": "5bcfd509fc784097bcfbea7e96227fce",
       "version_major": 2,
       "version_minor": 0
      },
      "text/plain": [
       "interactive(children=(IntSlider(value=49, description='i', max=99), Output()), _dom_classes=('widget-interact'…"
      ]
     },
     "metadata": {},
     "output_type": "display_data"
    }
   ],
   "source": [
    "suc_5t = generate_trajectories_classifier(clf, scaler, 1, 100)"
   ]
  },
  {
   "cell_type": "code",
   "execution_count": 360,
   "metadata": {
    "deletable": false,
    "editable": false,
    "nbgrader": {
     "cell_type": "code",
     "checksum": "7a153d0bb7ef4de572087d8fa9199e42",
     "grade": true,
     "grade_id": "cell-634ea5a3b564bd34",
     "locked": true,
     "points": 1,
     "schema_version": 3,
     "solution": false,
     "task": false
    }
   },
   "outputs": [],
   "source": [
    "# Please note: The expected outcome for the classifier should be better than 40%.\n",
    "assert suc_5t > 0.4\n"
   ]
  },
  {
   "cell_type": "markdown",
   "metadata": {
    "deletable": false,
    "editable": false,
    "nbgrader": {
     "cell_type": "markdown",
     "checksum": "bca4792031d63c338c82242eb390ce5b",
     "grade": false,
     "grade_id": "cell-c7c93c8e64a70aa9",
     "locked": true,
     "schema_version": 3,
     "solution": false,
     "task": false
    }
   },
   "source": [
    "**3.15)** The success rate of the classifier is low, which indicates that the learned planner will fail to reach of the goal more than half of the times. Taking into consideration **3.10**, what should we try to increase the performance of our planner?"
   ]
  },
  {
   "cell_type": "code",
   "execution_count": 361,
   "metadata": {
    "deletable": false,
    "nbgrader": {
     "cell_type": "code",
     "checksum": "30e7a70a403d6f77371948ac9798ce25",
     "grade": false,
     "grade_id": "cell-0633c272dc5ec726",
     "locked": false,
     "schema_version": 3,
     "solution": true,
     "task": false
    }
   },
   "outputs": [],
   "source": [
    "# Uncomment the correct answer\n",
    "\n",
    "#answer3 = 'a different learning algorithm'\n",
    "#answer3 = 'feature engineering'\n",
    "#answer3 = 'filter outliers'\n",
    "answer3 = 'increase the size of the dataset'\n"
   ]
  },
  {
   "cell_type": "code",
   "execution_count": 362,
   "metadata": {
    "deletable": false,
    "editable": false,
    "nbgrader": {
     "cell_type": "code",
     "checksum": "5826e854c953264bdc2b969b71a94673",
     "grade": true,
     "grade_id": "cell-b196f150c053e406",
     "locked": true,
     "points": 1,
     "schema_version": 3,
     "solution": false,
     "task": false
    }
   },
   "outputs": [],
   "source": [
    "assert 'answer3' in locals()\n"
   ]
  },
  {
   "cell_type": "markdown",
   "metadata": {
    "deletable": false,
    "editable": false,
    "nbgrader": {
     "cell_type": "markdown",
     "checksum": "f7de5aa34eda8e843b509daa8b5794b7",
     "grade": false,
     "grade_id": "cell-9c0c51babcffa447",
     "locked": true,
     "schema_version": 3,
     "solution": false,
     "task": false
    }
   },
   "source": [
    "#### 3.16) Repeat experiment with different settings\n",
    "Using the functions the we created so far in this section, a new function can be constructed to run the complete experiment with different settings using as arguments `ds_n_obstacles`, `n_trajectories_dataset` and `n_trajectories_test`."
   ]
  },
  {
   "cell_type": "code",
   "execution_count": 363,
   "metadata": {
    "deletable": false,
    "editable": false,
    "nbgrader": {
     "cell_type": "code",
     "checksum": "5767df6a2c2d75268e35df22d82b52f5",
     "grade": false,
     "grade_id": "cell-3b6538a0f0d86630",
     "locked": true,
     "schema_version": 3,
     "solution": false,
     "task": false
    }
   },
   "outputs": [],
   "source": [
    "def run_experiment(ds_n_obstacles, n_trajectories_dataset, n_trajectories_test, show=True):\n",
    "    # Create database\n",
    "    print('1) Create dataset: \\n')\n",
    "    states, actions = generate_dataset(ds_n_obstacles, n_trajectories_dataset, show=show)\n",
    "\n",
    "    # Train classifier\n",
    "    print('\\n2) Train classifier: \\n')\n",
    "    clf, accuracy, conf_matrix, scaler = train_classifier(states, actions)\n",
    "\n",
    "    # Generate trajectories with classifier\n",
    "    print('\\n3) Test classifier: \\n')\n",
    "    success_rate = generate_trajectories_classifier(clf, scaler, ds_n_obstacles, n_trajectories_test, show=show)\n",
    "    return success_rate"
   ]
  },
  {
   "cell_type": "markdown",
   "metadata": {
    "deletable": false,
    "editable": false,
    "nbgrader": {
     "cell_type": "markdown",
     "checksum": "f1e5f2774003bca7a1846b9b64346bfa",
     "grade": false,
     "grade_id": "cell-14a437335748cdf3",
     "locked": true,
     "schema_version": 3,
     "solution": false,
     "task": false
    }
   },
   "source": [
    "**3.17)** Let's repeat the experiment with 20 trajectories in the dataset."
   ]
  },
  {
   "cell_type": "code",
   "execution_count": 364,
   "metadata": {
    "deletable": false,
    "editable": false,
    "nbgrader": {
     "cell_type": "code",
     "checksum": "fe56ccbe30fa7e298eee2d28ae22141c",
     "grade": false,
     "grade_id": "cell-5f5c98fdda7a83f3",
     "locked": true,
     "schema_version": 3,
     "solution": false,
     "task": false
    }
   },
   "outputs": [
    {
     "name": "stdout",
     "output_type": "stream",
     "text": [
      "1) Create dataset: \n",
      "\n"
     ]
    },
    {
     "data": {
      "application/vnd.jupyter.widget-view+json": {
       "model_id": "080bba8920394104b62a097ad9037095",
       "version_major": 2,
       "version_minor": 0
      },
      "text/plain": [
       "interactive(children=(IntSlider(value=9, description='i', max=19), Output()), _dom_classes=('widget-interact',…"
      ]
     },
     "metadata": {},
     "output_type": "display_data"
    },
    {
     "name": "stdout",
     "output_type": "stream",
     "text": [
      "\n",
      "2) Train classifier: \n",
      "\n",
      "[1. 0. 3. 7. 4. 4. 4. 4. 1. 3. 5. 4. 7. 0. 6. 1. 0. 5. 7. 4. 5. 1. 0. 6.\n",
      " 7. 4. 7. 3. 1. 7. 0. 0. 0. 7. 0. 4. 7. 4. 6. 6. 7. 5. 0. 4. 6. 7. 7. 5.\n",
      " 0. 7. 7. 1. 0. 0. 3. 5. 7. 0. 3. 3. 1. 7.]\n",
      "[1. 0. 3. 7. 4. 4. 4. 4. 1. 3. 5. 4. 7. 0. 6. 1. 0. 5. 7. 4. 5. 1. 0. 6.\n",
      " 7. 4. 1. 3. 1. 7. 0. 0. 0. 7. 0. 4. 0. 4. 6. 6. 7. 5. 7. 3. 6. 7. 7. 5.\n",
      " 0. 7. 7. 1. 0. 0. 3. 5. 0. 0. 3. 3. 1. 7.]\n",
      "Accuracy: 0.919\n",
      "\n",
      "Confusion matrix:\n",
      "\n",
      " [[12  0  0  0  0  0  0  1]\n",
      " [ 0  7  0  0  0  0  0  0]\n",
      " [ 0  0  0  0  0  0  0  0]\n",
      " [ 0  0  0  6  0  0  0  0]\n",
      " [ 0  0  0  1  9  0  0  0]\n",
      " [ 0  0  0  0  0  6  0  0]\n",
      " [ 0  0  0  0  0  0  5  0]\n",
      " [ 2  1  0  0  0  0  0 12]]\n",
      "\n",
      "3) Test classifier: \n",
      "\n",
      "Collision detected!\n",
      "Trial 19 failed!\n",
      "Progress trials: 20 %\n",
      "Collision detected!\n",
      "Trial 31 failed!\n",
      "Progress trials: 40 %\n",
      "Progress trials: 60 %\n",
      "Progress trials: 80 %\n",
      "Collision detected!\n",
      "Trial 88 failed!\n",
      "Progress trials: 100 %\n",
      "\n",
      "Success rate: 0.970\n"
     ]
    },
    {
     "data": {
      "application/vnd.jupyter.widget-view+json": {
       "model_id": "c091ba618f2945cc8bfc704105286abb",
       "version_major": 2,
       "version_minor": 0
      },
      "text/plain": [
       "interactive(children=(IntSlider(value=49, description='i', max=99), Output()), _dom_classes=('widget-interact'…"
      ]
     },
     "metadata": {},
     "output_type": "display_data"
    },
    {
     "data": {
      "text/plain": [
       "0.97"
      ]
     },
     "execution_count": 364,
     "metadata": {},
     "output_type": "execute_result"
    }
   ],
   "source": [
    "run_experiment(ds_n_obstacles=1, n_trajectories_dataset=20, n_trajectories_test=100, show=True)"
   ]
  },
  {
   "cell_type": "markdown",
   "metadata": {
    "deletable": false,
    "editable": false,
    "nbgrader": {
     "cell_type": "markdown",
     "checksum": "b964e3aa2fc0217d1c994a6a11de119f",
     "grade": false,
     "grade_id": "cell-7e50e2782806e36f",
     "locked": true,
     "schema_version": 3,
     "solution": false,
     "task": false
    }
   },
   "source": [
    "**3.18)** The new planner B got an accuracy of 0.919 and a success rate of 0.97. The previous planner A got an accuracy of 0.938 and a success rate of 0.45. What can you conclude?"
   ]
  },
  {
   "cell_type": "code",
   "execution_count": 365,
   "metadata": {
    "deletable": false,
    "nbgrader": {
     "cell_type": "code",
     "checksum": "f9ff851b6bd8bb9eb8d54dda45cdaf2d",
     "grade": false,
     "grade_id": "cell-c9613ea58a5c441d",
     "locked": false,
     "schema_version": 3,
     "solution": true,
     "task": false
    }
   },
   "outputs": [],
   "source": [
    "# Uncomment the correct answer\n",
    "\n",
    "#answer4 = 'A is slightly better because its accuracy is higher, but its success rate is lower'\n",
    "#answer4 = 'B is slightly better because its success rate is higher, but its accuracy is lower'\n",
    "#answer4 = 'A is clearly better because the accuracy better represents the performance of the planner'\n",
    "answer4 = 'B is clearly better because the success rate better represents the performance of the planner'\n"
   ]
  },
  {
   "cell_type": "code",
   "execution_count": 366,
   "metadata": {
    "deletable": false,
    "editable": false,
    "nbgrader": {
     "cell_type": "code",
     "checksum": "b2fea02e70cab6a0d2d12f060b849255",
     "grade": true,
     "grade_id": "cell-3267ebf4790cc8df",
     "locked": true,
     "points": 1,
     "schema_version": 3,
     "solution": false,
     "task": false
    }
   },
   "outputs": [],
   "source": [
    "assert 'answer4' in locals()\n"
   ]
  },
  {
   "cell_type": "markdown",
   "metadata": {
    "deletable": false,
    "editable": false,
    "nbgrader": {
     "cell_type": "markdown",
     "checksum": "91a752cc0e778710e6997c6bda337374",
     "grade": false,
     "grade_id": "cell-0a3cbe86b881e4e2",
     "locked": true,
     "schema_version": 3,
     "solution": false,
     "task": false
    }
   },
   "source": [
    "**3.19)** Therefore, can we conclude that increasing the size of the dataset helped to improve the performance of the learned planner? Choose the best answer."
   ]
  },
  {
   "cell_type": "code",
   "execution_count": 367,
   "metadata": {
    "deletable": false,
    "nbgrader": {
     "cell_type": "code",
     "checksum": "32a22c43b673c9ae4db720fbe072ba09",
     "grade": false,
     "grade_id": "cell-c16819e631ea623b",
     "locked": false,
     "schema_version": 3,
     "solution": true,
     "task": false
    }
   },
   "outputs": [],
   "source": [
    "# Uncomment the correct answer\n",
    "\n",
    "#answer5 = 'yes, slightly'\n",
    "answer5 = 'yes, a lot'\n",
    "#answer5 = 'it is not clear'\n",
    "#answer5 = 'no, it decreased'\n"
   ]
  },
  {
   "cell_type": "code",
   "execution_count": 368,
   "metadata": {
    "deletable": false,
    "editable": false,
    "nbgrader": {
     "cell_type": "code",
     "checksum": "1817a738fd89a53e1d9e3c9ff30faa8c",
     "grade": true,
     "grade_id": "cell-803c08a881d14967",
     "locked": true,
     "points": 1,
     "schema_version": 3,
     "solution": false,
     "task": false
    }
   },
   "outputs": [],
   "source": [
    "assert 'answer5' in locals()\n"
   ]
  },
  {
   "cell_type": "markdown",
   "metadata": {
    "deletable": false,
    "editable": false,
    "nbgrader": {
     "cell_type": "markdown",
     "checksum": "7e2b903920f585db8dbd21f6de0d736e",
     "grade": false,
     "grade_id": "cell-ac91ffd67d45fe8e",
     "locked": true,
     "schema_version": 3,
     "solution": false,
     "task": false
    }
   },
   "source": [
    "#### 3.20) Multiple Obstacles\n",
    "So far, we have been using environments with one obstacle, let's see what happens if we use environments with two obstacles."
   ]
  },
  {
   "cell_type": "code",
   "execution_count": 369,
   "metadata": {
    "deletable": false
   },
   "outputs": [
    {
     "name": "stdout",
     "output_type": "stream",
     "text": [
      "1) Create dataset: \n",
      "\n"
     ]
    },
    {
     "data": {
      "application/vnd.jupyter.widget-view+json": {
       "model_id": "6fa8686823014556a960d56798877b99",
       "version_major": 2,
       "version_minor": 0
      },
      "text/plain": [
       "interactive(children=(IntSlider(value=9, description='i', max=19), Output()), _dom_classes=('widget-interact',…"
      ]
     },
     "metadata": {},
     "output_type": "display_data"
    },
    {
     "name": "stdout",
     "output_type": "stream",
     "text": [
      "\n",
      "2) Train classifier: \n",
      "\n",
      "[0. 5. 3. 2. 5. 2. 7. 0. 2. 5. 5. 3. 2. 3. 5. 6. 0. 5. 2. 3. 3. 2. 2. 0.\n",
      " 3. 2. 2. 7. 7. 3. 5. 1. 0. 7. 5. 6. 2. 3. 3. 7. 3. 3. 1. 5. 5. 4. 2. 2.\n",
      " 4. 2. 5. 7. 5. 0. 6. 2. 2. 3. 3. 5. 4. 2. 0. 2. 0. 0. 3. 3. 3.]\n",
      "[0. 5. 3. 5. 5. 2. 7. 0. 5. 5. 5. 3. 2. 3. 5. 3. 0. 5. 5. 3. 3. 2. 2. 0.\n",
      " 3. 2. 5. 7. 0. 3. 5. 1. 6. 0. 5. 0. 2. 3. 4. 0. 3. 3. 7. 5. 2. 3. 2. 2.\n",
      " 4. 5. 5. 7. 5. 0. 6. 2. 2. 3. 3. 5. 4. 2. 0. 2. 0. 0. 3. 3. 0.]\n",
      "Accuracy: 0.768\n",
      "\n",
      "Confusion matrix:\n",
      "\n",
      " [[ 8  0  0  0  0  0  1  0]\n",
      " [ 0  1  0  0  0  0  0  1]\n",
      " [ 0  0 12  0  0  5  0  0]\n",
      " [ 1  0  0 14  1  0  0  0]\n",
      " [ 0  0  0  1  2  0  0  0]\n",
      " [ 0  0  1  0  0 12  0  0]\n",
      " [ 1  0  0  1  0  0  1  0]\n",
      " [ 3  0  0  0  0  0  0  3]]\n",
      "\n",
      "3) Test classifier: \n",
      "\n",
      "Timeout!\n",
      "Trial 2 failed!\n",
      "Collision detected!\n",
      "Trial 6 failed!\n",
      "Collision detected!\n",
      "Trial 8 failed!\n",
      "Collision detected!\n",
      "Trial 18 failed!\n",
      "Progress trials: 20 %\n",
      "Timeout!\n",
      "Trial 24 failed!\n",
      "Collision detected!\n",
      "Trial 36 failed!\n",
      "Collision detected!\n",
      "Trial 39 failed!\n",
      "Progress trials: 40 %\n",
      "Collision detected!\n",
      "Trial 43 failed!\n",
      "Timeout!\n",
      "Trial 46 failed!\n",
      "Timeout!\n",
      "Trial 47 failed!\n",
      "Timeout!\n",
      "Trial 48 failed!\n",
      "Collision detected!\n",
      "Trial 51 failed!\n",
      "Collision detected!\n",
      "Trial 55 failed!\n",
      "Collision detected!\n",
      "Trial 58 failed!\n",
      "Progress trials: 60 %\n",
      "Timeout!\n",
      "Trial 60 failed!\n",
      "Timeout!\n",
      "Trial 61 failed!\n",
      "Collision detected!\n",
      "Trial 66 failed!\n",
      "Collision detected!\n",
      "Trial 68 failed!\n",
      "Collision detected!\n",
      "Trial 74 failed!\n",
      "Progress trials: 80 %\n",
      "Collision detected!\n",
      "Trial 81 failed!\n",
      "Timeout!\n",
      "Trial 87 failed!\n",
      "Progress trials: 100 %\n",
      "\n",
      "Success rate: 0.790\n"
     ]
    },
    {
     "data": {
      "application/vnd.jupyter.widget-view+json": {
       "model_id": "68198fcd70e04390a654e243eefc63ce",
       "version_major": 2,
       "version_minor": 0
      },
      "text/plain": [
       "interactive(children=(IntSlider(value=49, description='i', max=99), Output()), _dom_classes=('widget-interact'…"
      ]
     },
     "metadata": {},
     "output_type": "display_data"
    },
    {
     "data": {
      "text/plain": [
       "0.79"
      ]
     },
     "execution_count": 369,
     "metadata": {},
     "output_type": "execute_result"
    }
   ],
   "source": [
    "run_experiment(ds_n_obstacles=2, n_trajectories_dataset=20, n_trajectories_test=100, show=True)"
   ]
  },
  {
   "cell_type": "markdown",
   "metadata": {
    "deletable": false,
    "editable": false,
    "nbgrader": {
     "cell_type": "markdown",
     "checksum": "f12757921e5cc55ea82a986dea0db457",
     "grade": false,
     "grade_id": "cell-141f7ba9482414a4",
     "locked": true,
     "schema_version": 3,
     "solution": false,
     "task": false
    }
   },
   "source": [
    "**3.21)** The success rate decreased to 0.79 :(. What could be the most important reason? (*Hint:* this is an appetizer of chapter 8 in the book)"
   ]
  },
  {
   "cell_type": "code",
   "execution_count": 371,
   "metadata": {
    "deletable": false,
    "nbgrader": {
     "cell_type": "code",
     "checksum": "f9fb7f73993d0bf766010662314e88d0",
     "grade": false,
     "grade_id": "cell-c7f537e39b82cb94",
     "locked": false,
     "schema_version": 3,
     "solution": true,
     "task": false
    }
   },
   "outputs": [],
   "source": [
    "# Uncomment the correct answer\n",
    "\n",
    "#answer6 = 'there are many random variables that can influence the performance, so it is probably unluckiness'\n",
    "answer6 = 'the curse of dimensionality'\n",
    "#answer6 = 'it is easier to collide if there are two obstacles'\n",
    "#answer6 = 'the problem became nonlinear'"
   ]
  },
  {
   "cell_type": "code",
   "execution_count": 372,
   "metadata": {
    "deletable": false,
    "editable": false,
    "nbgrader": {
     "cell_type": "code",
     "checksum": "1421aa8f85e3343b5ab2047739644ac0",
     "grade": true,
     "grade_id": "cell-befcdba4e4e7f4cf",
     "locked": true,
     "points": 1,
     "schema_version": 3,
     "solution": false,
     "task": false
    }
   },
   "outputs": [],
   "source": [
    "assert 'answer6' in locals()\n"
   ]
  },
  {
   "cell_type": "markdown",
   "metadata": {
    "deletable": false,
    "editable": false,
    "nbgrader": {
     "cell_type": "markdown",
     "checksum": "b60125bcf3805d5ea4903549fc30f403",
     "grade": false,
     "grade_id": "cell-ddf3c5547c099b91",
     "locked": true,
     "schema_version": 3,
     "solution": false,
     "task": false
    }
   },
   "source": [
    "**3.22)** Once again, this problem can be alleviated with more data. Let's retrain using 100 trajectories."
   ]
  },
  {
   "cell_type": "code",
   "execution_count": 373,
   "metadata": {
    "deletable": false,
    "editable": false,
    "nbgrader": {
     "cell_type": "code",
     "checksum": "0d85dfb12af3471296ec8ba210c7abe0",
     "grade": false,
     "grade_id": "cell-1c9d4c5d7e0cff27",
     "locked": true,
     "schema_version": 3,
     "solution": false,
     "task": false
    }
   },
   "outputs": [
    {
     "name": "stdout",
     "output_type": "stream",
     "text": [
      "1) Create dataset: \n",
      "\n"
     ]
    },
    {
     "data": {
      "application/vnd.jupyter.widget-view+json": {
       "model_id": "9ad1304d8c9045dd88c1059c1c69aa6d",
       "version_major": 2,
       "version_minor": 0
      },
      "text/plain": [
       "interactive(children=(IntSlider(value=49, description='i', max=99), Output()), _dom_classes=('widget-interact'…"
      ]
     },
     "metadata": {},
     "output_type": "display_data"
    },
    {
     "name": "stdout",
     "output_type": "stream",
     "text": [
      "\n",
      "2) Train classifier: \n",
      "\n",
      "[3. 4. 3. 4. 0. 0. 4. 1. 4. 0. 0. 0. 7. 5. 7. 6. 4. 3. 5. 1. 6. 3. 0. 1.\n",
      " 0. 1. 2. 2. 2. 2. 7. 2. 3. 1. 3. 3. 3. 3. 4. 6. 3. 3. 0. 4. 0. 4. 0. 2.\n",
      " 5. 3. 0. 4. 5. 7. 0. 6. 7. 2. 2. 6. 2. 0. 7. 3. 5. 7. 0. 7. 3. 0. 5. 3.\n",
      " 7. 2. 7. 0. 7. 0. 3. 2. 2. 4. 3. 5. 4. 2. 2. 0. 7. 5. 3. 0. 1. 4. 7. 5.\n",
      " 4. 7. 4. 3. 2. 2. 1. 0. 4. 0. 7. 2. 2. 3. 2. 4. 1. 0. 0. 5. 5. 7. 7. 6.\n",
      " 0. 2. 1. 1. 7. 0. 1. 3. 4. 5. 7. 1. 3. 0. 4. 2. 4. 3. 0. 5. 4. 0. 6. 7.\n",
      " 0. 4. 4. 5. 5. 4. 0. 4. 7. 5. 6. 5. 1. 4. 4. 6. 1. 7. 5. 5. 5. 0. 3. 3.\n",
      " 0. 4. 3. 0. 0. 4. 0. 5. 1. 0. 1. 2. 5. 1. 1. 4. 6. 2. 3. 5. 5. 0. 4. 1.\n",
      " 2. 5. 3. 2. 5. 7. 6. 0. 5. 1. 2. 0. 0. 6. 6. 3. 0. 1. 3. 1. 3. 5. 2. 7.\n",
      " 1. 0. 3. 0. 2. 3. 2. 7. 0. 0. 0. 2. 2. 7. 5. 3. 5. 0. 4. 0. 2. 5. 3. 2.\n",
      " 6. 3. 4. 0. 7. 0. 5. 7. 3. 4. 7. 1. 3. 2. 5. 5. 3. 5. 4. 5. 0. 7. 0. 0.\n",
      " 5. 6. 5. 7. 0. 4. 7. 5. 3. 7. 2. 5. 4. 5. 5. 3. 7. 5. 7. 3. 7. 3. 7. 6.\n",
      " 5. 1. 0. 5. 5. 0. 0. 0. 4. 3. 7. 1. 5. 6. 2. 7. 4. 0. 0. 5. 2. 3. 1. 7.\n",
      " 1. 6. 5. 0. 1. 1. 0. 1. 5. 7. 3. 3. 2. 1. 1. 0. 6. 3. 2. 6. 2. 3. 2. 7.]\n",
      "[3. 4. 4. 4. 0. 6. 4. 1. 4. 6. 0. 0. 7. 2. 7. 6. 4. 3. 2. 1. 6. 3. 0. 1.\n",
      " 0. 1. 2. 5. 2. 2. 1. 2. 3. 1. 6. 3. 3. 3. 4. 6. 3. 3. 0. 4. 0. 4. 0. 5.\n",
      " 7. 6. 0. 4. 5. 0. 7. 3. 1. 2. 2. 6. 2. 0. 7. 3. 5. 1. 0. 7. 4. 6. 1. 3.\n",
      " 7. 2. 7. 0. 7. 0. 3. 2. 2. 3. 3. 5. 4. 2. 2. 0. 7. 1. 4. 0. 1. 4. 7. 2.\n",
      " 4. 7. 4. 3. 2. 2. 1. 0. 4. 0. 7. 2. 2. 4. 2. 4. 1. 6. 0. 5. 5. 7. 7. 3.\n",
      " 0. 2. 1. 5. 7. 0. 1. 3. 4. 5. 7. 1. 3. 0. 4. 4. 4. 6. 0. 5. 4. 6. 0. 7.\n",
      " 6. 4. 4. 5. 5. 4. 0. 4. 7. 5. 6. 5. 1. 4. 4. 6. 1. 7. 5. 5. 5. 7. 3. 3.\n",
      " 0. 4. 3. 0. 0. 4. 0. 2. 1. 0. 7. 2. 5. 1. 1. 4. 0. 2. 3. 2. 5. 0. 4. 1.\n",
      " 5. 5. 3. 2. 1. 7. 6. 0. 5. 1. 2. 0. 0. 6. 6. 3. 0. 1. 3. 1. 4. 5. 2. 7.\n",
      " 1. 0. 3. 0. 5. 3. 2. 7. 0. 0. 0. 2. 2. 7. 5. 6. 5. 0. 2. 0. 2. 5. 6. 5.\n",
      " 6. 3. 3. 0. 7. 0. 1. 7. 3. 4. 7. 1. 3. 2. 5. 5. 3. 5. 4. 5. 0. 7. 0. 7.\n",
      " 5. 6. 2. 7. 0. 2. 7. 5. 3. 7. 2. 5. 4. 5. 5. 3. 7. 1. 7. 3. 0. 6. 7. 6.\n",
      " 5. 1. 0. 5. 5. 0. 0. 0. 4. 3. 7. 7. 5. 0. 2. 7. 4. 0. 0. 5. 2. 6. 1. 7.\n",
      " 1. 6. 5. 0. 5. 1. 7. 1. 5. 5. 3. 3. 5. 1. 1. 0. 6. 3. 2. 6. 2. 3. 2. 7.]\n",
      "Accuracy: 0.821\n",
      "\n",
      "Confusion matrix:\n",
      "\n",
      " [[53  0  0  0  0  0  6  4]\n",
      " [ 0 29  0  0  0  2  0  2]\n",
      " [ 0  0 34  0  1  6  0  0]\n",
      " [ 0  0  0 37  5  0  7  0]\n",
      " [ 0  0  2  2 34  0  0  0]\n",
      " [ 0  5  6  0  0 38  0  1]\n",
      " [ 3  0  0  2  0  0 15  0]\n",
      " [ 2  3  0  0  0  1  0 36]]\n",
      "\n",
      "3) Test classifier: \n",
      "\n",
      "Collision detected!\n",
      "Trial 6 failed!\n",
      "Collision detected!\n",
      "Trial 15 failed!\n",
      "Collision detected!\n",
      "Trial 18 failed!\n",
      "Progress trials: 20 %\n",
      "Collision detected!\n",
      "Trial 36 failed!\n",
      "Collision detected!\n",
      "Trial 39 failed!\n",
      "Progress trials: 40 %\n",
      "Collision detected!\n",
      "Trial 43 failed!\n",
      "Collision detected!\n",
      "Trial 51 failed!\n",
      "Collision detected!\n",
      "Trial 55 failed!\n",
      "Collision detected!\n",
      "Trial 58 failed!\n",
      "Progress trials: 60 %\n",
      "Collision detected!\n",
      "Trial 66 failed!\n",
      "Progress trials: 80 %\n",
      "Collision detected!\n",
      "Trial 81 failed!\n",
      "Progress trials: 100 %\n",
      "\n",
      "Success rate: 0.890\n"
     ]
    },
    {
     "data": {
      "application/vnd.jupyter.widget-view+json": {
       "model_id": "c5bba561611f46108400ceba6f8fd455",
       "version_major": 2,
       "version_minor": 0
      },
      "text/plain": [
       "interactive(children=(IntSlider(value=49, description='i', max=99), Output()), _dom_classes=('widget-interact'…"
      ]
     },
     "metadata": {},
     "output_type": "display_data"
    },
    {
     "data": {
      "text/plain": [
       "0.89"
      ]
     },
     "execution_count": 373,
     "metadata": {},
     "output_type": "execute_result"
    }
   ],
   "source": [
    "run_experiment(ds_n_obstacles=2, n_trajectories_dataset=100, n_trajectories_test=100, show=True)"
   ]
  },
  {
   "cell_type": "markdown",
   "metadata": {
    "deletable": false,
    "editable": false,
    "nbgrader": {
     "cell_type": "markdown",
     "checksum": "a0f0f6a82438bee1e48ce0adebc9c031",
     "grade": false,
     "grade_id": "cell-4dd6a70e3c8b0ae1",
     "locked": true,
     "schema_version": 3,
     "solution": false,
     "task": false
    }
   },
   "source": [
    "We can observe that the success rate increased to 0.89, which is not as good as before, but still is a good improvement :)."
   ]
  },
  {
   "cell_type": "markdown",
   "metadata": {
    "deletable": false,
    "editable": false,
    "nbgrader": {
     "cell_type": "markdown",
     "checksum": "50974f143b790eb068cd046d9fb35ad4",
     "grade": false,
     "grade_id": "cell-66b82438a627311e",
     "locked": true,
     "schema_version": 3,
     "solution": false,
     "task": false
    }
   },
   "source": [
    "#### 3.23) Repeat experiments with different settings and compare\n",
    "To finalize this assignment, we have the function `repeat_experiments` that gets the success rate of the classifier when trained with datasets of different sizes and different number of obstacles."
   ]
  },
  {
   "cell_type": "code",
   "execution_count": 374,
   "metadata": {
    "deletable": false,
    "editable": false,
    "nbgrader": {
     "cell_type": "code",
     "checksum": "6f555bab25164dcb8490da5bb526141d",
     "grade": false,
     "grade_id": "cell-4c13fe757ea070f2",
     "locked": true,
     "schema_version": 3,
     "solution": false,
     "task": false
    }
   },
   "outputs": [],
   "source": [
    "def repeat_experiments(n_trajectories_list, n_obstacles_list):  \n",
    "    success_rate_list_obstacle = []\n",
    "    \n",
    "    # Iterate for every obstacle number\n",
    "    for i in n_obstacles_list:\n",
    "        print('\\nNumber of obstacles:', i)\n",
    "        success_rate_list_n_trajectories = []\n",
    "        \n",
    "        # Iterate for every number of trajectories in dataset\n",
    "        for j in n_trajectories_list:\n",
    "            print('\\nNumber trajectories dataset:', j)\n",
    "            \n",
    "            # Get success rate\n",
    "            suc_it = run_experiment(ds_n_obstacles=i, n_trajectories_dataset=j, n_trajectories_test=100, show=False)\n",
    "            success_rate_list_n_trajectories.append(suc_it)\n",
    "            \n",
    "        success_rate_list_obstacle.append(success_rate_list_n_trajectories)      \n",
    "    return success_rate_list_obstacle"
   ]
  },
  {
   "cell_type": "markdown",
   "metadata": {
    "deletable": false,
    "editable": false,
    "nbgrader": {
     "cell_type": "markdown",
     "checksum": "10882133dd3cc4c2c4d5b545904a03c8",
     "grade": false,
     "grade_id": "cell-cbc8e138fd6a4593",
     "locked": true,
     "schema_version": 3,
     "solution": false,
     "task": false
    }
   },
   "source": [
    "**3.24)** Run it for 1, 2, and 3 obstacles, and for 1, 10, 20, 40, 60 and 80 demonstrations in our dataset.\n",
    "\n",
    "*Warning: it will take some time to get these results. It's a good opportunity to get a nice cup of tea...*"
   ]
  },
  {
   "cell_type": "code",
   "execution_count": 375,
   "metadata": {
    "deletable": false,
    "editable": false,
    "nbgrader": {
     "cell_type": "code",
     "checksum": "62ac4e80b1b0b96e7594ccb265a645bb",
     "grade": false,
     "grade_id": "cell-382cf271be673977",
     "locked": true,
     "schema_version": 3,
     "solution": false,
     "task": false
    }
   },
   "outputs": [
    {
     "name": "stdout",
     "output_type": "stream",
     "text": [
      "\n",
      "Number of obstacles: 1\n",
      "\n",
      "Number trajectories dataset: 1\n",
      "1) Create dataset: \n",
      "\n",
      "\n",
      "2) Train classifier: \n",
      "\n",
      "[1. 5.]\n",
      "[1. 1.]\n",
      "Accuracy: 0.500\n",
      "\n",
      "Confusion matrix:\n",
      "\n",
      " [[0 0 0 0 0 0 0 0]\n",
      " [0 1 0 0 0 0 0 0]\n",
      " [0 0 0 0 0 0 0 0]\n",
      " [0 0 0 0 0 0 0 0]\n",
      " [0 0 0 0 0 0 0 0]\n",
      " [0 1 0 0 0 0 0 0]\n",
      " [0 0 0 0 0 0 0 0]\n",
      " [0 0 0 0 0 0 0 0]]\n",
      "\n",
      "3) Test classifier: \n",
      "\n",
      "Collision detected!\n",
      "Trial 0 failed!\n",
      "Timeout!\n",
      "Trial 1 failed!\n",
      "Timeout!\n",
      "Trial 2 failed!\n",
      "Timeout!\n",
      "Trial 3 failed!\n",
      "Timeout!\n",
      "Trial 4 failed!\n",
      "Collision detected!\n",
      "Trial 5 failed!\n",
      "Timeout!\n",
      "Trial 6 failed!\n",
      "Timeout!\n",
      "Trial 8 failed!\n",
      "Timeout!\n",
      "Trial 9 failed!\n",
      "Timeout!\n",
      "Trial 11 failed!\n",
      "Timeout!\n",
      "Trial 12 failed!\n",
      "Timeout!\n",
      "Trial 13 failed!\n",
      "Timeout!\n",
      "Trial 14 failed!\n",
      "Timeout!\n",
      "Trial 16 failed!\n",
      "Timeout!\n",
      "Trial 17 failed!\n",
      "Timeout!\n",
      "Trial 18 failed!\n",
      "Timeout!\n",
      "Trial 19 failed!\n",
      "Progress trials: 20 %\n",
      "Collision detected!\n",
      "Trial 20 failed!\n",
      "Timeout!\n",
      "Trial 21 failed!\n",
      "Timeout!\n",
      "Trial 22 failed!\n",
      "Timeout!\n",
      "Trial 23 failed!\n",
      "Timeout!\n",
      "Trial 25 failed!\n",
      "Timeout!\n",
      "Trial 26 failed!\n",
      "Timeout!\n",
      "Trial 27 failed!\n",
      "Timeout!\n",
      "Trial 28 failed!\n",
      "Timeout!\n",
      "Trial 29 failed!\n",
      "Timeout!\n",
      "Trial 30 failed!\n",
      "Timeout!\n",
      "Trial 31 failed!\n",
      "Timeout!\n",
      "Trial 32 failed!\n",
      "Timeout!\n",
      "Trial 33 failed!\n",
      "Timeout!\n",
      "Trial 34 failed!\n",
      "Timeout!\n",
      "Trial 36 failed!\n",
      "Timeout!\n",
      "Trial 38 failed!\n",
      "Timeout!\n",
      "Trial 39 failed!\n",
      "Progress trials: 40 %\n",
      "Timeout!\n",
      "Trial 40 failed!\n",
      "Timeout!\n",
      "Trial 41 failed!\n",
      "Timeout!\n",
      "Trial 42 failed!\n",
      "Timeout!\n",
      "Trial 43 failed!\n",
      "Timeout!\n",
      "Trial 44 failed!\n",
      "Timeout!\n",
      "Trial 45 failed!\n",
      "Collision detected!\n",
      "Trial 46 failed!\n",
      "Timeout!\n",
      "Trial 47 failed!\n",
      "Timeout!\n",
      "Trial 48 failed!\n",
      "Collision detected!\n",
      "Trial 49 failed!\n",
      "Timeout!\n",
      "Trial 50 failed!\n",
      "Collision detected!\n",
      "Trial 52 failed!\n",
      "Timeout!\n",
      "Trial 53 failed!\n",
      "Timeout!\n",
      "Trial 54 failed!\n",
      "Timeout!\n",
      "Trial 55 failed!\n",
      "Timeout!\n",
      "Trial 56 failed!\n",
      "Timeout!\n",
      "Trial 57 failed!\n",
      "Timeout!\n",
      "Trial 58 failed!\n",
      "Timeout!\n",
      "Trial 59 failed!\n",
      "Progress trials: 60 %\n",
      "Timeout!\n",
      "Trial 63 failed!\n",
      "Timeout!\n",
      "Trial 64 failed!\n",
      "Collision detected!\n",
      "Trial 65 failed!\n",
      "Timeout!\n",
      "Trial 67 failed!\n",
      "Timeout!\n",
      "Trial 68 failed!\n",
      "Collision detected!\n",
      "Trial 69 failed!\n",
      "Timeout!\n",
      "Trial 70 failed!\n",
      "Timeout!\n",
      "Trial 71 failed!\n",
      "Timeout!\n",
      "Trial 72 failed!\n",
      "Timeout!\n",
      "Trial 73 failed!\n",
      "Timeout!\n",
      "Trial 75 failed!\n",
      "Timeout!\n",
      "Trial 76 failed!\n",
      "Timeout!\n",
      "Trial 78 failed!\n",
      "Progress trials: 80 %\n",
      "Timeout!\n",
      "Trial 80 failed!\n",
      "Timeout!\n",
      "Trial 81 failed!\n",
      "Timeout!\n",
      "Trial 82 failed!\n",
      "Timeout!\n",
      "Trial 84 failed!\n",
      "Timeout!\n",
      "Trial 85 failed!\n",
      "Timeout!\n",
      "Trial 88 failed!\n",
      "Timeout!\n",
      "Trial 89 failed!\n",
      "Timeout!\n",
      "Trial 91 failed!\n",
      "Collision detected!\n",
      "Trial 92 failed!\n",
      "Timeout!\n",
      "Trial 93 failed!\n",
      "Collision detected!\n",
      "Trial 94 failed!\n",
      "Timeout!\n",
      "Trial 95 failed!\n",
      "Timeout!\n",
      "Trial 96 failed!\n",
      "Timeout!\n",
      "Trial 97 failed!\n",
      "Timeout!\n",
      "Trial 98 failed!\n",
      "Timeout!\n",
      "Trial 99 failed!\n",
      "Progress trials: 100 %\n",
      "\n",
      "Success rate: 0.180\n",
      "\n",
      "Number trajectories dataset: 10\n",
      "1) Create dataset: \n",
      "\n",
      "\n",
      "2) Train classifier: \n",
      "\n",
      "[3. 3. 5. 1. 4. 7. 6. 1. 0. 3. 7. 6. 7. 5. 3. 4. 1. 5. 7. 4. 5. 6. 5. 0.\n",
      " 6. 7. 7. 1. 1. 7. 6.]\n",
      "[3. 3. 1. 1. 4. 7. 3. 1. 0. 3. 1. 6. 7. 5. 3. 4. 1. 5. 7. 4. 5. 6. 5. 0.\n",
      " 6. 7. 7. 1. 1. 0. 6.]\n",
      "Accuracy: 0.871\n",
      "\n",
      "Confusion matrix:\n",
      "\n",
      " [[2 0 0 0 0 0 0 0]\n",
      " [0 5 0 0 0 0 0 0]\n",
      " [0 0 0 0 0 0 0 0]\n",
      " [0 0 0 4 0 0 0 0]\n",
      " [0 0 0 0 3 0 0 0]\n",
      " [0 1 0 0 0 4 0 0]\n",
      " [0 0 0 1 0 0 4 0]\n",
      " [1 1 0 0 0 0 0 5]]\n",
      "\n",
      "3) Test classifier: \n",
      "\n",
      "Collision detected!\n",
      "Trial 4 failed!\n",
      "Timeout!\n",
      "Trial 8 failed!\n",
      "Timeout!\n",
      "Trial 13 failed!\n",
      "Timeout!\n",
      "Trial 17 failed!\n",
      "Collision detected!\n",
      "Trial 19 failed!\n",
      "Progress trials: 20 %\n",
      "Timeout!\n",
      "Trial 27 failed!\n",
      "Timeout!\n",
      "Trial 28 failed!\n",
      "Timeout!\n",
      "Trial 29 failed!\n",
      "Timeout!\n",
      "Trial 30 failed!\n",
      "Collision detected!\n",
      "Trial 31 failed!\n",
      "Timeout!\n",
      "Trial 32 failed!\n",
      "Progress trials: 40 %\n",
      "Timeout!\n",
      "Trial 40 failed!\n",
      "Timeout!\n",
      "Trial 44 failed!\n",
      "Timeout!\n",
      "Trial 52 failed!\n",
      "Timeout!\n",
      "Trial 54 failed!\n",
      "Timeout!\n",
      "Trial 56 failed!\n",
      "Timeout!\n",
      "Trial 58 failed!\n",
      "Progress trials: 60 %\n",
      "Timeout!\n",
      "Trial 63 failed!\n",
      "Timeout!\n",
      "Trial 71 failed!\n",
      "Progress trials: 80 %\n",
      "Timeout!\n",
      "Trial 80 failed!\n",
      "Timeout!\n",
      "Trial 84 failed!\n",
      "Collision detected!\n",
      "Trial 88 failed!\n",
      "Timeout!\n",
      "Trial 99 failed!\n",
      "Progress trials: 100 %\n",
      "\n",
      "Success rate: 0.770\n",
      "\n",
      "Number trajectories dataset: 20\n",
      "1) Create dataset: \n",
      "\n",
      "\n",
      "2) Train classifier: \n",
      "\n",
      "[1. 0. 3. 7. 4. 4. 4. 4. 1. 3. 5. 4. 7. 0. 6. 1. 0. 5. 7. 4. 5. 1. 0. 6.\n",
      " 7. 4. 7. 3. 1. 7. 0. 0. 0. 7. 0. 4. 7. 4. 6. 6. 7. 5. 0. 4. 6. 7. 7. 5.\n",
      " 0. 7. 7. 1. 0. 0. 3. 5. 7. 0. 3. 3. 1. 7.]\n",
      "[1. 0. 3. 7. 4. 4. 4. 4. 1. 3. 5. 4. 7. 0. 6. 1. 0. 5. 7. 4. 5. 1. 0. 6.\n",
      " 7. 4. 1. 3. 1. 7. 0. 0. 0. 7. 0. 4. 0. 4. 6. 6. 7. 5. 7. 3. 6. 7. 7. 5.\n",
      " 0. 7. 7. 1. 0. 0. 3. 5. 0. 0. 3. 3. 1. 7.]\n",
      "Accuracy: 0.919\n",
      "\n",
      "Confusion matrix:\n",
      "\n",
      " [[12  0  0  0  0  0  0  1]\n",
      " [ 0  7  0  0  0  0  0  0]\n",
      " [ 0  0  0  0  0  0  0  0]\n",
      " [ 0  0  0  6  0  0  0  0]\n",
      " [ 0  0  0  1  9  0  0  0]\n",
      " [ 0  0  0  0  0  6  0  0]\n",
      " [ 0  0  0  0  0  0  5  0]\n",
      " [ 2  1  0  0  0  0  0 12]]\n",
      "\n",
      "3) Test classifier: \n",
      "\n",
      "Collision detected!\n",
      "Trial 19 failed!\n",
      "Progress trials: 20 %\n",
      "Collision detected!\n",
      "Trial 31 failed!\n",
      "Progress trials: 40 %\n",
      "Progress trials: 60 %\n",
      "Progress trials: 80 %\n",
      "Collision detected!\n",
      "Trial 88 failed!\n",
      "Progress trials: 100 %\n",
      "\n",
      "Success rate: 0.970\n",
      "\n",
      "Number trajectories dataset: 40\n",
      "1) Create dataset: \n",
      "\n",
      "\n",
      "2) Train classifier: \n",
      "\n",
      "[0. 0. 6. 7. 0. 7. 6. 1. 7. 1. 1. 7. 5. 5. 3. 0. 2. 3. 2. 6. 7. 4. 7. 7.\n",
      " 7. 5. 7. 1. 7. 7. 0. 0. 0. 7. 6. 5. 4. 3. 0. 3. 0. 7. 0. 3. 0. 4. 4. 3.\n",
      " 7. 3. 3. 0. 1. 5. 7. 2. 5. 4. 0. 2. 0. 7. 7. 6. 0. 7. 6. 3. 1. 5. 0. 3.\n",
      " 4. 0. 3. 7. 0. 6. 5. 7. 3. 7. 0. 7. 2. 5. 3. 0. 7. 5. 5. 7. 3. 1. 6. 0.\n",
      " 3. 3. 5. 0. 4. 7. 7. 1. 4. 3. 5. 3. 3. 0. 7. 3. 3. 1. 5. 3.]\n",
      "[0. 0. 6. 7. 0. 7. 6. 1. 7. 1. 1. 7. 5. 5. 3. 0. 2. 3. 2. 6. 7. 4. 7. 7.\n",
      " 7. 5. 7. 1. 7. 7. 0. 0. 1. 7. 6. 5. 4. 4. 0. 3. 0. 7. 0. 3. 7. 4. 4. 3.\n",
      " 7. 3. 3. 0. 1. 5. 7. 2. 5. 4. 0. 2. 0. 7. 7. 6. 0. 7. 6. 4. 1. 5. 0. 3.\n",
      " 4. 0. 3. 7. 0. 6. 5. 7. 3. 7. 0. 7. 2. 5. 3. 0. 7. 5. 5. 7. 3. 1. 6. 7.\n",
      " 3. 3. 5. 0. 4. 7. 7. 1. 4. 3. 5. 3. 3. 0. 7. 3. 3. 1. 1. 3.]\n",
      "Accuracy: 0.948\n",
      "\n",
      "Confusion matrix:\n",
      "\n",
      " [[20  1  0  0  0  0  0  2]\n",
      " [ 0  9  0  0  0  0  0  0]\n",
      " [ 0  0  5  0  0  0  0  0]\n",
      " [ 0  0  0 20  2  0  0  0]\n",
      " [ 0  0  0  0  8  0  0  0]\n",
      " [ 0  1  0  0  0 13  0  0]\n",
      " [ 0  0  0  0  0  0  8  0]\n",
      " [ 0  0  0  0  0  0  0 27]]\n",
      "\n",
      "3) Test classifier: \n",
      "\n",
      "Collision detected!\n",
      "Trial 19 failed!\n",
      "Progress trials: 20 %\n",
      "Collision detected!\n",
      "Trial 31 failed!\n",
      "Progress trials: 40 %\n",
      "Progress trials: 60 %\n",
      "Progress trials: 80 %\n",
      "Collision detected!\n",
      "Trial 88 failed!\n",
      "Progress trials: 100 %\n",
      "\n",
      "Success rate: 0.970\n",
      "\n",
      "Number trajectories dataset: 60\n",
      "1) Create dataset: \n",
      "\n",
      "\n",
      "2) Train classifier: \n",
      "\n",
      "[7. 4. 7. 1. 2. 6. 4. 3. 3. 4. 0. 0. 3. 7. 2. 7. 1. 6. 3. 0. 5. 3. 7. 7.\n",
      " 4. 7. 3. 5. 7. 4. 7. 4. 3. 5. 6. 3. 7. 3. 3. 1. 5. 7. 5. 1. 0. 3. 2. 7.\n",
      " 0. 5. 0. 4. 5. 0. 7. 3. 0. 3. 0. 0. 5. 5. 1. 4. 3. 3. 7. 7. 7. 7. 3. 0.\n",
      " 6. 7. 7. 3. 7. 0. 3. 7. 3. 6. 7. 4. 0. 1. 2. 0. 7. 7. 7. 1. 7. 1. 1. 3.\n",
      " 7. 5. 3. 0. 7. 4. 1. 1. 1. 7. 0. 5. 5. 3. 6. 0. 7. 0. 0. 7. 2. 0. 1. 0.\n",
      " 0. 1. 1. 4. 6. 5. 7. 0. 3. 3. 3. 4. 7. 0. 3. 3. 1. 7. 0. 3. 1. 7. 0. 7.\n",
      " 3. 0. 6. 7. 7. 1. 7. 5. 6. 0. 4. 4. 5. 3. 7. 6. 7. 6. 1. 0. 0.]\n",
      "[7. 4. 7. 1. 2. 6. 4. 3. 3. 4. 0. 0. 3. 7. 2. 7. 1. 6. 3. 0. 5. 3. 7. 0.\n",
      " 4. 7. 3. 5. 7. 4. 7. 4. 0. 5. 6. 6. 7. 3. 3. 1. 5. 7. 5. 1. 0. 3. 2. 7.\n",
      " 7. 5. 7. 4. 5. 0. 7. 3. 0. 3. 0. 0. 5. 5. 1. 4. 3. 3. 7. 7. 7. 7. 3. 0.\n",
      " 0. 7. 7. 3. 7. 0. 3. 7. 3. 6. 7. 4. 0. 1. 2. 0. 7. 7. 7. 1. 7. 1. 1. 3.\n",
      " 7. 5. 6. 0. 7. 4. 1. 1. 1. 0. 0. 5. 1. 3. 6. 0. 0. 0. 0. 7. 2. 1. 1. 0.\n",
      " 0. 1. 1. 4. 0. 5. 7. 0. 3. 3. 3. 4. 7. 0. 3. 3. 1. 0. 0. 3. 1. 7. 0. 7.\n",
      " 3. 0. 6. 7. 7. 1. 7. 5. 6. 0. 4. 4. 5. 3. 7. 6. 7. 6. 1. 0. 0.]\n",
      "Accuracy: 0.921\n",
      "\n",
      "Confusion matrix:\n",
      "\n",
      " [[27  1  0  0  0  0  0  2]\n",
      " [ 0 19  0  0  0  0  0  0]\n",
      " [ 0  0  5  0  0  0  0  0]\n",
      " [ 1  0  0 27  0  0  2  0]\n",
      " [ 0  0  0  0 14  0  0  0]\n",
      " [ 0  1  0  0  0 14  0  0]\n",
      " [ 2  0  0  0  0  0  9  0]\n",
      " [ 4  0  0  0  0  0  0 37]]\n",
      "\n",
      "3) Test classifier: \n",
      "\n",
      "Collision detected!\n",
      "Trial 19 failed!\n",
      "Progress trials: 20 %\n",
      "Collision detected!\n",
      "Trial 31 failed!\n",
      "Progress trials: 40 %\n",
      "Progress trials: 60 %\n",
      "Progress trials: 80 %\n",
      "Collision detected!\n",
      "Trial 88 failed!\n",
      "Progress trials: 100 %\n",
      "\n",
      "Success rate: 0.970\n",
      "\n",
      "Number trajectories dataset: 80\n",
      "1) Create dataset: \n",
      "\n",
      "\n",
      "2) Train classifier: \n",
      "\n",
      "[3. 3. 0. 0. 0. 6. 0. 0. 2. 4. 0. 7. 0. 7. 5. 5. 4. 5. 0. 3. 2. 0. 6. 5.\n",
      " 0. 0. 0. 1. 0. 0. 3. 1. 1. 3. 3. 2. 0. 3. 7. 7. 0. 1. 1. 5. 0. 0. 6. 2.\n",
      " 1. 2. 6. 6. 2. 7. 3. 7. 1. 0. 0. 3. 0. 7. 5. 4. 5. 4. 5. 1. 0. 0. 4. 7.\n",
      " 7. 0. 0. 1. 7. 3. 0. 2. 5. 7. 5. 3. 7. 0. 7. 0. 0. 7. 5. 3. 7. 0. 4. 7.\n",
      " 0. 4. 6. 7. 0. 4. 0. 1. 5. 6. 7. 4. 7. 3. 5. 0. 0. 4. 5. 5. 5. 2. 0. 4.\n",
      " 0. 7. 6. 3. 4. 5. 2. 4. 7. 3. 3. 6. 0. 0. 1. 7. 5. 3. 1. 3. 5. 7. 5. 7.\n",
      " 1. 3. 5. 7. 1. 3. 1. 2. 3. 0. 7. 2. 0. 4. 1. 7. 3. 0. 6. 5. 0. 7. 7. 4.\n",
      " 1. 5. 6. 6. 7. 5. 7. 4. 0. 4. 5. 3. 6. 5. 3. 1. 5. 5. 3. 7. 1. 0. 0. 5.\n",
      " 1. 3. 3. 5. 7. 6. 3. 3. 7. 3. 1. 0. 7. 6. 7. 5. 7. 2. 5. 7. 3. 0. 3. 7.\n",
      " 7. 6. 2. 3. 3.]\n",
      "[3. 3. 0. 0. 0. 6. 0. 0. 2. 4. 0. 7. 0. 7. 5. 5. 4. 5. 0. 3. 2. 0. 6. 5.\n",
      " 0. 0. 0. 1. 7. 0. 3. 1. 1. 3. 3. 2. 0. 3. 7. 7. 0. 1. 1. 5. 0. 0. 6. 5.\n",
      " 1. 2. 6. 6. 2. 7. 3. 7. 1. 0. 0. 3. 0. 7. 5. 4. 5. 4. 5. 1. 0. 0. 4. 7.\n",
      " 7. 0. 0. 1. 7. 3. 0. 2. 5. 7. 5. 3. 7. 0. 7. 0. 0. 7. 5. 3. 7. 0. 4. 7.\n",
      " 0. 3. 0. 7. 0. 4. 6. 1. 5. 6. 7. 4. 7. 3. 5. 0. 0. 4. 5. 5. 5. 2. 0. 4.\n",
      " 0. 7. 6. 3. 4. 5. 2. 4. 7. 3. 3. 0. 0. 0. 1. 0. 5. 3. 1. 3. 5. 7. 5. 7.\n",
      " 1. 3. 5. 7. 1. 3. 1. 2. 3. 0. 7. 2. 0. 4. 1. 7. 3. 0. 6. 5. 0. 7. 7. 4.\n",
      " 1. 5. 6. 6. 7. 5. 7. 4. 0. 4. 1. 3. 6. 5. 3. 1. 5. 5. 3. 7. 1. 0. 0. 5.\n",
      " 1. 3. 3. 5. 7. 6. 3. 3. 7. 3. 1. 0. 7. 6. 7. 5. 7. 2. 5. 7. 3. 0. 3. 7.\n",
      " 7. 6. 2. 3. 3.]\n",
      "Accuracy: 0.964\n",
      "\n",
      "Confusion matrix:\n",
      "\n",
      " [[46  0  0  0  0  0  1  1]\n",
      " [ 0 21  0  0  0  0  0  0]\n",
      " [ 0  0 12  0  0  1  0  0]\n",
      " [ 0  0  0 34  0  0  0  0]\n",
      " [ 0  0  0  1 16  0  0  0]\n",
      " [ 0  1  0  0  0 31  0  0]\n",
      " [ 2  0  0  0  0  0 14  0]\n",
      " [ 1  0  0  0  0  0  0 39]]\n",
      "\n",
      "3) Test classifier: \n",
      "\n",
      "Collision detected!\n",
      "Trial 19 failed!\n",
      "Progress trials: 20 %\n",
      "Collision detected!\n",
      "Trial 31 failed!\n",
      "Progress trials: 40 %\n",
      "Progress trials: 60 %\n",
      "Progress trials: 80 %\n",
      "Collision detected!\n",
      "Trial 88 failed!\n",
      "Progress trials: 100 %\n",
      "\n",
      "Success rate: 0.970\n",
      "\n",
      "Number trajectories dataset: 100\n",
      "1) Create dataset: \n",
      "\n",
      "\n",
      "2) Train classifier: \n",
      "\n",
      "[6. 1. 0. 6. 0. 0. 0. 3. 5. 3. 4. 4. 6. 7. 0. 3. 3. 5. 1. 0. 7. 1. 4. 0.\n",
      " 7. 7. 5. 0. 5. 2. 2. 5. 3. 3. 0. 4. 3. 5. 3. 0. 1. 3. 0. 7. 7. 4. 1. 0.\n",
      " 1. 2. 0. 4. 0. 7. 4. 0. 0. 1. 3. 1. 1. 0. 0. 0. 1. 2. 6. 7. 2. 3. 4. 7.\n",
      " 7. 0. 3. 5. 7. 7. 2. 1. 3. 1. 7. 7. 3. 1. 3. 7. 5. 4. 6. 7. 4. 0. 4. 1.\n",
      " 0. 2. 7. 1. 1. 6. 7. 7. 2. 7. 5. 0. 7. 1. 5. 5. 1. 4. 0. 7. 7. 2. 0. 5.\n",
      " 5. 4. 7. 5. 7. 5. 7. 2. 1. 6. 6. 7. 1. 4. 7. 7. 2. 5. 7. 2. 1. 7. 1. 3.\n",
      " 1. 4. 1. 2. 7. 0. 2. 1. 1. 0. 5. 2. 6. 1. 0. 7. 3. 1. 0. 0. 4. 1. 7. 7.\n",
      " 3. 0. 4. 0. 0. 1. 0. 1. 7. 0. 3. 3. 0. 7. 7. 4. 7. 0. 0. 3. 2. 0. 4. 0.\n",
      " 0. 0. 6. 3. 7. 1. 2. 1. 0. 4. 0. 7. 2. 4. 0. 4. 4. 1. 1. 7. 3. 2. 7. 1.\n",
      " 7. 5. 1. 3. 2. 1. 0. 3. 3. 7. 0. 1. 5. 7. 7. 7. 0. 0. 0. 0. 2. 4. 3. 7.\n",
      " 0. 3. 2. 1. 0. 4. 5. 5. 5. 2. 0. 2. 5. 0. 7. 6. 7. 3. 4. 1. 7. 3. 7. 1.\n",
      " 6. 2. 0. 0. 1. 2. 7. 6. 3. 3. 0. 7. 2. 6. 2. 0. 0. 3. 3.]\n",
      "[6. 1. 0. 6. 0. 7. 0. 3. 5. 3. 2. 4. 3. 7. 0. 3. 3. 5. 1. 0. 0. 1. 4. 0.\n",
      " 7. 7. 5. 0. 5. 2. 2. 5. 3. 3. 0. 4. 3. 5. 3. 0. 1. 3. 0. 7. 7. 4. 1. 0.\n",
      " 1. 0. 0. 4. 0. 7. 4. 6. 0. 1. 3. 1. 1. 0. 0. 0. 1. 2. 6. 7. 2. 3. 4. 7.\n",
      " 7. 0. 3. 5. 7. 7. 2. 1. 3. 1. 7. 7. 3. 1. 3. 7. 5. 4. 6. 7. 4. 0. 4. 1.\n",
      " 0. 2. 7. 1. 7. 6. 7. 7. 2. 7. 5. 0. 7. 1. 5. 5. 1. 4. 0. 7. 7. 2. 0. 5.\n",
      " 5. 4. 7. 5. 7. 5. 7. 2. 1. 3. 6. 7. 1. 4. 7. 7. 2. 5. 7. 2. 1. 7. 1. 3.\n",
      " 1. 4. 1. 2. 7. 0. 2. 1. 1. 0. 5. 2. 6. 1. 0. 7. 3. 1. 0. 0. 4. 1. 7. 0.\n",
      " 3. 0. 4. 0. 0. 1. 7. 1. 7. 0. 3. 3. 0. 7. 7. 4. 7. 0. 0. 3. 2. 0. 4. 0.\n",
      " 0. 0. 6. 3. 7. 7. 2. 1. 0. 4. 0. 7. 2. 4. 0. 4. 4. 1. 1. 7. 3. 2. 7. 1.\n",
      " 7. 5. 1. 3. 2. 1. 0. 3. 3. 7. 0. 1. 5. 7. 7. 7. 0. 0. 0. 1. 2. 4. 3. 7.\n",
      " 0. 3. 2. 1. 0. 4. 5. 5. 5. 2. 0. 2. 5. 0. 7. 6. 7. 3. 4. 1. 7. 3. 7. 1.\n",
      " 6. 2. 0. 0. 1. 2. 7. 6. 3. 3. 0. 1. 2. 6. 2. 0. 0. 3. 3.]\n",
      "Accuracy: 0.954\n",
      "\n",
      "Confusion matrix:\n",
      "\n",
      " [[56  1  0  0  0  0  1  2]\n",
      " [ 0 41  0  0  0  0  0  2]\n",
      " [ 1  0 27  0  0  0  0  0]\n",
      " [ 0  0  0 34  0  0  0  0]\n",
      " [ 0  0  1  0 25  0  0  0]\n",
      " [ 0  0  0  0  0 23  0  0]\n",
      " [ 0  0  0  2  0  0 12  0]\n",
      " [ 2  1  0  0  0  0  0 52]]\n",
      "\n",
      "3) Test classifier: \n",
      "\n",
      "Collision detected!\n",
      "Trial 19 failed!\n",
      "Progress trials: 20 %\n",
      "Collision detected!\n",
      "Trial 31 failed!\n",
      "Progress trials: 40 %\n",
      "Progress trials: 60 %\n",
      "Progress trials: 80 %\n",
      "Collision detected!\n",
      "Trial 88 failed!\n",
      "Progress trials: 100 %\n",
      "\n",
      "Success rate: 0.970\n",
      "\n",
      "Number of obstacles: 2\n",
      "\n",
      "Number trajectories dataset: 1\n",
      "1) Create dataset: \n",
      "\n",
      "\n",
      "2) Train classifier: \n",
      "\n",
      "[4. 4. 4. 4.]\n",
      "[4. 4. 4. 4.]\n",
      "Accuracy: 1.000\n",
      "\n",
      "Confusion matrix:\n",
      "\n",
      " [[0 0 0 0 0 0 0 0]\n",
      " [0 0 0 0 0 0 0 0]\n",
      " [0 0 0 0 0 0 0 0]\n",
      " [0 0 0 0 0 0 0 0]\n",
      " [0 0 0 0 4 0 0 0]\n",
      " [0 0 0 0 0 0 0 0]\n",
      " [0 0 0 0 0 0 0 0]\n",
      " [0 0 0 0 0 0 0 0]]\n",
      "\n",
      "3) Test classifier: \n",
      "\n",
      "Timeout!\n",
      "Trial 2 failed!\n",
      "Timeout!\n",
      "Trial 5 failed!\n",
      "Timeout!\n",
      "Trial 6 failed!\n",
      "Timeout!\n",
      "Trial 9 failed!\n",
      "Timeout!\n",
      "Trial 10 failed!\n",
      "Collision detected!\n",
      "Trial 11 failed!\n",
      "Timeout!\n",
      "Trial 12 failed!\n",
      "Collision detected!\n",
      "Trial 14 failed!\n",
      "Timeout!\n",
      "Trial 15 failed!\n",
      "Timeout!\n",
      "Trial 16 failed!\n",
      "Timeout!\n",
      "Trial 17 failed!\n",
      "Timeout!\n",
      "Trial 19 failed!\n",
      "Progress trials: 20 %\n",
      "Timeout!\n",
      "Trial 20 failed!\n",
      "Timeout!\n",
      "Trial 21 failed!\n",
      "Collision detected!\n",
      "Trial 22 failed!\n",
      "Timeout!\n",
      "Trial 23 failed!\n",
      "Timeout!\n",
      "Trial 25 failed!\n",
      "Timeout!\n",
      "Trial 27 failed!\n",
      "Collision detected!\n",
      "Trial 28 failed!\n",
      "Timeout!\n",
      "Trial 29 failed!\n",
      "Collision detected!\n",
      "Trial 30 failed!\n",
      "Timeout!\n",
      "Trial 33 failed!\n",
      "Timeout!\n",
      "Trial 34 failed!\n",
      "Collision detected!\n",
      "Trial 35 failed!\n",
      "Timeout!\n",
      "Trial 36 failed!\n",
      "Timeout!\n",
      "Trial 37 failed!\n",
      "Timeout!\n",
      "Trial 39 failed!\n",
      "Progress trials: 40 %\n",
      "Timeout!\n",
      "Trial 41 failed!\n",
      "Collision detected!\n",
      "Trial 42 failed!\n",
      "Timeout!\n",
      "Trial 43 failed!\n",
      "Timeout!\n",
      "Trial 45 failed!\n",
      "Timeout!\n",
      "Trial 48 failed!\n",
      "Timeout!\n",
      "Trial 49 failed!\n",
      "Timeout!\n",
      "Trial 50 failed!\n",
      "Timeout!\n",
      "Trial 51 failed!\n",
      "Timeout!\n",
      "Trial 53 failed!\n",
      "Timeout!\n",
      "Trial 54 failed!\n",
      "Timeout!\n",
      "Trial 55 failed!\n",
      "Timeout!\n",
      "Trial 56 failed!\n",
      "Timeout!\n",
      "Trial 57 failed!\n",
      "Timeout!\n",
      "Trial 58 failed!\n",
      "Timeout!\n",
      "Trial 59 failed!\n",
      "Progress trials: 60 %\n",
      "Timeout!\n",
      "Trial 60 failed!\n",
      "Timeout!\n",
      "Trial 62 failed!\n",
      "Collision detected!\n",
      "Trial 63 failed!\n",
      "Collision detected!\n",
      "Trial 64 failed!\n",
      "Timeout!\n",
      "Trial 65 failed!\n",
      "Timeout!\n",
      "Trial 66 failed!\n",
      "Timeout!\n",
      "Trial 67 failed!\n",
      "Timeout!\n",
      "Trial 68 failed!\n",
      "Timeout!\n",
      "Trial 70 failed!\n",
      "Timeout!\n",
      "Trial 71 failed!\n",
      "Timeout!\n",
      "Trial 73 failed!\n",
      "Timeout!\n",
      "Trial 74 failed!\n",
      "Timeout!\n",
      "Trial 75 failed!\n",
      "Timeout!\n",
      "Trial 76 failed!\n",
      "Timeout!\n",
      "Trial 77 failed!\n",
      "Collision detected!\n",
      "Trial 78 failed!\n",
      "Timeout!\n",
      "Trial 79 failed!\n",
      "Progress trials: 80 %\n",
      "Timeout!\n",
      "Trial 80 failed!\n",
      "Timeout!\n",
      "Trial 81 failed!\n",
      "Timeout!\n",
      "Trial 82 failed!\n",
      "Collision detected!\n",
      "Trial 84 failed!\n",
      "Timeout!\n",
      "Trial 85 failed!\n",
      "Timeout!\n",
      "Trial 86 failed!\n",
      "Collision detected!\n",
      "Trial 89 failed!\n",
      "Timeout!\n",
      "Trial 90 failed!\n",
      "Timeout!\n",
      "Trial 92 failed!\n",
      "Collision detected!\n",
      "Trial 93 failed!\n",
      "Collision detected!\n",
      "Trial 94 failed!\n",
      "Timeout!\n",
      "Trial 96 failed!\n",
      "Timeout!\n",
      "Trial 97 failed!\n",
      "Timeout!\n",
      "Trial 98 failed!\n",
      "Timeout!\n",
      "Trial 99 failed!\n",
      "Progress trials: 100 %\n",
      "\n",
      "Success rate: 0.260\n",
      "\n",
      "Number trajectories dataset: 10\n",
      "1) Create dataset: \n",
      "\n",
      "\n",
      "2) Train classifier: \n",
      "\n",
      "[5. 4. 5. 2. 0. 0. 7. 0. 1. 6. 0. 3. 6. 0. 5. 3. 5. 7. 4. 2. 0. 6. 6. 5.\n",
      " 3. 6. 2. 0. 0. 2. 0. 2. 0.]\n",
      "[1. 3. 5. 2. 0. 0. 7. 0. 7. 6. 0. 3. 6. 1. 1. 4. 1. 7. 4. 2. 0. 6. 6. 5.\n",
      " 6. 6. 2. 0. 0. 2. 0. 2. 0.]\n",
      "Accuracy: 0.758\n",
      "\n",
      "Confusion matrix:\n",
      "\n",
      " [[9 1 0 0 0 0 0 0]\n",
      " [0 0 0 0 0 0 0 1]\n",
      " [0 0 5 0 0 0 0 0]\n",
      " [0 0 0 1 1 0 1 0]\n",
      " [0 0 0 1 1 0 0 0]\n",
      " [0 3 0 0 0 2 0 0]\n",
      " [0 0 0 0 0 0 5 0]\n",
      " [0 0 0 0 0 0 0 2]]\n",
      "\n",
      "3) Test classifier: \n",
      "\n",
      "Collision detected!\n",
      "Trial 6 failed!\n",
      "Collision detected!\n",
      "Trial 8 failed!\n",
      "Collision detected!\n",
      "Trial 18 failed!\n",
      "Progress trials: 20 %\n",
      "Collision detected!\n",
      "Trial 21 failed!\n",
      "Collision detected!\n",
      "Trial 36 failed!\n",
      "Timeout!\n",
      "Trial 38 failed!\n",
      "Collision detected!\n",
      "Trial 39 failed!\n",
      "Progress trials: 40 %\n",
      "Collision detected!\n",
      "Trial 43 failed!\n",
      "Timeout!\n",
      "Trial 44 failed!\n",
      "Timeout!\n",
      "Trial 45 failed!\n",
      "Timeout!\n",
      "Trial 46 failed!\n",
      "Timeout!\n",
      "Trial 47 failed!\n",
      "Timeout!\n",
      "Trial 48 failed!\n",
      "Collision detected!\n",
      "Trial 51 failed!\n",
      "Collision detected!\n",
      "Trial 55 failed!\n",
      "Collision detected!\n",
      "Trial 56 failed!\n",
      "Collision detected!\n",
      "Trial 58 failed!\n",
      "Progress trials: 60 %\n",
      "Timeout!\n",
      "Trial 61 failed!\n",
      "Timeout!\n",
      "Trial 64 failed!\n",
      "Collision detected!\n",
      "Trial 66 failed!\n",
      "Collision detected!\n",
      "Trial 68 failed!\n",
      "Collision detected!\n",
      "Trial 74 failed!\n",
      "Progress trials: 80 %\n",
      "Collision detected!\n",
      "Trial 81 failed!\n",
      "Progress trials: 100 %\n",
      "\n",
      "Success rate: 0.770\n",
      "\n",
      "Number trajectories dataset: 20\n",
      "1) Create dataset: \n",
      "\n",
      "\n",
      "2) Train classifier: \n",
      "\n",
      "[0. 5. 3. 2. 5. 2. 7. 0. 2. 5. 5. 3. 2. 3. 5. 6. 0. 5. 2. 3. 3. 2. 2. 0.\n",
      " 3. 2. 2. 7. 7. 3. 5. 1. 0. 7. 5. 6. 2. 3. 3. 7. 3. 3. 1. 5. 5. 4. 2. 2.\n",
      " 4. 2. 5. 7. 5. 0. 6. 2. 2. 3. 3. 5. 4. 2. 0. 2. 0. 0. 3. 3. 3.]\n",
      "[0. 5. 3. 5. 5. 2. 7. 0. 5. 5. 5. 3. 2. 3. 5. 3. 0. 5. 5. 3. 3. 2. 2. 0.\n",
      " 3. 2. 5. 7. 0. 3. 5. 1. 6. 0. 5. 0. 2. 3. 4. 0. 3. 3. 7. 5. 2. 3. 2. 2.\n",
      " 4. 5. 5. 7. 5. 0. 6. 2. 2. 3. 3. 5. 4. 2. 0. 2. 0. 0. 3. 3. 0.]\n",
      "Accuracy: 0.768\n",
      "\n",
      "Confusion matrix:\n",
      "\n",
      " [[ 8  0  0  0  0  0  1  0]\n",
      " [ 0  1  0  0  0  0  0  1]\n",
      " [ 0  0 12  0  0  5  0  0]\n",
      " [ 1  0  0 14  1  0  0  0]\n",
      " [ 0  0  0  1  2  0  0  0]\n",
      " [ 0  0  1  0  0 12  0  0]\n",
      " [ 1  0  0  1  0  0  1  0]\n",
      " [ 3  0  0  0  0  0  0  3]]\n",
      "\n",
      "3) Test classifier: \n",
      "\n",
      "Timeout!\n",
      "Trial 2 failed!\n",
      "Collision detected!\n",
      "Trial 6 failed!\n",
      "Collision detected!\n",
      "Trial 8 failed!\n",
      "Collision detected!\n",
      "Trial 18 failed!\n",
      "Progress trials: 20 %\n",
      "Timeout!\n",
      "Trial 24 failed!\n",
      "Collision detected!\n",
      "Trial 36 failed!\n",
      "Collision detected!\n",
      "Trial 39 failed!\n",
      "Progress trials: 40 %\n",
      "Collision detected!\n",
      "Trial 43 failed!\n",
      "Timeout!\n",
      "Trial 46 failed!\n",
      "Timeout!\n",
      "Trial 47 failed!\n",
      "Timeout!\n",
      "Trial 48 failed!\n",
      "Collision detected!\n",
      "Trial 51 failed!\n",
      "Collision detected!\n",
      "Trial 55 failed!\n",
      "Collision detected!\n",
      "Trial 58 failed!\n",
      "Progress trials: 60 %\n",
      "Timeout!\n",
      "Trial 60 failed!\n",
      "Timeout!\n",
      "Trial 61 failed!\n",
      "Collision detected!\n",
      "Trial 66 failed!\n",
      "Collision detected!\n",
      "Trial 68 failed!\n",
      "Collision detected!\n",
      "Trial 74 failed!\n",
      "Progress trials: 80 %\n",
      "Collision detected!\n",
      "Trial 81 failed!\n",
      "Timeout!\n",
      "Trial 87 failed!\n",
      "Progress trials: 100 %\n",
      "\n",
      "Success rate: 0.790\n",
      "\n",
      "Number trajectories dataset: 40\n",
      "1) Create dataset: \n",
      "\n",
      "\n",
      "2) Train classifier: \n",
      "\n",
      "[6. 3. 7. 0. 4. 2. 0. 5. 7. 0. 1. 6. 7. 0. 4. 4. 2. 2. 2. 3. 4. 3. 5. 4.\n",
      " 7. 5. 2. 3. 5. 7. 6. 5. 2. 5. 0. 5. 2. 0. 0. 2. 7. 2. 7. 3. 4. 3. 5. 3.\n",
      " 5. 6. 4. 6. 2. 3. 1. 5. 5. 6. 2. 3. 2. 0. 7. 2. 2. 7. 3. 5. 2. 0. 7. 4.\n",
      " 5. 2. 5. 5. 5. 2. 2. 5. 1. 5. 1. 4. 2. 3. 7. 2. 0. 2. 2. 4. 3. 0. 2. 5.\n",
      " 3. 2. 5. 1. 4. 5. 5. 0. 3. 0. 2. 3. 7. 5. 6. 2. 2. 3. 3. 7. 4. 3. 5. 5.\n",
      " 4. 4. 4. 3. 5. 6. 5. 2. 2. 7. 7. 1.]\n",
      "[6. 3. 7. 1. 3. 2. 0. 5. 7. 0. 5. 3. 7. 0. 4. 4. 2. 2. 2. 3. 4. 3. 2. 4.\n",
      " 7. 5. 2. 3. 5. 1. 6. 5. 2. 5. 0. 5. 2. 0. 0. 2. 7. 2. 7. 3. 4. 3. 1. 4.\n",
      " 5. 0. 4. 6. 2. 3. 1. 5. 5. 0. 4. 3. 2. 0. 7. 2. 2. 7. 3. 5. 2. 0. 7. 3.\n",
      " 5. 2. 5. 5. 5. 2. 2. 0. 1. 5. 1. 4. 2. 3. 7. 2. 0. 2. 2. 4. 4. 0. 2. 5.\n",
      " 3. 2. 1. 1. 4. 5. 5. 0. 3. 0. 2. 3. 7. 5. 0. 2. 5. 3. 3. 7. 2. 4. 5. 5.\n",
      " 4. 4. 4. 3. 5. 0. 5. 2. 2. 7. 7. 1.]\n",
      "Accuracy: 0.848\n",
      "\n",
      "Confusion matrix:\n",
      "\n",
      " [[12  1  0  0  0  0  0  0]\n",
      " [ 0  5  0  0  0  1  0  0]\n",
      " [ 0  0 27  0  1  1  0  0]\n",
      " [ 0  0  0 16  3  0  0  0]\n",
      " [ 0  0  1  2 12  0  0  0]\n",
      " [ 1  2  1  0  0 23  0  0]\n",
      " [ 4  0  0  1  0  0  3  0]\n",
      " [ 0  1  0  0  0  0  0 14]]\n",
      "\n",
      "3) Test classifier: \n",
      "\n",
      "Collision detected!\n",
      "Trial 6 failed!\n",
      "Collision detected!\n",
      "Trial 8 failed!\n",
      "Collision detected!\n",
      "Trial 18 failed!\n",
      "Progress trials: 20 %\n",
      "Collision detected!\n",
      "Trial 36 failed!\n",
      "Collision detected!\n",
      "Trial 39 failed!\n",
      "Progress trials: 40 %\n",
      "Collision detected!\n",
      "Trial 43 failed!\n",
      "Collision detected!\n",
      "Trial 51 failed!\n",
      "Collision detected!\n",
      "Trial 58 failed!\n",
      "Progress trials: 60 %\n",
      "Collision detected!\n",
      "Trial 66 failed!\n",
      "Collision detected!\n",
      "Trial 74 failed!\n",
      "Progress trials: 80 %\n",
      "Progress trials: 100 %\n",
      "\n",
      "Success rate: 0.900\n",
      "\n",
      "Number trajectories dataset: 60\n",
      "1) Create dataset: \n",
      "\n",
      "\n",
      "2) Train classifier: \n",
      "\n",
      "[2. 5. 0. 5. 4. 4. 1. 4. 5. 3. 4. 0. 0. 2. 4. 0. 5. 2. 7. 2. 4. 3. 0. 3.\n",
      " 5. 0. 2. 7. 0. 3. 3. 3. 2. 7. 7. 5. 2. 4. 3. 3. 5. 3. 2. 1. 5. 4. 5. 3.\n",
      " 4. 5. 7. 1. 2. 1. 0. 0. 4. 2. 2. 3. 7. 2. 4. 1. 4. 5. 5. 2. 3. 0. 2. 7.\n",
      " 6. 4. 2. 4. 4. 1. 7. 3. 5. 0. 2. 0. 5. 7. 0. 5. 7. 5. 7. 5. 5. 3. 1. 2.\n",
      " 1. 6. 5. 0. 2. 2. 5. 0. 4. 6. 0. 5. 7. 7. 0. 0. 4. 4. 0. 5. 4. 0. 2. 0.\n",
      " 2. 4. 5. 4. 3. 2. 7. 2. 4. 0. 7. 1. 0. 0. 6. 0. 4. 5. 3. 7. 2. 2. 2. 6.\n",
      " 2. 2. 1. 5. 0. 5. 3. 6. 1. 4. 4. 2. 0. 7. 5. 4. 7. 6. 4. 4. 3. 4. 3. 2.\n",
      " 0. 3. 4. 4. 7. 2. 1. 5. 2. 7. 3. 7. 2. 5. 0. 2. 7. 2. 1. 7. 3. 5. 5. 1.\n",
      " 2. 3.]\n",
      "[2. 5. 7. 5. 4. 4. 7. 4. 5. 3. 4. 0. 0. 2. 4. 0. 5. 2. 0. 2. 3. 6. 0. 3.\n",
      " 2. 0. 5. 7. 0. 3. 3. 3. 2. 7. 7. 1. 2. 4. 3. 3. 5. 3. 2. 1. 5. 3. 5. 3.\n",
      " 4. 5. 7. 1. 2. 1. 0. 0. 2. 2. 2. 4. 7. 5. 3. 1. 4. 5. 5. 2. 3. 0. 2. 7.\n",
      " 6. 4. 2. 4. 4. 1. 7. 3. 1. 0. 5. 0. 5. 7. 0. 5. 7. 5. 0. 5. 2. 3. 1. 5.\n",
      " 7. 6. 1. 0. 2. 2. 5. 0. 4. 6. 0. 5. 7. 7. 0. 0. 4. 3. 0. 5. 4. 0. 2. 0.\n",
      " 2. 4. 1. 3. 6. 2. 7. 2. 4. 0. 7. 1. 0. 0. 6. 0. 4. 2. 3. 7. 2. 2. 2. 0.\n",
      " 2. 2. 1. 5. 6. 5. 3. 6. 1. 4. 4. 5. 7. 7. 5. 3. 7. 3. 5. 2. 3. 4. 3. 2.\n",
      " 6. 3. 4. 3. 7. 4. 1. 1. 2. 0. 3. 7. 2. 5. 0. 2. 6. 2. 1. 7. 3. 1. 5. 1.\n",
      " 2. 3.]\n",
      "Accuracy: 0.794\n",
      "\n",
      "Confusion matrix:\n",
      "\n",
      " [[25  0  0  0  0  0  2  2]\n",
      " [ 0 12  0  0  0  0  0  2]\n",
      " [ 0  0 30  0  1  5  0  0]\n",
      " [ 0  0  0 20  1  0  2  0]\n",
      " [ 0  0  2  7 21  1  0  0]\n",
      " [ 0  6  3  0  0 22  0  0]\n",
      " [ 1  0  0  1  0  0  5  0]\n",
      " [ 3  0  0  0  0  0  1 19]]\n",
      "\n",
      "3) Test classifier: \n",
      "\n",
      "Collision detected!\n",
      "Trial 6 failed!\n",
      "Collision detected!\n",
      "Trial 18 failed!\n",
      "Progress trials: 20 %\n",
      "Collision detected!\n",
      "Trial 36 failed!\n",
      "Collision detected!\n",
      "Trial 39 failed!\n",
      "Progress trials: 40 %\n",
      "Collision detected!\n",
      "Trial 43 failed!\n",
      "Collision detected!\n",
      "Trial 51 failed!\n",
      "Collision detected!\n",
      "Trial 58 failed!\n",
      "Progress trials: 60 %\n",
      "Collision detected!\n",
      "Trial 66 failed!\n",
      "Collision detected!\n",
      "Trial 74 failed!\n",
      "Progress trials: 80 %\n",
      "Collision detected!\n",
      "Trial 81 failed!\n",
      "Progress trials: 100 %\n",
      "\n",
      "Success rate: 0.900\n",
      "\n",
      "Number trajectories dataset: 80\n",
      "1) Create dataset: \n",
      "\n",
      "\n",
      "2) Train classifier: \n",
      "\n",
      "[4. 5. 3. 2. 3. 6. 5. 6. 1. 0. 7. 5. 1. 6. 0. 0. 2. 7. 3. 6. 3. 2. 5. 2.\n",
      " 2. 4. 0. 0. 2. 5. 0. 3. 1. 0. 0. 0. 5. 2. 7. 7. 3. 7. 5. 2. 3. 0. 2. 7.\n",
      " 5. 4. 3. 0. 0. 3. 6. 4. 3. 7. 0. 2. 2. 3. 7. 5. 6. 5. 6. 3. 6. 0. 1. 2.\n",
      " 4. 3. 0. 5. 4. 2. 3. 2. 0. 4. 2. 5. 5. 4. 6. 7. 0. 6. 4. 3. 5. 7. 2. 1.\n",
      " 6. 0. 5. 5. 0. 7. 5. 3. 6. 3. 3. 0. 0. 0. 1. 2. 0. 7. 7. 0. 5. 2. 3. 4.\n",
      " 4. 2. 7. 5. 0. 4. 5. 2. 5. 0. 0. 4. 7. 6. 5. 0. 4. 2. 0. 3. 3. 2. 4. 5.\n",
      " 6. 5. 3. 0. 0. 2. 4. 0. 1. 4. 0. 3. 2. 3. 6. 2. 2. 0. 7. 2. 2. 4. 3. 1.\n",
      " 3. 3. 4. 0. 5. 6. 0. 5. 5. 2. 0. 3. 0. 4. 2. 3. 1. 4. 3. 5. 5. 5. 6. 5.\n",
      " 0. 6. 1. 7. 5. 1. 2. 4. 3. 3. 6. 2. 7. 6. 7. 0. 4. 2. 3. 2. 5. 4. 5. 5.\n",
      " 4. 1. 1. 2. 0. 3. 0. 3. 6. 2. 0. 7. 4. 7. 3. 0. 3. 3. 5. 2. 7. 2. 3. 2.\n",
      " 6. 2. 3. 0. 4. 1. 5. 2. 0. 2. 0. 0. 7. 5. 5. 1. 3. 7. 0. 1. 5. 1.]\n",
      "[4. 2. 3. 2. 3. 6. 5. 0. 7. 0. 7. 5. 1. 0. 0. 0. 2. 7. 3. 6. 3. 2. 5. 2.\n",
      " 2. 4. 0. 0. 2. 5. 6. 3. 1. 7. 0. 0. 5. 2. 7. 7. 3. 7. 5. 2. 6. 0. 2. 7.\n",
      " 5. 3. 3. 6. 0. 3. 6. 4. 3. 7. 0. 4. 2. 3. 7. 5. 6. 5. 3. 3. 0. 0. 1. 2.\n",
      " 4. 3. 0. 5. 4. 2. 3. 2. 0. 4. 2. 5. 5. 4. 6. 7. 0. 0. 4. 3. 5. 7. 2. 1.\n",
      " 3. 0. 5. 5. 0. 7. 5. 6. 0. 3. 3. 0. 0. 0. 1. 2. 0. 7. 7. 0. 5. 2. 3. 4.\n",
      " 4. 2. 7. 2. 0. 3. 5. 2. 1. 0. 0. 4. 7. 6. 5. 0. 4. 2. 0. 6. 3. 2. 4. 5.\n",
      " 6. 5. 3. 0. 0. 2. 4. 7. 5. 4. 0. 3. 2. 3. 0. 2. 2. 0. 7. 2. 2. 3. 3. 5.\n",
      " 3. 3. 4. 6. 5. 6. 0. 2. 5. 2. 7. 3. 7. 4. 2. 3. 7. 4. 3. 5. 5. 5. 6. 5.\n",
      " 0. 6. 1. 7. 5. 5. 2. 2. 3. 3. 6. 2. 7. 0. 7. 0. 4. 2. 3. 2. 5. 4. 5. 5.\n",
      " 2. 1. 1. 2. 0. 3. 0. 3. 6. 2. 0. 7. 4. 0. 6. 0. 3. 3. 2. 2. 7. 2. 3. 5.\n",
      " 0. 2. 3. 0. 4. 5. 5. 2. 0. 2. 0. 0. 7. 5. 1. 1. 6. 7. 0. 1. 5. 1.]\n",
      "Accuracy: 0.840\n",
      "\n",
      "Confusion matrix:\n",
      "\n",
      " [[42  0  0  0  0  0  3  4]\n",
      " [ 0 11  0  0  0  4  0  2]\n",
      " [ 0  0 40  0  1  1  0  0]\n",
      " [ 0  0  0 36  0  0  5  0]\n",
      " [ 0  0  2  3 22  0  0  0]\n",
      " [ 0  2  4  0  0 34  0  0]\n",
      " [ 8  0  0  2  0  0 12  0]\n",
      " [ 1  0  0  0  0  0  0 23]]\n",
      "\n",
      "3) Test classifier: \n",
      "\n",
      "Collision detected!\n",
      "Trial 6 failed!\n",
      "Collision detected!\n",
      "Trial 11 failed!\n",
      "Collision detected!\n",
      "Trial 18 failed!\n",
      "Progress trials: 20 %\n",
      "Collision detected!\n",
      "Trial 36 failed!\n",
      "Collision detected!\n",
      "Trial 39 failed!\n",
      "Progress trials: 40 %\n",
      "Collision detected!\n",
      "Trial 43 failed!\n",
      "Collision detected!\n",
      "Trial 51 failed!\n",
      "Collision detected!\n",
      "Trial 55 failed!\n",
      "Collision detected!\n",
      "Trial 58 failed!\n",
      "Progress trials: 60 %\n",
      "Collision detected!\n",
      "Trial 66 failed!\n",
      "Progress trials: 80 %\n",
      "Collision detected!\n",
      "Trial 81 failed!\n",
      "Progress trials: 100 %\n",
      "\n",
      "Success rate: 0.890\n",
      "\n",
      "Number trajectories dataset: 100\n",
      "1) Create dataset: \n",
      "\n",
      "\n",
      "2) Train classifier: \n",
      "\n",
      "[3. 4. 3. 4. 0. 0. 4. 1. 4. 0. 0. 0. 7. 5. 7. 6. 4. 3. 5. 1. 6. 3. 0. 1.\n",
      " 0. 1. 2. 2. 2. 2. 7. 2. 3. 1. 3. 3. 3. 3. 4. 6. 3. 3. 0. 4. 0. 4. 0. 2.\n",
      " 5. 3. 0. 4. 5. 7. 0. 6. 7. 2. 2. 6. 2. 0. 7. 3. 5. 7. 0. 7. 3. 0. 5. 3.\n",
      " 7. 2. 7. 0. 7. 0. 3. 2. 2. 4. 3. 5. 4. 2. 2. 0. 7. 5. 3. 0. 1. 4. 7. 5.\n",
      " 4. 7. 4. 3. 2. 2. 1. 0. 4. 0. 7. 2. 2. 3. 2. 4. 1. 0. 0. 5. 5. 7. 7. 6.\n",
      " 0. 2. 1. 1. 7. 0. 1. 3. 4. 5. 7. 1. 3. 0. 4. 2. 4. 3. 0. 5. 4. 0. 6. 7.\n",
      " 0. 4. 4. 5. 5. 4. 0. 4. 7. 5. 6. 5. 1. 4. 4. 6. 1. 7. 5. 5. 5. 0. 3. 3.\n",
      " 0. 4. 3. 0. 0. 4. 0. 5. 1. 0. 1. 2. 5. 1. 1. 4. 6. 2. 3. 5. 5. 0. 4. 1.\n",
      " 2. 5. 3. 2. 5. 7. 6. 0. 5. 1. 2. 0. 0. 6. 6. 3. 0. 1. 3. 1. 3. 5. 2. 7.\n",
      " 1. 0. 3. 0. 2. 3. 2. 7. 0. 0. 0. 2. 2. 7. 5. 3. 5. 0. 4. 0. 2. 5. 3. 2.\n",
      " 6. 3. 4. 0. 7. 0. 5. 7. 3. 4. 7. 1. 3. 2. 5. 5. 3. 5. 4. 5. 0. 7. 0. 0.\n",
      " 5. 6. 5. 7. 0. 4. 7. 5. 3. 7. 2. 5. 4. 5. 5. 3. 7. 5. 7. 3. 7. 3. 7. 6.\n",
      " 5. 1. 0. 5. 5. 0. 0. 0. 4. 3. 7. 1. 5. 6. 2. 7. 4. 0. 0. 5. 2. 3. 1. 7.\n",
      " 1. 6. 5. 0. 1. 1. 0. 1. 5. 7. 3. 3. 2. 1. 1. 0. 6. 3. 2. 6. 2. 3. 2. 7.]\n",
      "[3. 4. 4. 4. 0. 6. 4. 1. 4. 6. 0. 0. 7. 2. 7. 6. 4. 3. 2. 1. 6. 3. 0. 1.\n",
      " 0. 1. 2. 5. 2. 2. 1. 2. 3. 1. 6. 3. 3. 3. 4. 6. 3. 3. 0. 4. 0. 4. 0. 5.\n",
      " 7. 6. 0. 4. 5. 0. 7. 3. 1. 2. 2. 6. 2. 0. 7. 3. 5. 1. 0. 7. 4. 6. 1. 3.\n",
      " 7. 2. 7. 0. 7. 0. 3. 2. 2. 3. 3. 5. 4. 2. 2. 0. 7. 1. 4. 0. 1. 4. 7. 2.\n",
      " 4. 7. 4. 3. 2. 2. 1. 0. 4. 0. 7. 2. 2. 4. 2. 4. 1. 6. 0. 5. 5. 7. 7. 3.\n",
      " 0. 2. 1. 5. 7. 0. 1. 3. 4. 5. 7. 1. 3. 0. 4. 4. 4. 6. 0. 5. 4. 6. 0. 7.\n",
      " 6. 4. 4. 5. 5. 4. 0. 4. 7. 5. 6. 5. 1. 4. 4. 6. 1. 7. 5. 5. 5. 7. 3. 3.\n",
      " 0. 4. 3. 0. 0. 4. 0. 2. 1. 0. 7. 2. 5. 1. 1. 4. 0. 2. 3. 2. 5. 0. 4. 1.\n",
      " 5. 5. 3. 2. 1. 7. 6. 0. 5. 1. 2. 0. 0. 6. 6. 3. 0. 1. 3. 1. 4. 5. 2. 7.\n",
      " 1. 0. 3. 0. 5. 3. 2. 7. 0. 0. 0. 2. 2. 7. 5. 6. 5. 0. 2. 0. 2. 5. 6. 5.\n",
      " 6. 3. 3. 0. 7. 0. 1. 7. 3. 4. 7. 1. 3. 2. 5. 5. 3. 5. 4. 5. 0. 7. 0. 7.\n",
      " 5. 6. 2. 7. 0. 2. 7. 5. 3. 7. 2. 5. 4. 5. 5. 3. 7. 1. 7. 3. 0. 6. 7. 6.\n",
      " 5. 1. 0. 5. 5. 0. 0. 0. 4. 3. 7. 7. 5. 0. 2. 7. 4. 0. 0. 5. 2. 6. 1. 7.\n",
      " 1. 6. 5. 0. 5. 1. 7. 1. 5. 5. 3. 3. 5. 1. 1. 0. 6. 3. 2. 6. 2. 3. 2. 7.]\n",
      "Accuracy: 0.821\n",
      "\n",
      "Confusion matrix:\n",
      "\n",
      " [[53  0  0  0  0  0  6  4]\n",
      " [ 0 29  0  0  0  2  0  2]\n",
      " [ 0  0 34  0  1  6  0  0]\n",
      " [ 0  0  0 37  5  0  7  0]\n",
      " [ 0  0  2  2 34  0  0  0]\n",
      " [ 0  5  6  0  0 38  0  1]\n",
      " [ 3  0  0  2  0  0 15  0]\n",
      " [ 2  3  0  0  0  1  0 36]]\n",
      "\n",
      "3) Test classifier: \n",
      "\n",
      "Collision detected!\n",
      "Trial 6 failed!\n",
      "Collision detected!\n",
      "Trial 15 failed!\n",
      "Collision detected!\n",
      "Trial 18 failed!\n",
      "Progress trials: 20 %\n",
      "Collision detected!\n",
      "Trial 36 failed!\n",
      "Collision detected!\n",
      "Trial 39 failed!\n",
      "Progress trials: 40 %\n",
      "Collision detected!\n",
      "Trial 43 failed!\n",
      "Collision detected!\n",
      "Trial 51 failed!\n",
      "Collision detected!\n",
      "Trial 55 failed!\n",
      "Collision detected!\n",
      "Trial 58 failed!\n",
      "Progress trials: 60 %\n",
      "Collision detected!\n",
      "Trial 66 failed!\n",
      "Progress trials: 80 %\n",
      "Collision detected!\n",
      "Trial 81 failed!\n",
      "Progress trials: 100 %\n",
      "\n",
      "Success rate: 0.890\n",
      "\n",
      "Number of obstacles: 3\n",
      "\n",
      "Number trajectories dataset: 1\n",
      "1) Create dataset: \n",
      "\n",
      "\n",
      "2) Train classifier: \n",
      "\n",
      "[2. 2. 2.]\n",
      "[2. 2. 2.]\n",
      "Accuracy: 1.000\n",
      "\n",
      "Confusion matrix:\n",
      "\n",
      " [[0 0 0 0 0 0 0 0]\n",
      " [0 0 0 0 0 0 0 0]\n",
      " [0 0 3 0 0 0 0 0]\n",
      " [0 0 0 0 0 0 0 0]\n",
      " [0 0 0 0 0 0 0 0]\n",
      " [0 0 0 0 0 0 0 0]\n",
      " [0 0 0 0 0 0 0 0]\n",
      " [0 0 0 0 0 0 0 0]]\n",
      "\n",
      "3) Test classifier: \n",
      "\n",
      "Collision detected!\n",
      "Trial 0 failed!\n",
      "Timeout!\n",
      "Trial 2 failed!\n",
      "Timeout!\n",
      "Trial 3 failed!\n",
      "Timeout!\n",
      "Trial 4 failed!\n",
      "Timeout!\n",
      "Trial 5 failed!\n",
      "Collision detected!\n",
      "Trial 6 failed!\n",
      "Collision detected!\n",
      "Trial 7 failed!\n",
      "Collision detected!\n",
      "Trial 8 failed!\n",
      "Timeout!\n",
      "Trial 9 failed!\n",
      "Timeout!\n",
      "Trial 10 failed!\n",
      "Timeout!\n",
      "Trial 11 failed!\n",
      "Timeout!\n",
      "Trial 12 failed!\n",
      "Collision detected!\n",
      "Trial 13 failed!\n",
      "Timeout!\n",
      "Trial 14 failed!\n",
      "Timeout!\n",
      "Trial 15 failed!\n",
      "Timeout!\n",
      "Trial 16 failed!\n",
      "Timeout!\n",
      "Trial 17 failed!\n",
      "Collision detected!\n",
      "Trial 18 failed!\n",
      "Timeout!\n",
      "Trial 19 failed!\n",
      "Progress trials: 20 %\n",
      "Timeout!\n",
      "Trial 20 failed!\n",
      "Collision detected!\n",
      "Trial 21 failed!\n",
      "Timeout!\n",
      "Trial 22 failed!\n",
      "Timeout!\n",
      "Trial 23 failed!\n",
      "Timeout!\n",
      "Trial 25 failed!\n",
      "Timeout!\n",
      "Trial 27 failed!\n",
      "Timeout!\n",
      "Trial 28 failed!\n",
      "Timeout!\n",
      "Trial 29 failed!\n",
      "Timeout!\n",
      "Trial 30 failed!\n",
      "Timeout!\n",
      "Trial 32 failed!\n",
      "Timeout!\n",
      "Trial 33 failed!\n",
      "Collision detected!\n",
      "Trial 34 failed!\n",
      "Timeout!\n",
      "Trial 36 failed!\n",
      "Timeout!\n",
      "Trial 37 failed!\n",
      "Timeout!\n",
      "Trial 38 failed!\n",
      "Timeout!\n",
      "Trial 39 failed!\n",
      "Progress trials: 40 %\n",
      "Timeout!\n",
      "Trial 40 failed!\n",
      "Timeout!\n",
      "Trial 41 failed!\n",
      "Timeout!\n",
      "Trial 42 failed!\n",
      "Timeout!\n",
      "Trial 43 failed!\n",
      "Timeout!\n",
      "Trial 45 failed!\n",
      "Timeout!\n",
      "Trial 46 failed!\n",
      "Timeout!\n",
      "Trial 47 failed!\n",
      "Timeout!\n",
      "Trial 48 failed!\n",
      "Timeout!\n",
      "Trial 49 failed!\n",
      "Timeout!\n",
      "Trial 50 failed!\n",
      "Collision detected!\n",
      "Trial 51 failed!\n",
      "Timeout!\n",
      "Trial 52 failed!\n",
      "Timeout!\n",
      "Trial 53 failed!\n",
      "Collision detected!\n",
      "Trial 54 failed!\n",
      "Timeout!\n",
      "Trial 55 failed!\n",
      "Timeout!\n",
      "Trial 56 failed!\n",
      "Timeout!\n",
      "Trial 57 failed!\n",
      "Timeout!\n",
      "Trial 58 failed!\n",
      "Progress trials: 60 %\n",
      "Timeout!\n",
      "Trial 61 failed!\n",
      "Timeout!\n",
      "Trial 62 failed!\n",
      "Timeout!\n",
      "Trial 63 failed!\n",
      "Timeout!\n",
      "Trial 64 failed!\n",
      "Timeout!\n",
      "Trial 65 failed!\n",
      "Timeout!\n",
      "Trial 66 failed!\n",
      "Collision detected!\n",
      "Trial 67 failed!\n",
      "Timeout!\n",
      "Trial 68 failed!\n",
      "Timeout!\n",
      "Trial 70 failed!\n",
      "Timeout!\n",
      "Trial 71 failed!\n",
      "Collision detected!\n",
      "Trial 72 failed!\n",
      "Timeout!\n",
      "Trial 73 failed!\n",
      "Timeout!\n",
      "Trial 74 failed!\n",
      "Timeout!\n",
      "Trial 75 failed!\n",
      "Collision detected!\n",
      "Trial 76 failed!\n",
      "Timeout!\n",
      "Trial 77 failed!\n",
      "Timeout!\n",
      "Trial 79 failed!\n",
      "Progress trials: 80 %\n",
      "Timeout!\n",
      "Trial 80 failed!\n",
      "Timeout!\n",
      "Trial 81 failed!\n",
      "Timeout!\n",
      "Trial 83 failed!\n",
      "Timeout!\n",
      "Trial 84 failed!\n",
      "Timeout!\n",
      "Trial 85 failed!\n",
      "Collision detected!\n",
      "Trial 87 failed!\n",
      "Timeout!\n",
      "Trial 90 failed!\n",
      "Collision detected!\n",
      "Trial 91 failed!\n",
      "Timeout!\n",
      "Trial 92 failed!\n",
      "Timeout!\n",
      "Trial 93 failed!\n",
      "Timeout!\n",
      "Trial 94 failed!\n",
      "Timeout!\n",
      "Trial 95 failed!\n",
      "Timeout!\n",
      "Trial 96 failed!\n",
      "Collision detected!\n",
      "Trial 97 failed!\n",
      "Timeout!\n",
      "Trial 98 failed!\n",
      "Timeout!\n",
      "Trial 99 failed!\n",
      "Progress trials: 100 %\n",
      "\n",
      "Success rate: 0.140\n",
      "\n",
      "Number trajectories dataset: 10\n",
      "1) Create dataset: \n",
      "\n",
      "\n",
      "2) Train classifier: \n",
      "\n",
      "[3. 5. 0. 6. 6. 2. 2. 2. 2. 3. 5. 2. 0. 6. 4. 2. 3. 4. 7. 2. 4. 5. 6. 5.\n",
      " 6. 6. 2. 0. 0. 5. 4. 4. 4.]\n",
      "[3. 2. 6. 6. 6. 2. 2. 2. 2. 4. 4. 2. 0. 6. 4. 2. 3. 4. 7. 2. 4. 2. 6. 4.\n",
      " 3. 6. 2. 0. 0. 2. 2. 4. 4.]\n",
      "Accuracy: 0.727\n",
      "\n",
      "Confusion matrix:\n",
      "\n",
      " [[3 0 0 0 0 0 1 0]\n",
      " [0 0 0 0 0 0 0 0]\n",
      " [0 0 8 0 0 0 0 0]\n",
      " [0 0 0 2 1 0 0 0]\n",
      " [0 0 1 0 5 0 0 0]\n",
      " [0 0 3 0 2 0 0 0]\n",
      " [0 0 0 1 0 0 5 0]\n",
      " [0 0 0 0 0 0 0 1]]\n",
      "\n",
      "3) Test classifier: \n",
      "\n",
      "Timeout!\n",
      "Trial 0 failed!\n",
      "Collision detected!\n",
      "Trial 3 failed!\n",
      "Timeout!\n",
      "Trial 4 failed!\n",
      "Timeout!\n",
      "Trial 5 failed!\n",
      "Collision detected!\n",
      "Trial 10 failed!\n",
      "Timeout!\n",
      "Trial 11 failed!\n",
      "Timeout!\n",
      "Trial 12 failed!\n",
      "Collision detected!\n",
      "Trial 13 failed!\n",
      "Collision detected!\n",
      "Trial 14 failed!\n",
      "Collision detected!\n",
      "Trial 15 failed!\n",
      "Collision detected!\n",
      "Trial 16 failed!\n",
      "Collision detected!\n",
      "Trial 18 failed!\n",
      "Progress trials: 20 %\n",
      "Timeout!\n",
      "Trial 21 failed!\n",
      "Collision detected!\n",
      "Trial 28 failed!\n",
      "Timeout!\n",
      "Trial 29 failed!\n",
      "Timeout!\n",
      "Trial 30 failed!\n",
      "Timeout!\n",
      "Trial 31 failed!\n",
      "Timeout!\n",
      "Trial 32 failed!\n",
      "Collision detected!\n",
      "Trial 34 failed!\n",
      "Timeout!\n",
      "Trial 35 failed!\n",
      "Timeout!\n",
      "Trial 36 failed!\n",
      "Timeout!\n",
      "Trial 38 failed!\n",
      "Timeout!\n",
      "Trial 39 failed!\n",
      "Progress trials: 40 %\n",
      "Timeout!\n",
      "Trial 40 failed!\n",
      "Collision detected!\n",
      "Trial 41 failed!\n",
      "Collision detected!\n",
      "Trial 42 failed!\n",
      "Collision detected!\n",
      "Trial 43 failed!\n",
      "Timeout!\n",
      "Trial 44 failed!\n",
      "Timeout!\n",
      "Trial 45 failed!\n",
      "Timeout!\n",
      "Trial 47 failed!\n",
      "Collision detected!\n",
      "Trial 48 failed!\n",
      "Timeout!\n",
      "Trial 49 failed!\n",
      "Timeout!\n",
      "Trial 53 failed!\n",
      "Timeout!\n",
      "Trial 54 failed!\n",
      "Timeout!\n",
      "Trial 55 failed!\n",
      "Collision detected!\n",
      "Trial 56 failed!\n",
      "Collision detected!\n",
      "Trial 58 failed!\n",
      "Progress trials: 60 %\n",
      "Collision detected!\n",
      "Trial 62 failed!\n",
      "Timeout!\n",
      "Trial 65 failed!\n",
      "Timeout!\n",
      "Trial 66 failed!\n",
      "Collision detected!\n",
      "Trial 69 failed!\n",
      "Timeout!\n",
      "Trial 71 failed!\n",
      "Collision detected!\n",
      "Trial 72 failed!\n",
      "Timeout!\n",
      "Trial 75 failed!\n",
      "Timeout!\n",
      "Trial 76 failed!\n",
      "Timeout!\n",
      "Trial 77 failed!\n",
      "Collision detected!\n",
      "Trial 78 failed!\n",
      "Progress trials: 80 %\n",
      "Timeout!\n",
      "Trial 81 failed!\n",
      "Timeout!\n",
      "Trial 83 failed!\n",
      "Collision detected!\n",
      "Trial 84 failed!\n",
      "Timeout!\n",
      "Trial 85 failed!\n",
      "Collision detected!\n",
      "Trial 86 failed!\n",
      "Collision detected!\n",
      "Trial 87 failed!\n",
      "Collision detected!\n",
      "Trial 88 failed!\n",
      "Collision detected!\n",
      "Trial 89 failed!\n",
      "Collision detected!\n",
      "Trial 90 failed!\n",
      "Timeout!\n",
      "Trial 91 failed!\n",
      "Collision detected!\n",
      "Trial 92 failed!\n",
      "Timeout!\n",
      "Trial 93 failed!\n",
      "Timeout!\n",
      "Trial 95 failed!\n",
      "Collision detected!\n",
      "Trial 96 failed!\n",
      "Progress trials: 100 %\n",
      "\n",
      "Success rate: 0.390\n",
      "\n",
      "Number trajectories dataset: 20\n",
      "1) Create dataset: \n",
      "\n",
      "\n",
      "2) Train classifier: \n",
      "\n",
      "[2. 0. 5. 3. 0. 4. 5. 7. 0. 3. 2. 4. 2. 1. 7. 7. 3. 5. 7. 5. 1. 2. 3. 2.\n",
      " 3. 2. 4. 4. 1. 2. 7. 5. 6. 6. 3. 4. 7. 4. 6. 7. 2. 2. 2. 6. 0. 0. 4. 0.\n",
      " 7. 4. 2. 0. 4. 7. 6. 0. 0. 4. 1. 1. 4. 6. 1. 2. 0. 1. 0. 2. 2. 1. 3. 0.\n",
      " 3. 6.]\n",
      "[4. 6. 5. 3. 0. 5. 1. 7. 0. 3. 2. 3. 5. 7. 1. 0. 3. 5. 1. 2. 1. 2. 4. 4.\n",
      " 3. 2. 3. 4. 5. 2. 0. 5. 3. 0. 3. 4. 7. 4. 6. 7. 2. 2. 2. 3. 0. 6. 3. 2.\n",
      " 7. 4. 2. 0. 4. 7. 6. 6. 6. 4. 5. 1. 4. 6. 5. 5. 0. 1. 6. 2. 5. 1. 3. 0.\n",
      " 3. 6.]\n",
      "Accuracy: 0.608\n",
      "\n",
      "Confusion matrix:\n",
      "\n",
      " [[6 0 1 0 0 0 5 0]\n",
      " [0 4 0 0 0 3 0 1]\n",
      " [0 0 9 0 2 3 0 0]\n",
      " [0 0 0 7 1 0 0 0]\n",
      " [0 0 0 3 7 1 0 0]\n",
      " [0 1 1 0 0 3 0 0]\n",
      " [1 0 0 2 0 0 4 0]\n",
      " [2 2 0 0 0 0 0 5]]\n",
      "\n",
      "3) Test classifier: \n",
      "\n",
      "Collision detected!\n",
      "Trial 3 failed!\n",
      "Collision detected!\n",
      "Trial 10 failed!\n",
      "Collision detected!\n",
      "Trial 15 failed!\n",
      "Collision detected!\n",
      "Trial 16 failed!\n",
      "Collision detected!\n",
      "Trial 18 failed!\n",
      "Progress trials: 20 %\n",
      "Collision detected!\n",
      "Trial 28 failed!\n",
      "Collision detected!\n",
      "Trial 32 failed!\n",
      "Collision detected!\n",
      "Trial 34 failed!\n",
      "Collision detected!\n",
      "Trial 35 failed!\n",
      "Progress trials: 40 %\n",
      "Collision detected!\n",
      "Trial 41 failed!\n",
      "Collision detected!\n",
      "Trial 44 failed!\n",
      "Collision detected!\n",
      "Trial 48 failed!\n",
      "Collision detected!\n",
      "Trial 53 failed!\n",
      "Collision detected!\n",
      "Trial 58 failed!\n",
      "Timeout!\n",
      "Trial 59 failed!\n",
      "Progress trials: 60 %\n",
      "Collision detected!\n",
      "Trial 62 failed!\n",
      "Timeout!\n",
      "Trial 69 failed!\n",
      "Collision detected!\n",
      "Trial 71 failed!\n",
      "Collision detected!\n",
      "Trial 72 failed!\n",
      "Timeout!\n",
      "Trial 78 failed!\n",
      "Collision detected!\n",
      "Trial 79 failed!\n",
      "Progress trials: 80 %\n",
      "Collision detected!\n",
      "Trial 81 failed!\n",
      "Collision detected!\n",
      "Trial 87 failed!\n",
      "Collision detected!\n",
      "Trial 92 failed!\n",
      "Collision detected!\n",
      "Trial 93 failed!\n",
      "Collision detected!\n",
      "Trial 96 failed!\n",
      "Progress trials: 100 %\n",
      "\n",
      "Success rate: 0.740\n",
      "\n",
      "Number trajectories dataset: 40\n",
      "1) Create dataset: \n",
      "\n",
      "\n",
      "2) Train classifier: \n",
      "\n",
      "[4. 4. 1. 6. 3. 1. 0. 4. 5. 6. 1. 2. 1. 2. 0. 0. 2. 3. 7. 2. 6. 4. 5. 1.\n",
      " 3. 3. 3. 7. 4. 0. 7. 0. 7. 3. 2. 3. 2. 3. 6. 1. 0. 0. 4. 1. 1. 6. 6. 7.\n",
      " 4. 1. 3. 0. 6. 7. 4. 3. 0. 0. 1. 4. 7. 6. 2. 2. 2. 1. 4. 0. 3. 1. 6. 2.\n",
      " 7. 5. 7. 5. 0. 2. 3. 2. 6. 0. 4. 4. 2. 2. 7. 3. 2. 7. 2. 3. 0. 5. 2. 3.\n",
      " 4. 2. 2. 0. 6. 5. 3. 7. 2. 0. 0. 1. 5. 1. 3. 1. 3. 1. 0. 1. 1. 2. 7. 7.\n",
      " 3. 0. 7. 3. 0. 3. 3. 3. 6. 0. 4. 0. 1. 7. 1. 5. 3. 0. 5. 2. 0. 6.]\n",
      "[4. 4. 1. 0. 3. 1. 0. 4. 1. 6. 7. 2. 1. 5. 2. 0. 2. 3. 1. 2. 0. 3. 5. 1.\n",
      " 3. 3. 3. 1. 4. 0. 1. 0. 0. 3. 2. 3. 2. 3. 6. 1. 0. 0. 4. 7. 1. 3. 6. 7.\n",
      " 4. 1. 3. 6. 0. 7. 4. 3. 0. 0. 5. 4. 7. 0. 2. 2. 4. 1. 4. 0. 3. 1. 0. 2.\n",
      " 1. 1. 1. 5. 0. 2. 3. 2. 6. 0. 4. 3. 2. 2. 7. 3. 2. 7. 5. 3. 0. 5. 2. 3.\n",
      " 4. 2. 2. 0. 6. 5. 3. 0. 2. 0. 0. 1. 4. 1. 0. 1. 3. 1. 0. 1. 1. 2. 7. 7.\n",
      " 6. 0. 1. 3. 0. 3. 3. 3. 7. 0. 4. 0. 1. 1. 1. 2. 3. 0. 4. 2. 0. 0.]\n",
      "Accuracy: 0.761\n",
      "\n",
      "Confusion matrix:\n",
      "\n",
      " [[22  0  1  0  0  0  1  0]\n",
      " [ 0 17  0  0  0  1  0  2]\n",
      " [ 0  0 19  0  1  2  0  0]\n",
      " [ 1  0  0 22  0  0  1  0]\n",
      " [ 0  0  0  2 12  0  0  0]\n",
      " [ 0  2  1  0  2  4  0  0]\n",
      " [ 6  0  0  1  0  0  5  1]\n",
      " [ 2  7  0  0  0  0  0  7]]\n",
      "\n",
      "3) Test classifier: \n",
      "\n",
      "Collision detected!\n",
      "Trial 3 failed!\n",
      "Collision detected!\n",
      "Trial 10 failed!\n",
      "Collision detected!\n",
      "Trial 13 failed!\n",
      "Collision detected!\n",
      "Trial 16 failed!\n",
      "Collision detected!\n",
      "Trial 18 failed!\n",
      "Progress trials: 20 %\n",
      "Collision detected!\n",
      "Trial 28 failed!\n",
      "Collision detected!\n",
      "Trial 32 failed!\n",
      "Collision detected!\n",
      "Trial 34 failed!\n",
      "Progress trials: 40 %\n",
      "Collision detected!\n",
      "Trial 41 failed!\n",
      "Collision detected!\n",
      "Trial 48 failed!\n",
      "Collision detected!\n",
      "Trial 49 failed!\n",
      "Collision detected!\n",
      "Trial 53 failed!\n",
      "Collision detected!\n",
      "Trial 56 failed!\n",
      "Collision detected!\n",
      "Trial 57 failed!\n",
      "Progress trials: 60 %\n",
      "Collision detected!\n",
      "Trial 62 failed!\n",
      "Collision detected!\n",
      "Trial 66 failed!\n",
      "Collision detected!\n",
      "Trial 72 failed!\n",
      "Progress trials: 80 %\n",
      "Collision detected!\n",
      "Trial 81 failed!\n",
      "Timeout!\n",
      "Trial 85 failed!\n",
      "Collision detected!\n",
      "Trial 87 failed!\n",
      "Collision detected!\n",
      "Trial 92 failed!\n",
      "Collision detected!\n",
      "Trial 93 failed!\n",
      "Collision detected!\n",
      "Trial 96 failed!\n",
      "Progress trials: 100 %\n",
      "\n",
      "Success rate: 0.770\n",
      "\n",
      "Number trajectories dataset: 60\n",
      "1) Create dataset: \n",
      "\n",
      "\n",
      "2) Train classifier: \n",
      "\n",
      "[0. 0. 6. 5. 0. 6. 4. 0. 6. 3. 0. 0. 3. 5. 4. 1. 4. 0. 2. 6. 2. 0. 7. 4.\n",
      " 6. 3. 1. 1. 4. 2. 6. 5. 0. 6. 0. 0. 1. 1. 4. 2. 1. 7. 4. 0. 5. 4. 4. 5.\n",
      " 4. 7. 2. 1. 5. 5. 1. 6. 1. 6. 3. 1. 0. 6. 3. 1. 2. 1. 7. 3. 3. 4. 0. 2.\n",
      " 7. 4. 0. 2. 0. 4. 6. 0. 0. 6. 1. 6. 1. 1. 3. 5. 0. 0. 3. 4. 0. 6. 0. 2.\n",
      " 1. 5. 3. 6. 3. 0. 4. 4. 3. 0. 3. 5. 5. 3. 6. 1. 3. 0. 5. 0. 0. 1. 2. 0.\n",
      " 4. 6. 5. 1. 2. 6. 5. 2. 5. 4. 0. 5. 2. 5. 5. 2. 3. 1. 7. 5. 0. 2. 1. 5.\n",
      " 7. 6. 0. 3. 7. 2. 1. 2. 5. 0. 3. 3. 4. 4. 3. 2. 1. 5. 5. 7. 6. 0. 7. 2.\n",
      " 3. 1. 0. 4. 0. 0. 4. 2. 4. 2. 3. 5. 6. 7. 4. 3. 2. 5. 0. 0. 3. 6. 2. 2.\n",
      " 7. 1. 3. 3. 2. 7. 1. 3. 7. 7. 4. 7. 2.]\n",
      "[0. 0. 6. 1. 0. 0. 4. 0. 6. 6. 0. 0. 3. 4. 5. 1. 4. 0. 2. 6. 2. 0. 1. 2.\n",
      " 6. 3. 1. 1. 4. 1. 0. 2. 0. 7. 0. 0. 1. 1. 2. 4. 1. 1. 4. 0. 2. 4. 4. 5.\n",
      " 4. 7. 5. 1. 5. 4. 1. 6. 1. 6. 4. 1. 0. 6. 4. 1. 4. 1. 1. 3. 3. 4. 0. 2.\n",
      " 1. 4. 0. 2. 0. 4. 6. 0. 0. 3. 1. 6. 1. 7. 3. 2. 0. 0. 3. 4. 0. 3. 0. 2.\n",
      " 1. 2. 3. 6. 3. 0. 4. 4. 3. 0. 3. 1. 5. 3. 6. 1. 3. 0. 5. 0. 0. 1. 2. 0.\n",
      " 4. 3. 5. 1. 2. 0. 5. 2. 1. 4. 0. 1. 2. 2. 5. 2. 3. 1. 7. 2. 0. 2. 1. 1.\n",
      " 0. 6. 0. 3. 0. 2. 1. 2. 5. 0. 3. 3. 4. 4. 3. 4. 1. 2. 1. 7. 0. 0. 7. 2.\n",
      " 6. 1. 0. 4. 0. 0. 4. 2. 4. 5. 6. 5. 7. 1. 2. 3. 2. 1. 0. 0. 3. 6. 2. 2.\n",
      " 7. 1. 3. 3. 2. 1. 1. 4. 7. 1. 4. 1. 2.]\n",
      "Accuracy: 0.746\n",
      "\n",
      "Confusion matrix:\n",
      "\n",
      " [[38  0  0  0  0  0  0  0]\n",
      " [ 0 25  0  0  0  0  0  1]\n",
      " [ 0  1 20  0  3  2  0  0]\n",
      " [ 0  0  0 21  3  0  3  0]\n",
      " [ 0  0  3  0 21  1  0  0]\n",
      " [ 0  7  7  0  2  9  0  0]\n",
      " [ 4  0  0  3  0  0 13  2]\n",
      " [ 2  8  0  0  0  0  0  6]]\n",
      "\n",
      "3) Test classifier: \n",
      "\n",
      "Collision detected!\n",
      "Trial 3 failed!\n",
      "Collision detected!\n",
      "Trial 6 failed!\n",
      "Collision detected!\n",
      "Trial 10 failed!\n",
      "Collision detected!\n",
      "Trial 16 failed!\n",
      "Collision detected!\n",
      "Trial 18 failed!\n",
      "Progress trials: 20 %\n",
      "Collision detected!\n",
      "Trial 28 failed!\n",
      "Collision detected!\n",
      "Trial 32 failed!\n",
      "Collision detected!\n",
      "Trial 34 failed!\n",
      "Collision detected!\n",
      "Trial 38 failed!\n",
      "Progress trials: 40 %\n",
      "Collision detected!\n",
      "Trial 41 failed!\n",
      "Collision detected!\n",
      "Trial 49 failed!\n",
      "Collision detected!\n",
      "Trial 53 failed!\n",
      "Collision detected!\n",
      "Trial 54 failed!\n",
      "Collision detected!\n",
      "Trial 56 failed!\n",
      "Progress trials: 60 %\n",
      "Collision detected!\n",
      "Trial 62 failed!\n",
      "Collision detected!\n",
      "Trial 66 failed!\n",
      "Timeout!\n",
      "Trial 71 failed!\n",
      "Collision detected!\n",
      "Trial 72 failed!\n",
      "Collision detected!\n",
      "Trial 79 failed!\n",
      "Progress trials: 80 %\n",
      "Collision detected!\n",
      "Trial 81 failed!\n",
      "Timeout!\n",
      "Trial 83 failed!\n",
      "Collision detected!\n",
      "Trial 87 failed!\n",
      "Timeout!\n",
      "Trial 89 failed!\n",
      "Collision detected!\n",
      "Trial 93 failed!\n",
      "Collision detected!\n",
      "Trial 96 failed!\n",
      "Progress trials: 100 %\n",
      "\n",
      "Success rate: 0.750\n",
      "\n",
      "Number trajectories dataset: 80\n",
      "1) Create dataset: \n",
      "\n",
      "\n",
      "2) Train classifier: \n",
      "\n",
      "[1. 2. 4. 1. 3. 1. 1. 7. 0. 7. 0. 0. 2. 1. 2. 3. 0. 7. 2. 1. 7. 1. 6. 4.\n",
      " 2. 0. 7. 1. 6. 0. 4. 0. 5. 1. 4. 0. 2. 1. 3. 2. 1. 4. 6. 5. 6. 7. 2. 0.\n",
      " 3. 0. 3. 2. 0. 4. 3. 1. 7. 7. 1. 0. 1. 3. 2. 4. 5. 6. 1. 6. 0. 2. 7. 2.\n",
      " 2. 1. 6. 2. 2. 0. 0. 3. 2. 2. 2. 1. 7. 7. 3. 6. 5. 1. 2. 0. 1. 5. 3. 7.\n",
      " 4. 5. 6. 7. 6. 2. 5. 7. 1. 2. 0. 5. 3. 1. 5. 4. 7. 1. 2. 0. 1. 0. 2. 0.\n",
      " 2. 3. 4. 0. 5. 1. 1. 4. 4. 0. 7. 1. 4. 3. 6. 3. 2. 7. 2. 5. 6. 1. 0. 5.\n",
      " 2. 4. 4. 1. 5. 7. 5. 4. 2. 3. 1. 1. 2. 5. 5. 0. 0. 4. 1. 4. 2. 7. 7. 2.\n",
      " 5. 6. 7. 6. 2. 0. 6. 4. 2. 3. 0. 7. 0. 1. 4. 7. 1. 6. 1. 0. 4. 5. 4. 1.\n",
      " 1. 2. 5. 6. 6. 6. 7. 3. 1. 6. 1. 6. 0. 1. 4. 7. 2. 7. 2. 4. 2. 2. 2. 3.\n",
      " 1. 3. 0. 0. 3. 7. 1. 2. 3. 5. 6. 7. 2. 2. 5. 5. 4. 3. 5. 2. 2. 0. 1. 6.\n",
      " 4. 1. 2. 5. 7. 6. 6. 4. 3. 4. 5. 1. 1. 4. 2. 3. 5. 6. 2. 4. 2. 3. 0. 1.\n",
      " 5. 3. 5. 7.]\n",
      "[1. 2. 4. 1. 6. 1. 1. 1. 0. 1. 0. 0. 2. 1. 2. 3. 0. 1. 2. 1. 1. 1. 6. 6.\n",
      " 5. 0. 7. 1. 6. 0. 4. 0. 1. 1. 4. 1. 2. 7. 3. 2. 1. 4. 7. 5. 6. 7. 2. 0.\n",
      " 3. 0. 6. 2. 0. 4. 3. 1. 7. 7. 1. 0. 1. 3. 2. 4. 5. 6. 1. 4. 0. 2. 7. 2.\n",
      " 4. 1. 6. 2. 2. 0. 0. 3. 2. 5. 2. 1. 7. 7. 3. 3. 1. 1. 2. 0. 1. 2. 3. 0.\n",
      " 2. 5. 6. 7. 4. 2. 5. 7. 1. 4. 0. 1. 3. 1. 5. 4. 7. 1. 2. 0. 1. 0. 2. 0.\n",
      " 2. 3. 4. 0. 2. 1. 1. 2. 4. 0. 0. 1. 2. 4. 6. 6. 2. 7. 2. 2. 6. 1. 0. 4.\n",
      " 2. 4. 4. 1. 1. 7. 5. 3. 2. 3. 1. 1. 4. 5. 5. 0. 0. 4. 1. 2. 2. 7. 0. 2.\n",
      " 1. 6. 7. 6. 2. 0. 0. 4. 2. 6. 0. 7. 0. 1. 2. 1. 1. 6. 1. 0. 4. 2. 4. 1.\n",
      " 1. 4. 2. 6. 6. 0. 7. 3. 1. 6. 5. 0. 0. 1. 4. 1. 2. 7. 2. 4. 2. 2. 2. 4.\n",
      " 1. 3. 0. 0. 3. 7. 1. 2. 6. 5. 6. 1. 2. 2. 1. 5. 5. 3. 5. 2. 2. 0. 1. 6.\n",
      " 4. 1. 2. 5. 1. 6. 6. 5. 3. 4. 2. 1. 1. 2. 2. 3. 1. 3. 2. 4. 2. 4. 0. 1.\n",
      " 5. 4. 5. 7.]\n",
      "Accuracy: 0.772\n",
      "\n",
      "Confusion matrix:\n",
      "\n",
      " [[33  1  0  0  0  0  0  0]\n",
      " [ 0 44  0  0  0  1  0  1]\n",
      " [ 0  0 42  0  4  2  0  0]\n",
      " [ 0  0  0 17  4  0  5  0]\n",
      " [ 0  0  6  1 20  2  1  0]\n",
      " [ 0  7  6  0  1 14  0  0]\n",
      " [ 3  0  0  2  2  0 18  1]\n",
      " [ 3  8  0  0  0  0  0 19]]\n",
      "\n",
      "3) Test classifier: \n",
      "\n",
      "Collision detected!\n",
      "Trial 3 failed!\n",
      "Collision detected!\n",
      "Trial 10 failed!\n",
      "Progress trials: 20 %\n",
      "Collision detected!\n",
      "Trial 28 failed!\n",
      "Collision detected!\n",
      "Trial 32 failed!\n",
      "Collision detected!\n",
      "Trial 34 failed!\n",
      "Progress trials: 40 %\n",
      "Collision detected!\n",
      "Trial 49 failed!\n",
      "Collision detected!\n",
      "Trial 54 failed!\n",
      "Collision detected!\n",
      "Trial 58 failed!\n",
      "Progress trials: 60 %\n",
      "Collision detected!\n",
      "Trial 62 failed!\n",
      "Collision detected!\n",
      "Trial 66 failed!\n",
      "Collision detected!\n",
      "Trial 71 failed!\n",
      "Collision detected!\n",
      "Trial 72 failed!\n",
      "Collision detected!\n",
      "Trial 79 failed!\n",
      "Progress trials: 80 %\n",
      "Collision detected!\n",
      "Trial 81 failed!\n",
      "Timeout!\n",
      "Trial 83 failed!\n",
      "Timeout!\n",
      "Trial 87 failed!\n",
      "Collision detected!\n",
      "Trial 93 failed!\n",
      "Collision detected!\n",
      "Trial 96 failed!\n",
      "Progress trials: 100 %\n",
      "\n",
      "Success rate: 0.820\n",
      "\n",
      "Number trajectories dataset: 100\n",
      "1) Create dataset: \n",
      "\n",
      "\n",
      "2) Train classifier: \n",
      "\n",
      "[7. 2. 3. 0. 0. 0. 4. 0. 2. 4. 7. 3. 7. 4. 4. 2. 0. 1. 0. 4. 3. 3. 7. 0.\n",
      " 2. 0. 2. 1. 3. 5. 0. 1. 3. 5. 0. 5. 1. 0. 1. 5. 5. 0. 6. 1. 6. 1. 1. 7.\n",
      " 0. 1. 0. 1. 2. 4. 1. 0. 6. 3. 5. 0. 0. 6. 1. 1. 1. 1. 4. 3. 1. 1. 4. 3.\n",
      " 1. 2. 3. 0. 0. 7. 7. 1. 0. 0. 2. 2. 0. 7. 0. 3. 2. 5. 5. 6. 2. 4. 3. 2.\n",
      " 6. 3. 1. 0. 5. 1. 2. 1. 2. 4. 1. 2. 5. 0. 2. 1. 7. 6. 7. 0. 3. 2. 7. 1.\n",
      " 5. 2. 1. 6. 7. 3. 3. 5. 0. 4. 3. 5. 1. 6. 4. 7. 4. 0. 1. 3. 7. 1. 1. 2.\n",
      " 1. 0. 6. 1. 2. 4. 2. 7. 6. 1. 1. 0. 2. 7. 2. 2. 5. 2. 1. 4. 6. 5. 0. 4.\n",
      " 3. 4. 6. 0. 6. 3. 0. 3. 7. 2. 6. 1. 3. 5. 5. 2. 7. 0. 1. 0. 4. 0. 1. 1.\n",
      " 2. 5. 6. 5. 7. 0. 1. 6. 2. 2. 7. 3. 4. 4. 7. 5. 5. 0. 0. 4. 0. 5. 1. 0.\n",
      " 5. 2. 1. 2. 3. 2. 0. 2. 3. 0. 2. 6. 0. 1. 1. 2. 0. 3. 1. 0. 2. 6. 6. 4.\n",
      " 0. 7. 1. 7. 5. 0. 6. 1. 6. 4. 5. 4. 5. 4. 3. 4. 1. 5. 4. 1. 2. 5. 0. 0.\n",
      " 1. 1. 3. 0. 2. 1. 5. 1. 1. 5. 5. 4. 1. 2. 2. 7. 3. 0. 7. 1. 2. 4. 1. 0.\n",
      " 7. 0. 4. 0. 3. 1. 3. 4. 4. 4. 4. 5. 7. 2. 5. 0. 0. 5. 1. 5. 1. 3. 6. 2.\n",
      " 0. 2. 3. 1. 4. 1. 3. 7. 4. 1. 5. 1. 1. 2. 0. 1. 6. 2. 4. 1. 7. 4. 2. 7.\n",
      " 1. 6. 2.]\n",
      "[7. 2. 3. 0. 0. 0. 4. 0. 2. 3. 7. 3. 7. 4. 2. 2. 7. 1. 0. 4. 3. 3. 7. 0.\n",
      " 2. 7. 4. 1. 3. 2. 0. 5. 3. 2. 0. 2. 1. 0. 1. 2. 5. 0. 6. 1. 6. 1. 1. 1.\n",
      " 0. 1. 0. 1. 2. 4. 1. 0. 0. 3. 2. 0. 6. 6. 1. 1. 1. 5. 4. 6. 1. 1. 2. 3.\n",
      " 5. 2. 3. 0. 0. 7. 7. 1. 7. 0. 2. 2. 0. 7. 0. 3. 2. 1. 5. 6. 2. 4. 3. 2.\n",
      " 6. 3. 7. 0. 2. 7. 2. 1. 2. 4. 1. 2. 4. 0. 2. 1. 7. 4. 0. 0. 3. 2. 1. 7.\n",
      " 5. 2. 1. 3. 7. 3. 3. 1. 7. 4. 3. 5. 1. 6. 4. 7. 4. 1. 7. 3. 7. 1. 1. 2.\n",
      " 1. 0. 0. 1. 2. 2. 2. 0. 4. 1. 1. 6. 4. 7. 2. 4. 5. 2. 1. 4. 6. 1. 0. 4.\n",
      " 3. 4. 3. 0. 3. 3. 0. 4. 7. 2. 6. 1. 3. 5. 5. 2. 7. 0. 1. 0. 4. 0. 1. 1.\n",
      " 2. 1. 3. 5. 7. 0. 1. 6. 2. 2. 7. 3. 4. 3. 7. 1. 5. 0. 0. 3. 0. 5. 1. 0.\n",
      " 1. 2. 1. 5. 4. 2. 0. 2. 3. 0. 2. 6. 0. 7. 7. 2. 0. 6. 1. 0. 2. 0. 6. 3.\n",
      " 0. 7. 1. 6. 5. 0. 6. 1. 0. 3. 5. 4. 5. 4. 3. 4. 1. 2. 2. 1. 4. 2. 0. 0.\n",
      " 1. 5. 3. 0. 2. 1. 5. 1. 1. 5. 5. 2. 1. 2. 2. 7. 4. 0. 7. 1. 2. 4. 5. 0.\n",
      " 7. 0. 4. 0. 3. 1. 3. 4. 4. 4. 4. 5. 7. 2. 2. 0. 0. 1. 1. 1. 1. 0. 0. 2.\n",
      " 0. 2. 3. 1. 4. 1. 3. 1. 4. 1. 2. 7. 1. 2. 0. 1. 4. 2. 4. 1. 0. 2. 2. 1.\n",
      " 1. 0. 2.]\n",
      "Accuracy: 0.761\n",
      "\n",
      "Confusion matrix:\n",
      "\n",
      " [[52  1  0  0  0  0  2  4]\n",
      " [ 0 56  0  0  0  5  0  7]\n",
      " [ 0  0 44  0  4  1  0  0]\n",
      " [ 1  0  0 28  3  0  2  0]\n",
      " [ 0  0  6  5 27  0  0  0]\n",
      " [ 0  8 10  0  1 17  0  0]\n",
      " [ 6  0  0  4  3  0 12  0]\n",
      " [ 3  4  0  0  0  0  1 22]]\n",
      "\n",
      "3) Test classifier: \n",
      "\n",
      "Collision detected!\n",
      "Trial 3 failed!\n",
      "Collision detected!\n",
      "Trial 5 failed!\n",
      "Timeout!\n",
      "Trial 9 failed!\n",
      "Collision detected!\n",
      "Trial 10 failed!\n",
      "Progress trials: 20 %\n",
      "Collision detected!\n",
      "Trial 28 failed!\n",
      "Collision detected!\n",
      "Trial 32 failed!\n",
      "Timeout!\n",
      "Trial 34 failed!\n",
      "Progress trials: 40 %\n",
      "Collision detected!\n",
      "Trial 41 failed!\n",
      "Collision detected!\n",
      "Trial 48 failed!\n",
      "Collision detected!\n",
      "Trial 49 failed!\n",
      "Collision detected!\n",
      "Trial 53 failed!\n",
      "Collision detected!\n",
      "Trial 54 failed!\n",
      "Collision detected!\n",
      "Trial 56 failed!\n",
      "Collision detected!\n",
      "Trial 58 failed!\n",
      "Progress trials: 60 %\n",
      "Collision detected!\n",
      "Trial 62 failed!\n",
      "Collision detected!\n",
      "Trial 66 failed!\n",
      "Collision detected!\n",
      "Trial 71 failed!\n",
      "Collision detected!\n",
      "Trial 72 failed!\n",
      "Progress trials: 80 %\n",
      "Collision detected!\n",
      "Trial 81 failed!\n",
      "Timeout!\n",
      "Trial 83 failed!\n",
      "Collision detected!\n",
      "Trial 96 failed!\n",
      "Progress trials: 100 %\n",
      "\n",
      "Success rate: 0.790\n"
     ]
    }
   ],
   "source": [
    "n_trajectories_list = [1, 10, 20, 40, 60, 80, 100]\n",
    "n_obstacles_list = [1, 2, 3]\n",
    "success_rate_list = repeat_experiments(n_trajectories_list, n_obstacles_list=n_obstacles_list)"
   ]
  },
  {
   "cell_type": "markdown",
   "metadata": {
    "deletable": false,
    "editable": false,
    "nbgrader": {
     "cell_type": "markdown",
     "checksum": "f58e37a1e154e46bbbaa515ccb4a3d1c",
     "grade": false,
     "grade_id": "cell-9b95a800be398249",
     "locked": true,
     "schema_version": 3,
     "solution": false,
     "task": false
    }
   },
   "source": [
    "**3.25)** Let's plot these results!"
   ]
  },
  {
   "cell_type": "code",
   "execution_count": null,
   "metadata": {
    "deletable": false
   },
   "outputs": [],
   "source": [
    "# Empty space for debugging your code if you are stuck. DO NOT REMOVE even if you don't end up using this space.\n",
    "\n"
   ]
  },
  {
   "cell_type": "code",
   "execution_count": null,
   "metadata": {
    "deletable": false
   },
   "outputs": [],
   "source": [
    "#if you are stuck here, uncomment the lines below to load variables\n",
    "# npzfile = np.load('./get_unstuck/plot1.npz')\n",
    "# success_rate_list= npzfile['success_rate_list']"
   ]
  },
  {
   "cell_type": "code",
   "execution_count": 376,
   "metadata": {
    "deletable": false,
    "editable": false,
    "nbgrader": {
     "cell_type": "code",
     "checksum": "eefd30d182e297591dbe0514f7e442d1",
     "grade": false,
     "grade_id": "cell-6884b9a05eb07a46",
     "locked": true,
     "schema_version": 3,
     "solution": false,
     "task": false
    }
   },
   "outputs": [
    {
     "data": {
      "image/png": "[encoded data removed]",
      "text/plain": [
       "<Figure size 640x480 with 1 Axes>"
      ]
     },
     "metadata": {},
     "output_type": "display_data"
    }
   ],
   "source": [
    "n_trajectories_list = [1, 10, 20, 40, 60, 80, 100]\n",
    "n_obstacles_list = [1, 2, 3]\n",
    "\n",
    "for i in range(len(n_obstacles_list)):\n",
    "    plt.plot(n_trajectories_list, success_rate_list[i], linestyle='--', linewidth=2, label=('%i obstacle(s)' % (i+1)))\n",
    "    plt.scatter(n_trajectories_list, success_rate_list[i], linewidth=3)\n",
    "    \n",
    "plt.grid('on')\n",
    "plt.xlabel('Number of trajectories in dataset')\n",
    "plt.ylabel('Success rate')\n",
    "plt.title('Influence of dataset size in success rate')\n",
    "plt.ylim(ymin=0)\n",
    "plt.xlim(xmin=0)\n",
    "plt.legend()\n",
    "plt.show()"
   ]
  },
  {
   "cell_type": "markdown",
   "metadata": {
    "deletable": false,
    "editable": false,
    "nbgrader": {
     "cell_type": "markdown",
     "checksum": "51d2ae7eb87a5aeb9e0862566f1ee9cf",
     "grade": false,
     "grade_id": "cell-b8351318bdf43c5e",
     "locked": true,
     "schema_version": 3,
     "solution": false,
     "task": false
    }
   },
   "source": [
    "**3.26)** We can observe that increasing the dataset size will increase the performance of the classifier in environments with 1, 2, and 3 obstacles. This performance, however, seems to be bounded (and this bound gets lower as the number of obstacles increases), which suggests that adding more data will not be enough to completely solve this problem. Why do you think this is the case?"
   ]
  },
  {
   "cell_type": "markdown",
   "metadata": {
    "deletable": false
   },
   "source": [
    "Answer: The objective is to both find a good trajectory and to do it quickly. As more obstacles are added, the dimensionality of the feature space increases, requiring a bigger decision tree - thus a bigger forest, which means that the model will take more time to make predictions. Even if we were able to provide infinite data, the model might be able to always find the right path, but not in an aceptable amount of time. Some way to redcue the dimensionality might help - e.g. maybe we could make it so the model only knows about the obstacle closest to it, and ignores the ones that are far away - but then it might get stuck more often when it tries to take a shortcut and then finds out the path is blocked. An alternative is to try a different model such as KNN or SVM, or maybe a model that hasn't been discussed in this course yet. "
   ]
  },
  {
   "cell_type": "markdown",
   "metadata": {
    "deletable": false,
    "editable": false,
    "nbgrader": {
     "cell_type": "markdown",
     "checksum": "c2e76042240acbbaac222e81052e9e2c",
     "grade": false,
     "grade_id": "cell-339c01e898294c93",
     "locked": true,
     "schema_version": 3,
     "solution": false,
     "task": false
    }
   },
   "source": [
    "**3.27)** In the motivation of this problem, we mentioned that Imitation Learning can be used to learn from humans. However, from this plot, we can observe that as the problem gets more complex (more obstacles in this case), more data is required to find good solutions. More data means more human time to generate the demonstrations, and human time is expensive.\n",
    "\n",
    "What limitations do you see in the approach that we used in this assignment to solve the motion planning problem?"
   ]
  },
  {
   "cell_type": "markdown",
   "metadata": {
    "deletable": false
   },
   "source": [
    "Answer: The possible actions of our robot are limited to just 8 compass directions, while our robot can probably make smaller adjustments in direction than that. This limits the possible paths that the robot will take. The obstacles also seem to always be of the same size and shape - our robot will not know how to deal with anything non-circular, though we could implement a bounding box for other types of objects. The trajectory is also quite small, so we can not drive from Delft to Amsterdam just yet. "
   ]
  },
  {
   "cell_type": "markdown",
   "metadata": {
    "deletable": false,
    "editable": false,
    "nbgrader": {
     "cell_type": "markdown",
     "checksum": "00c9300e75206683b54e3c4d1d317776",
     "grade": false,
     "grade_id": "cell-4e46ffd13ff55672",
     "locked": true,
     "schema_version": 3,
     "solution": false,
     "task": false
    }
   },
   "source": [
    "That's it! Congratulations for reaching the end of this practicum :)"
   ]
  }
 ],
 "metadata": {
  "kernelspec": {
   "display_name": "Python 3 (ipykernel)",
   "language": "python",
   "name": "python3"
  },
  "language_info": {
   "codemirror_mode": {
    "name": "ipython",
    "version": 3
   },
   "file_extension": ".py",
   "mimetype": "text/x-python",
   "name": "python",
   "nbconvert_exporter": "python",
   "pygments_lexer": "ipython3",
   "version": "3.10.14"
  }
 },
 "nbformat": 4,
 "nbformat_minor": 4
}
